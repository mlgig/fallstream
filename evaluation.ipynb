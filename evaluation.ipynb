{
 "cells": [
  {
   "cell_type": "markdown",
   "id": "832086c1",
   "metadata": {},
   "source": [
    "### Imports"
   ]
  },
  {
   "cell_type": "code",
   "execution_count": 1,
   "id": "71c015bc",
   "metadata": {},
   "outputs": [
    {
     "name": "stderr",
     "output_type": "stream",
     "text": [
      "2025-08-05 22:57:55.206999: E external/local_xla/xla/stream_executor/cuda/cuda_dnn.cc:9261] Unable to register cuDNN factory: Attempting to register factory for plugin cuDNN when one has already been registered\n",
      "2025-08-05 22:57:55.207041: E external/local_xla/xla/stream_executor/cuda/cuda_fft.cc:607] Unable to register cuFFT factory: Attempting to register factory for plugin cuFFT when one has already been registered\n",
      "2025-08-05 22:57:55.207857: E external/local_xla/xla/stream_executor/cuda/cuda_blas.cc:1515] Unable to register cuBLAS factory: Attempting to register factory for plugin cuBLAS when one has already been registered\n"
     ]
    }
   ],
   "source": [
    "import os\n",
    "os.environ[\"TF_CPP_MIN_LOG_LEVEL\"] = \"2\"\n",
    "# Values:\n",
    "# 0 = all logs (default)\n",
    "# 1 = filter out INFO\n",
    "# 2 = filter out INFO and WARNING\n",
    "\n",
    "import joblib, json, time, numpy as np, pandas as pd\n",
    "import matplotlib.pyplot as plt\n",
    "import seaborn as sns\n",
    "from pathlib import Path\n",
    "import warnings\n",
    "warnings.simplefilter(action='ignore', category=FutureWarning)\n",
    "warnings.simplefilter(action='ignore', category=UserWarning)\n",
    "%load_ext autoreload\n",
    "%autoreload 2\n",
    "from scripts import farseeing as fs\n",
    "from scripts import utils\n",
    "from scripts.models import get_model_specs\n",
    "from scripts.model_runner import run_models\n",
    "from scripts.metric import compute_row, aggregate\n",
    "from scripts.plotting import metric_grid, metric_box\n",
    "\n",
    "# Directories\n",
    "RES_DIR = Path(\"results\"); RES_DIR.mkdir(exist_ok=True)\n",
    "FIG_DIR = Path(\"figs\"); FIG_DIR.mkdir(exist_ok=True)\n",
    "CACHE = RES_DIR / \"model_cache\"; CACHE.mkdir(exist_ok=True)"
   ]
  },
  {
   "cell_type": "markdown",
   "id": "47cd2aa3",
   "metadata": {},
   "source": [
    "### Experiment Grid"
   ]
  },
  {
   "cell_type": "code",
   "execution_count": 2,
   "id": "54f6b50c",
   "metadata": {},
   "outputs": [
    {
     "name": "stdout",
     "output_type": "stream",
     "text": [
      "Random seeds: [0, 1, 2]\n"
     ]
    }
   ],
   "source": [
    "WINDOW_SIZES = [3, 5, 7, 10, 15, 30, 60] # seconds\n",
    "MODEL_SPECS = get_model_specs() # all models\n",
    "# SEEDS = np.random.RandomState(14).choice(\n",
    "# \tnp.arange(10), size=3, replace=False).tolist()\n",
    "SEEDS = [0, 1, 2] # for reproducibility\n",
    "CV_FOLDS = 5\n",
    "WINDOW_FREQ = 100 #Hz\n",
    "print(f\"Random seeds: {SEEDS}\")"
   ]
  },
  {
   "cell_type": "markdown",
   "id": "97f33f1e",
   "metadata": {},
   "source": [
    "### Train/Test Subject Split\n",
    "To avoid data leakage, we separate some subjects for final testing and use the training set only for cross-validation."
   ]
  },
  {
   "cell_type": "code",
   "execution_count": 3,
   "id": "2ec0610a",
   "metadata": {},
   "outputs": [
    {
     "name": "stdout",
     "output_type": "stream",
     "text": [
      "Loaded train/test subjects from subjects.json\n"
     ]
    }
   ],
   "source": [
    "# Load train and test data if available, otherwise compute\n",
    "try:\n",
    "\tsubjects = json.load((open(RES_DIR/\"subjects.json\", \"r\")))\n",
    "\tTRAIN_SUBJ = subjects['train']\n",
    "\tTEST_SUBJ = subjects['test']\n",
    "\tprint(\"Loaded train/test subjects from subjects.json\")\n",
    "except FileNotFoundError:\n",
    "\tprint(\"No subjects.json found, computing train/test split...\")\n",
    "\tTRAIN_SUBJ, TEST_SUBJ = utils.train_test_subjects_split(\n",
    "\t\tfs, test_size=0.2, random_state=42)\n",
    "\tjson.dump({\"train\": TRAIN_SUBJ.tolist(), \"test\": TEST_SUBJ.tolist()},\n",
    "\t\t\t  open(RES_DIR/\"subjects.json\", \"w\"))"
   ]
  },
  {
   "cell_type": "markdown",
   "id": "35c524de",
   "metadata": {},
   "source": [
    "### Initial Cross-validation and Window Size Selection"
   ]
  },
  {
   "cell_type": "code",
   "execution_count": 4,
   "id": "35546187",
   "metadata": {},
   "outputs": [],
   "source": [
    "train_df = fs.load().query(\"SubjectID in @TRAIN_SUBJ\")"
   ]
  },
  {
   "cell_type": "code",
   "execution_count": 5,
   "id": "f442cef7",
   "metadata": {},
   "outputs": [],
   "source": [
    "from scripts.cv_runner import CVRunner\n",
    "\n",
    "dummy_specs = get_model_specs(kind=\"baseline\")\n",
    "DUMMY_CV_ROWS = []\n",
    "kwargs = dict(\n",
    "\tmultiphase=True,\n",
    "\tsegment_test=False,\n",
    "\tthresh=1.4\n",
    ")\n",
    "run_kwargs = dict(\n",
    "\tverbose=True,\n",
    "    model_specs=dummy_specs,\n",
    "    ensemble_models=True,         \n",
    "    ensemble_by_kind=True                  \n",
    ")"
   ]
  },
  {
   "cell_type": "markdown",
   "id": "cb22bd11",
   "metadata": {},
   "source": [
    "Baseline models"
   ]
  },
  {
   "cell_type": "code",
   "execution_count": null,
   "id": "5a02c912",
   "metadata": {},
   "outputs": [
    {
     "name": "stdout",
     "output_type": "stream",
     "text": [
      "Running CV for window size 3 seconds\n",
      "\n",
      "– Fold 1/5: testing on 7 subjects –\n",
      "Train set: 102 samples, Test set: 22 samples\n",
      "Train set: X: (1080, 300), y: (1080,)    ([ADLs, Falls]) [978 102]\n",
      "Test set: X: 22, y: 22\n",
      "TRAINING (seed=0) DummyADL. DummyFall. ✅\n",
      "TESTING DummyADL_0. DummyFall_0. ✅\n",
      "\n",
      "– Fold 2/5: testing on 7 subjects –\n",
      "Train set: 87 samples, Test set: 37 samples\n",
      "Train set: X: (1140, 300), y: (1140,)    ([ADLs, Falls]) [1053   87]\n",
      "Test set: X: 37, y: 37\n",
      "TRAINING (seed=0) DummyADL. DummyFall. ✅\n",
      "TESTING DummyADL_0. DummyFall_0. ✅\n",
      "\n",
      "– Fold 3/5: testing on 6 subjects –\n",
      "Train set: 113 samples, Test set: 11 samples\n",
      "Train set: X: (969, 300), y: (969,)    ([ADLs, Falls]) [856 113]\n",
      "Test set: X: 11, y: 11\n",
      "TRAINING (seed=0) DummyADL. DummyFall. ✅\n",
      "TESTING DummyADL_0. DummyFall_0. ✅\n",
      "\n",
      "– Fold 4/5: testing on 6 subjects –\n",
      "Train set: 108 samples, Test set: 16 samples\n",
      "Train set: X: (1182, 300), y: (1182,)    ([ADLs, Falls]) [1074  108]\n",
      "Test set: X: 16, y: 16\n",
      "TRAINING (seed=0) DummyADL. DummyFall. ✅\n",
      "TESTING DummyADL_0. DummyFall_0. ✅\n",
      "\n",
      "– Fold 5/5: testing on 6 subjects –\n",
      "Train set: 86 samples, Test set: 38 samples\n",
      "Train set: X: (713, 300), y: (713,)    ([ADLs, Falls]) [627  86]\n",
      "Test set: X: 38, y: 38\n",
      "TRAINING (seed=0) DummyADL. DummyFall. ✅\n",
      "TESTING DummyADL_0. DummyFall_0. ✅\n",
      "Running CV for window size 5 seconds\n",
      "\n",
      "– Fold 1/5: testing on 7 subjects –\n",
      "Train set: 102 samples, Test set: 22 samples\n",
      "Train set: X: (1063, 500), y: (1063,)    ([ADLs, Falls]) [961 102]\n",
      "Test set: X: 22, y: 22\n",
      "TRAINING (seed=0) DummyADL. DummyFall. ✅\n",
      "TESTING DummyADL_0. DummyFall_0. ✅\n",
      "\n",
      "– Fold 2/5: testing on 7 subjects –\n",
      "Train set: 87 samples, Test set: 37 samples\n",
      "Train set: X: (1124, 500), y: (1124,)    ([ADLs, Falls]) [1037   87]\n",
      "Test set: X: 37, y: 37\n",
      "TRAINING (seed=0) DummyADL. DummyFall. ✅\n",
      "TESTING DummyADL_0. DummyFall_0. ✅\n",
      "\n",
      "– Fold 3/5: testing on 6 subjects –\n",
      "Train set: 113 samples, Test set: 11 samples\n",
      "Train set: X: (949, 500), y: (949,)    ([ADLs, Falls]) [836 113]\n",
      "Test set: X: 11, y: 11\n",
      "TRAINING (seed=0) DummyADL. DummyFall. ✅\n",
      "TESTING DummyADL_0. DummyFall_0. ✅\n",
      "\n",
      "– Fold 4/5: testing on 6 subjects –\n",
      "Train set: 108 samples, Test set: 16 samples\n",
      "Train set: X: (1165, 500), y: (1165,)    ([ADLs, Falls]) [1057  108]\n",
      "Test set: X: 16, y: 16\n",
      "TRAINING (seed=0) DummyADL. DummyFall. ✅\n",
      "TESTING DummyADL_0. DummyFall_0. ✅\n",
      "\n",
      "– Fold 5/5: testing on 6 subjects –\n",
      "Train set: 86 samples, Test set: 38 samples\n",
      "Train set: X: (703, 500), y: (703,)    ([ADLs, Falls]) [617  86]\n",
      "Test set: X: 38, y: 38\n",
      "TRAINING (seed=0) DummyADL. DummyFall. ✅\n",
      "TESTING DummyADL_0. DummyFall_0. ✅\n",
      "Running CV for window size 7 seconds\n",
      "\n",
      "– Fold 1/5: testing on 7 subjects –\n",
      "Train set: 102 samples, Test set: 22 samples\n",
      "Train set: X: (1052, 700), y: (1052,)    ([ADLs, Falls]) [950 102]\n",
      "Test set: X: 22, y: 22\n",
      "TRAINING (seed=0) DummyADL. DummyFall. ✅\n",
      "TESTING DummyADL_0. DummyFall_0. ✅\n",
      "\n",
      "– Fold 2/5: testing on 7 subjects –\n",
      "Train set: 87 samples, Test set: 37 samples\n",
      "Train set: X: (1114, 700), y: (1114,)    ([ADLs, Falls]) [1027   87]\n",
      "Test set: X: 37, y: 37\n",
      "TRAINING (seed=0) DummyADL. DummyFall. ✅\n",
      "TESTING DummyADL_0. DummyFall_0. ✅\n",
      "\n",
      "– Fold 3/5: testing on 6 subjects –\n",
      "Train set: 113 samples, Test set: 11 samples\n",
      "Train set: X: (940, 700), y: (940,)    ([ADLs, Falls]) [827 113]\n",
      "Test set: X: 11, y: 11\n",
      "TRAINING (seed=0) DummyADL. DummyFall. ✅\n",
      "TESTING DummyADL_0. DummyFall_0. ✅\n",
      "\n",
      "– Fold 4/5: testing on 6 subjects –\n",
      "Train set: 108 samples, Test set: 16 samples\n",
      "Train set: X: (1154, 700), y: (1154,)    ([ADLs, Falls]) [1046  108]\n",
      "Test set: X: 16, y: 16\n",
      "TRAINING (seed=0) DummyADL. DummyFall. ✅\n",
      "TESTING DummyADL_0. DummyFall_0. ✅\n",
      "\n",
      "– Fold 5/5: testing on 6 subjects –\n",
      "Train set: 86 samples, Test set: 38 samples\n",
      "Train set: X: (700, 700), y: (700,)    ([ADLs, Falls]) [614  86]\n",
      "Test set: X: 38, y: 38\n",
      "TRAINING (seed=0) DummyADL. DummyFall. ✅\n",
      "TESTING DummyADL_0. DummyFall_0. ✅\n",
      "Running CV for window size 10 seconds\n",
      "\n",
      "– Fold 1/5: testing on 7 subjects –\n",
      "Train set: 102 samples, Test set: 22 samples\n",
      "Train set: X: (1027, 1000), y: (1027,)    ([ADLs, Falls]) [925 102]\n",
      "Test set: X: 22, y: 22\n",
      "TRAINING (seed=0) DummyADL. DummyFall. ✅\n",
      "TESTING DummyADL_0. DummyFall_0. ✅\n",
      "\n",
      "– Fold 2/5: testing on 7 subjects –\n",
      "Train set: 87 samples, Test set: 37 samples\n",
      "Train set: X: (1090, 1000), y: (1090,)    ([ADLs, Falls]) [1003   87]\n",
      "Test set: X: 37, y: 37\n",
      "TRAINING (seed=0) DummyADL. DummyFall. ✅\n",
      "TESTING DummyADL_0. DummyFall_0. ✅\n",
      "\n",
      "– Fold 3/5: testing on 6 subjects –\n",
      "Train set: 113 samples, Test set: 11 samples\n",
      "Train set: X: (918, 1000), y: (918,)    ([ADLs, Falls]) [805 113]\n",
      "Test set: X: 11, y: 11\n",
      "TRAINING (seed=0) DummyADL. DummyFall. ✅\n",
      "TESTING DummyADL_0. DummyFall_0. ✅\n",
      "\n",
      "– Fold 4/5: testing on 6 subjects –\n",
      "Train set: 108 samples, Test set: 16 samples\n",
      "Train set: X: (1129, 1000), y: (1129,)    ([ADLs, Falls]) [1021  108]\n",
      "Test set: X: 16, y: 16\n",
      "TRAINING (seed=0) DummyADL. DummyFall. ✅\n",
      "TESTING DummyADL_0. DummyFall_0. ✅\n",
      "\n",
      "– Fold 5/5: testing on 6 subjects –\n",
      "Train set: 86 samples, Test set: 38 samples\n",
      "Train set: X: (688, 1000), y: (688,)    ([ADLs, Falls]) [602  86]\n",
      "Test set: X: 38, y: 38\n",
      "TRAINING (seed=0) DummyADL. DummyFall. ✅\n",
      "TESTING DummyADL_0. DummyFall_0. ✅\n",
      "Running CV for window size 15 seconds\n",
      "\n",
      "– Fold 1/5: testing on 7 subjects –\n",
      "Train set: 102 samples, Test set: 22 samples\n",
      "Train set: X: (998, 1500), y: (998,)    ([ADLs, Falls]) [896 102]\n",
      "Test set: X: 22, y: 22\n",
      "TRAINING (seed=0) DummyADL. DummyFall. ✅\n",
      "TESTING DummyADL_0. DummyFall_0. ✅\n",
      "\n",
      "– Fold 2/5: testing on 7 subjects –\n",
      "Train set: 87 samples, Test set: 37 samples\n",
      "Train set: X: (1057, 1500), y: (1057,)    ([ADLs, Falls]) [970  87]\n",
      "Test set: X: 37, y: 37\n",
      "TRAINING (seed=0) DummyADL. DummyFall. ✅\n",
      "TESTING DummyADL_0. DummyFall_0. ✅\n",
      "\n",
      "– Fold 3/5: testing on 6 subjects –\n",
      "Train set: 113 samples, Test set: 11 samples\n",
      "Train set: X: (889, 1500), y: (889,)    ([ADLs, Falls]) [776 113]\n",
      "Test set: X: 11, y: 11\n",
      "TRAINING (seed=0) DummyADL. DummyFall. ✅\n",
      "TESTING DummyADL_0. DummyFall_0. ✅\n",
      "\n",
      "– Fold 4/5: testing on 6 subjects –\n",
      "Train set: 108 samples, Test set: 16 samples\n",
      "Train set: X: (1096, 1500), y: (1096,)    ([ADLs, Falls]) [988 108]\n",
      "Test set: X: 16, y: 16\n",
      "TRAINING (seed=0) DummyADL. DummyFall. ✅\n",
      "TESTING DummyADL_0. DummyFall_0. ✅\n",
      "\n",
      "– Fold 5/5: testing on 6 subjects –\n",
      "Train set: 86 samples, Test set: 38 samples\n",
      "Train set: X: (676, 1500), y: (676,)    ([ADLs, Falls]) [590  86]\n",
      "Test set: X: 38, y: 38\n",
      "TRAINING (seed=0) DummyADL. DummyFall. ✅\n",
      "TESTING DummyADL_0. DummyFall_0. ✅\n",
      "Running CV for window size 30 seconds\n",
      "\n",
      "– Fold 1/5: testing on 7 subjects –\n",
      "Train set: 102 samples, Test set: 22 samples\n",
      "Train set: X: (957, 3000), y: (957,)    ([ADLs, Falls]) [855 102]\n",
      "Test set: X: 22, y: 22\n",
      "TRAINING (seed=0) DummyADL. DummyFall. ✅\n",
      "TESTING DummyADL_0. DummyFall_0. ✅\n",
      "\n",
      "– Fold 2/5: testing on 7 subjects –\n",
      "Train set: 87 samples, Test set: 37 samples\n",
      "Train set: X: (1018, 3000), y: (1018,)    ([ADLs, Falls]) [931  87]\n",
      "Test set: X: 37, y: 37\n",
      "TRAINING (seed=0) DummyADL. DummyFall. ✅\n",
      "TESTING DummyADL_0. DummyFall_0. ✅\n",
      "\n",
      "– Fold 3/5: testing on 6 subjects –\n",
      "Train set: 113 samples, Test set: 11 samples\n",
      "Train set: X: (847, 3000), y: (847,)    ([ADLs, Falls]) [734 113]\n",
      "Test set: X: 11, y: 11\n",
      "TRAINING (seed=0) DummyADL. DummyFall. ✅\n",
      "TESTING DummyADL_0. DummyFall_0. ✅\n",
      "\n",
      "– Fold 4/5: testing on 6 subjects –\n",
      "Train set: 108 samples, Test set: 16 samples\n",
      "Train set: X: (1057, 3000), y: (1057,)    ([ADLs, Falls]) [949 108]\n",
      "Test set: X: 16, y: 16\n",
      "TRAINING (seed=0) DummyADL. DummyFall. ✅\n",
      "TESTING DummyADL_0. DummyFall_0. ✅\n",
      "\n",
      "– Fold 5/5: testing on 6 subjects –\n",
      "Train set: 86 samples, Test set: 38 samples\n",
      "Train set: X: (657, 3000), y: (657,)    ([ADLs, Falls]) [571  86]\n",
      "Test set: X: 38, y: 38\n",
      "TRAINING (seed=0) DummyADL. DummyFall. ✅\n",
      "TESTING DummyADL_0. DummyFall_0. ✅\n",
      "Running CV for window size 60 seconds\n",
      "\n",
      "– Fold 1/5: testing on 7 subjects –\n",
      "Train set: 102 samples, Test set: 22 samples\n",
      "Train set: X: (864, 6000), y: (864,)    ([ADLs, Falls]) [762 102]\n",
      "Test set: X: 22, y: 22\n",
      "TRAINING (seed=0) DummyADL. DummyFall. ✅\n",
      "TESTING DummyADL_0. DummyFall_0. ✅\n",
      "\n",
      "– Fold 2/5: testing on 7 subjects –\n",
      "Train set: 87 samples, Test set: 37 samples\n",
      "Train set: X: (927, 6000), y: (927,)    ([ADLs, Falls]) [840  87]\n",
      "Test set: X: 37, y: 37\n",
      "TRAINING (seed=0) DummyADL. DummyFall. ✅\n",
      "TESTING DummyADL_0. DummyFall_0. ✅\n",
      "\n",
      "– Fold 3/5: testing on 6 subjects –\n",
      "Train set: 113 samples, Test set: 11 samples\n",
      "Train set: X: (771, 6000), y: (771,)    ([ADLs, Falls]) [658 113]\n",
      "Test set: X: 11, y: 11\n",
      "TRAINING (seed=0) DummyADL. DummyFall. ✅\n",
      "TESTING DummyADL_0. DummyFall_0. ✅\n",
      "\n",
      "– Fold 4/5: testing on 6 subjects –\n",
      "Train set: 108 samples, Test set: 16 samples\n",
      "Train set: X: (973, 6000), y: (973,)    ([ADLs, Falls]) [865 108]\n",
      "Test set: X: 16, y: 16\n",
      "TRAINING (seed=0) DummyADL. DummyFall. ✅\n",
      "TESTING DummyADL_0. DummyFall_0. ✅\n",
      "\n",
      "– Fold 5/5: testing on 6 subjects –\n",
      "Train set: 86 samples, Test set: 38 samples\n",
      "Train set: X: (621, 6000), y: (621,)    ([ADLs, Falls]) [535  86]\n",
      "Test set: X: 38, y: 38\n",
      "TRAINING (seed=0) DummyADL. DummyFall. ✅\n",
      "TESTING DummyADL_0. DummyFall_0. ✅\n"
     ]
    }
   ],
   "source": [
    "for win in WINDOW_SIZES:\n",
    "\tprint(f\"Running CV for window size {win} seconds\")\n",
    "\trunner = CVRunner(\n",
    "        df=train_df,\n",
    "        dataset=fs,\n",
    "        groups=\"SubjectID\",\n",
    "        split_df_fn=utils.split_df,\n",
    "        run_models_fn=run_models,\n",
    "        window_size=win,\n",
    "        cv=CV_FOLDS,\n",
    "        kwargs=kwargs\n",
    "    )\n",
    "\tdummy_fold_df = runner.run(**run_kwargs)\n",
    "\tdummy_fold_df[\"window_size\"] = win\n",
    "\tDUMMY_CV_ROWS.append(dummy_fold_df)\n",
    "dummy_cv_metrics = pd.concat(DUMMY_CV_ROWS, ignore_index=True)\n",
    "dummy_cv_metrics.to_csv(RES_DIR / \"dummy_cv_all_windows.csv\", index=False)"
   ]
  },
  {
   "cell_type": "markdown",
   "id": "ab3c57a9",
   "metadata": {},
   "source": [
    "Real models"
   ]
  },
  {
   "cell_type": "code",
   "execution_count": null,
   "id": "2181c402",
   "metadata": {},
   "outputs": [
    {
     "name": "stderr",
     "output_type": "stream",
     "text": [
      "2025-08-01 14:40:53,593 [INFO] Training models (seed=0)\n"
     ]
    },
    {
     "name": "stdout",
     "output_type": "stream",
     "text": [
      "Running CV for window size 3 seconds\n",
      "\n",
      "– Fold 1/5: testing on 7 subjects –\n",
      "Train set: 102 samples, Test set: 22 samples\n",
      "Train set: X: (1080, 300), y: (1080,)    ([ADLs, Falls]) [978 102]\n",
      "Test set: X: 22, y: 22\n"
     ]
    },
    {
     "name": "stderr",
     "output_type": "stream",
     "text": [
      "Training (seed=0):  86%|████████▌ | 6/7 [00:05<00:01,  1.18s/it]WARNING: All log messages before absl::InitializeLog() is called are written to STDERR\n",
      "I0000 00:00:1754059269.375488   24650 device_compiler.h:186] Compiled cluster using XLA!  This line is logged at most once for the lifetime of the process.\n",
      "Training (seed=0): 100%|██████████| 7/7 [01:08<00:00,  9.74s/it]\n",
      "Evaluating models:  86%|████████▌ | 6/7 [00:28<00:06,  6.59s/it]"
     ]
    },
    {
     "name": "stdout",
     "output_type": "stream",
     "text": [
      "19/19 [==============================] - 4s 105ms/step\n",
      "19/19 [==============================] - 0s 3ms/step\n",
      "19/19 [==============================] - 0s 3ms/step\n",
      "19/19 [==============================] - 0s 3ms/step\n",
      "19/19 [==============================] - 0s 3ms/step\n",
      "19/19 [==============================] - 0s 3ms/step\n",
      "19/19 [==============================] - 0s 3ms/step\n",
      "19/19 [==============================] - 0s 3ms/step\n",
      "19/19 [==============================] - 0s 3ms/step\n",
      "19/19 [==============================] - 0s 3ms/step\n",
      "19/19 [==============================] - 0s 3ms/step\n",
      "19/19 [==============================] - 0s 3ms/step\n",
      "19/19 [==============================] - 0s 3ms/step\n",
      "19/19 [==============================] - 0s 3ms/step\n",
      "19/19 [==============================] - 0s 3ms/step\n",
      "19/19 [==============================] - 0s 3ms/step\n",
      "19/19 [==============================] - 0s 3ms/step\n",
      "19/19 [==============================] - 0s 3ms/step\n",
      "19/19 [==============================] - 0s 3ms/step\n",
      "19/19 [==============================] - 0s 3ms/step\n",
      "19/19 [==============================] - 0s 3ms/step\n",
      "19/19 [==============================] - 0s 3ms/step\n"
     ]
    },
    {
     "name": "stderr",
     "output_type": "stream",
     "text": [
      "Evaluating models: 100%|██████████| 7/7 [00:36<00:00,  5.25s/it]\n",
      "2025-08-01 14:42:38,585 [INFO] ✅ Evaluation complete\n"
     ]
    },
    {
     "name": "stdout",
     "output_type": "stream",
     "text": [
      "\n",
      "– Fold 2/5: testing on 7 subjects –\n"
     ]
    },
    {
     "name": "stderr",
     "output_type": "stream",
     "text": [
      "2025-08-01 14:42:38,645 [INFO] Training models (seed=0)\n"
     ]
    },
    {
     "name": "stdout",
     "output_type": "stream",
     "text": [
      "Train set: 87 samples, Test set: 37 samples\n",
      "Train set: X: (1140, 300), y: (1140,)    ([ADLs, Falls]) [1053   87]\n",
      "Test set: X: 37, y: 37\n"
     ]
    },
    {
     "name": "stderr",
     "output_type": "stream",
     "text": [
      "Training (seed=0): 100%|██████████| 7/7 [00:43<00:00,  6.27s/it]\n",
      "Evaluating models:  86%|████████▌ | 6/7 [00:42<00:10, 10.20s/it]"
     ]
    },
    {
     "name": "stdout",
     "output_type": "stream",
     "text": [
      "19/19 [==============================] - 0s 3ms/step\n",
      "19/19 [==============================] - 0s 3ms/step\n",
      "19/19 [==============================] - 0s 3ms/step\n",
      "19/19 [==============================] - 0s 3ms/step\n",
      "19/19 [==============================] - 0s 3ms/step\n",
      "19/19 [==============================] - 0s 3ms/step\n",
      "19/19 [==============================] - 0s 3ms/step\n",
      "19/19 [==============================] - 0s 3ms/step\n",
      "19/19 [==============================] - 0s 3ms/step\n",
      "19/19 [==============================] - 0s 3ms/step\n",
      "19/19 [==============================] - 0s 3ms/step\n",
      "19/19 [==============================] - 0s 3ms/step\n",
      "19/19 [==============================] - 0s 3ms/step\n",
      "19/19 [==============================] - 0s 3ms/step\n",
      "19/19 [==============================] - 0s 3ms/step\n",
      "19/19 [==============================] - 0s 3ms/step\n",
      "19/19 [==============================] - 0s 3ms/step\n",
      "19/19 [==============================] - 0s 3ms/step\n",
      "19/19 [==============================] - 0s 3ms/step\n",
      "19/19 [==============================] - 0s 3ms/step\n",
      "19/19 [==============================] - 0s 3ms/step\n",
      "19/19 [==============================] - 0s 3ms/step\n",
      "19/19 [==============================] - 0s 3ms/step\n",
      "19/19 [==============================] - 0s 3ms/step\n",
      "19/19 [==============================] - 0s 3ms/step\n",
      "19/19 [==============================] - 0s 3ms/step\n",
      "19/19 [==============================] - 0s 3ms/step\n",
      "19/19 [==============================] - 0s 3ms/step\n",
      "19/19 [==============================] - 0s 3ms/step\n",
      "19/19 [==============================] - 0s 3ms/step\n",
      "19/19 [==============================] - 0s 3ms/step\n",
      "19/19 [==============================] - 0s 3ms/step\n",
      "19/19 [==============================] - 0s 3ms/step\n",
      "19/19 [==============================] - 0s 3ms/step\n"
     ]
    },
    {
     "name": "stderr",
     "output_type": "stream",
     "text": [
      "Evaluating models: 100%|██████████| 7/7 [00:50<00:00,  7.16s/it]\n",
      "2025-08-01 14:44:12,774 [INFO] ✅ Evaluation complete\n"
     ]
    },
    {
     "name": "stdout",
     "output_type": "stream",
     "text": [
      "\n",
      "– Fold 3/5: testing on 6 subjects –\n"
     ]
    },
    {
     "name": "stderr",
     "output_type": "stream",
     "text": [
      "2025-08-01 14:44:12,795 [INFO] Training models (seed=0)\n"
     ]
    },
    {
     "name": "stdout",
     "output_type": "stream",
     "text": [
      "Train set: 113 samples, Test set: 11 samples\n",
      "Train set: X: (969, 300), y: (969,)    ([ADLs, Falls]) [856 113]\n",
      "Test set: X: 11, y: 11\n"
     ]
    },
    {
     "name": "stderr",
     "output_type": "stream",
     "text": [
      "Training (seed=0): 100%|██████████| 7/7 [00:53<00:00,  7.61s/it]\n",
      "Evaluating models:  86%|████████▌ | 6/7 [00:11<00:02,  2.22s/it]"
     ]
    },
    {
     "name": "stdout",
     "output_type": "stream",
     "text": [
      "19/19 [==============================] - 0s 3ms/step\n",
      "19/19 [==============================] - 0s 3ms/step\n",
      "19/19 [==============================] - 0s 3ms/step\n",
      "19/19 [==============================] - 0s 3ms/step\n",
      "19/19 [==============================] - 0s 3ms/step\n",
      "19/19 [==============================] - 0s 3ms/step\n",
      "19/19 [==============================] - 0s 3ms/step\n",
      "19/19 [==============================] - 0s 3ms/step\n",
      "19/19 [==============================] - 0s 3ms/step\n"
     ]
    },
    {
     "name": "stderr",
     "output_type": "stream",
     "text": [
      "Evaluating models: 100%|██████████| 7/7 [00:13<00:00,  1.88s/it]\n",
      "2025-08-01 14:45:19,257 [INFO] ✅ Evaluation complete\n",
      "2025-08-01 14:45:19,293 [INFO] Training models (seed=0)\n"
     ]
    },
    {
     "name": "stdout",
     "output_type": "stream",
     "text": [
      "\n",
      "– Fold 4/5: testing on 6 subjects –\n",
      "Train set: 108 samples, Test set: 16 samples\n",
      "Train set: X: (1182, 300), y: (1182,)    ([ADLs, Falls]) [1074  108]\n",
      "Test set: X: 16, y: 16\n"
     ]
    },
    {
     "name": "stderr",
     "output_type": "stream",
     "text": [
      "Training (seed=0): 100%|██████████| 7/7 [01:14<00:00, 10.62s/it]\n",
      "Evaluating models:  86%|████████▌ | 6/7 [00:18<00:04,  4.29s/it]"
     ]
    },
    {
     "name": "stdout",
     "output_type": "stream",
     "text": [
      "19/19 [==============================] - 0s 3ms/step\n",
      "19/19 [==============================] - 0s 3ms/step\n",
      "19/19 [==============================] - 0s 3ms/step\n",
      "19/19 [==============================] - 0s 3ms/step\n",
      "19/19 [==============================] - 0s 3ms/step\n",
      "19/19 [==============================] - 0s 3ms/step\n",
      "19/19 [==============================] - 0s 3ms/step\n",
      "19/19 [==============================] - 0s 3ms/step\n",
      "19/19 [==============================] - 0s 3ms/step\n",
      "19/19 [==============================] - 0s 3ms/step\n",
      "19/19 [==============================] - 0s 3ms/step\n",
      "19/19 [==============================] - 0s 3ms/step\n",
      "19/19 [==============================] - 0s 3ms/step\n",
      "19/19 [==============================] - 0s 3ms/step\n",
      "19/19 [==============================] - 0s 3ms/step\n"
     ]
    },
    {
     "name": "stderr",
     "output_type": "stream",
     "text": [
      "Evaluating models: 100%|██████████| 7/7 [00:21<00:00,  3.06s/it]\n",
      "2025-08-01 14:46:55,074 [INFO] ✅ Evaluation complete\n",
      "2025-08-01 14:46:55,099 [INFO] Training models (seed=0)\n"
     ]
    },
    {
     "name": "stdout",
     "output_type": "stream",
     "text": [
      "\n",
      "– Fold 5/5: testing on 6 subjects –\n",
      "Train set: 86 samples, Test set: 38 samples\n",
      "Train set: X: (713, 300), y: (713,)    ([ADLs, Falls]) [627  86]\n",
      "Test set: X: 38, y: 38\n"
     ]
    },
    {
     "name": "stderr",
     "output_type": "stream",
     "text": [
      "Training (seed=0): 100%|██████████| 7/7 [00:39<00:00,  5.60s/it]\n",
      "Evaluating models:  86%|████████▌ | 6/7 [00:46<00:10, 10.98s/it]"
     ]
    },
    {
     "name": "stdout",
     "output_type": "stream",
     "text": [
      "19/19 [==============================] - 0s 3ms/step\n",
      "19/19 [==============================] - 0s 3ms/step\n",
      "19/19 [==============================] - 0s 3ms/step\n",
      "19/19 [==============================] - 0s 3ms/step\n",
      "19/19 [==============================] - 0s 3ms/step\n",
      "19/19 [==============================] - 1s 66ms/step\n",
      "19/19 [==============================] - 0s 3ms/step\n",
      "19/19 [==============================] - 0s 3ms/step\n",
      "19/19 [==============================] - 0s 3ms/step\n",
      "19/19 [==============================] - 0s 3ms/step\n",
      "19/19 [==============================] - 0s 3ms/step\n",
      "19/19 [==============================] - 0s 3ms/step\n",
      "19/19 [==============================] - 0s 3ms/step\n",
      "19/19 [==============================] - 0s 3ms/step\n",
      "19/19 [==============================] - 0s 3ms/step\n",
      "19/19 [==============================] - 0s 3ms/step\n",
      "19/19 [==============================] - 0s 3ms/step\n",
      "19/19 [==============================] - 0s 3ms/step\n",
      "19/19 [==============================] - 0s 3ms/step\n",
      "19/19 [==============================] - 0s 3ms/step\n",
      "19/19 [==============================] - 0s 3ms/step\n",
      "19/19 [==============================] - 0s 3ms/step\n",
      "19/19 [==============================] - 0s 3ms/step\n",
      "19/19 [==============================] - 0s 3ms/step\n",
      "19/19 [==============================] - 0s 3ms/step\n",
      "19/19 [==============================] - 0s 3ms/step\n",
      "19/19 [==============================] - 0s 3ms/step\n",
      "19/19 [==============================] - 0s 3ms/step\n",
      "19/19 [==============================] - 0s 3ms/step\n",
      "19/19 [==============================] - 0s 3ms/step\n",
      "19/19 [==============================] - 0s 3ms/step\n",
      "19/19 [==============================] - 0s 3ms/step\n",
      "19/19 [==============================] - 0s 3ms/step\n",
      "19/19 [==============================] - 0s 3ms/step\n",
      "16/16 [==============================] - 1s 60ms/step\n",
      "19/19 [==============================] - 0s 3ms/step\n",
      "19/19 [==============================] - 0s 3ms/step\n"
     ]
    },
    {
     "name": "stderr",
     "output_type": "stream",
     "text": [
      "Evaluating models: 100%|██████████| 7/7 [00:56<00:00,  8.00s/it]\n",
      "2025-08-01 14:48:30,420 [INFO] ✅ Evaluation complete\n"
     ]
    },
    {
     "name": "stdout",
     "output_type": "stream",
     "text": [
      "Running CV for window size 5 seconds\n",
      "\n",
      "– Fold 1/5: testing on 7 subjects –\n",
      "Train set: 102 samples, Test set: 22 samples\n",
      "Train set: X: (1063, 500), y: (1063,)    ([ADLs, Falls])"
     ]
    },
    {
     "name": "stderr",
     "output_type": "stream",
     "text": [
      "2025-08-01 14:48:30,492 [INFO] Training models (seed=0)\n"
     ]
    },
    {
     "name": "stdout",
     "output_type": "stream",
     "text": [
      " [961 102]\n",
      "Test set: X: 22, y: 22\n"
     ]
    },
    {
     "name": "stderr",
     "output_type": "stream",
     "text": [
      "Training (seed=0): 100%|██████████| 7/7 [01:27<00:00, 12.56s/it]\n",
      "Evaluating models:  86%|████████▌ | 6/7 [00:36<00:08,  8.69s/it]"
     ]
    },
    {
     "name": "stdout",
     "output_type": "stream",
     "text": [
      "19/19 [==============================] - 4s 109ms/step\n",
      "19/19 [==============================] - 0s 3ms/step\n",
      "19/19 [==============================] - 0s 4ms/step\n",
      "19/19 [==============================] - 0s 3ms/step\n",
      "19/19 [==============================] - 0s 4ms/step\n",
      "19/19 [==============================] - 0s 4ms/step\n",
      "19/19 [==============================] - 0s 4ms/step\n",
      "19/19 [==============================] - 0s 4ms/step\n",
      "19/19 [==============================] - 0s 4ms/step\n",
      "19/19 [==============================] - 0s 4ms/step\n",
      "19/19 [==============================] - 0s 4ms/step\n",
      "19/19 [==============================] - 0s 4ms/step\n",
      "19/19 [==============================] - 0s 4ms/step\n",
      "19/19 [==============================] - 0s 4ms/step\n",
      "19/19 [==============================] - 0s 4ms/step\n",
      "19/19 [==============================] - 0s 4ms/step\n",
      "19/19 [==============================] - 0s 3ms/step\n",
      "19/19 [==============================] - 0s 4ms/step\n",
      "19/19 [==============================] - 0s 3ms/step\n",
      "19/19 [==============================] - 0s 4ms/step\n",
      "19/19 [==============================] - 0s 4ms/step\n",
      "19/19 [==============================] - 0s 4ms/step\n"
     ]
    },
    {
     "name": "stderr",
     "output_type": "stream",
     "text": [
      "Evaluating models: 100%|██████████| 7/7 [00:45<00:00,  6.57s/it]\n",
      "2025-08-01 14:50:44,473 [INFO] ✅ Evaluation complete\n",
      "2025-08-01 14:50:44,515 [INFO] Training models (seed=0)\n"
     ]
    },
    {
     "name": "stdout",
     "output_type": "stream",
     "text": [
      "\n",
      "– Fold 2/5: testing on 7 subjects –\n",
      "Train set: 87 samples, Test set: 37 samples\n",
      "Train set: X: (1124, 500), y: (1124,)    ([ADLs, Falls]) [1037   87]\n",
      "Test set: X: 37, y: 37\n"
     ]
    },
    {
     "name": "stderr",
     "output_type": "stream",
     "text": [
      "Training (seed=0): 100%|██████████| 7/7 [01:10<00:00, 10.08s/it]\n",
      "Evaluating models:  86%|████████▌ | 6/7 [00:55<00:13, 13.18s/it]"
     ]
    },
    {
     "name": "stdout",
     "output_type": "stream",
     "text": [
      "19/19 [==============================] - 0s 3ms/step\n",
      "19/19 [==============================] - 0s 4ms/step\n",
      "19/19 [==============================] - 0s 3ms/step\n",
      "19/19 [==============================] - 0s 3ms/step\n",
      "19/19 [==============================] - 0s 4ms/step\n",
      "19/19 [==============================] - 0s 3ms/step\n",
      "19/19 [==============================] - 0s 4ms/step\n",
      "19/19 [==============================] - 0s 4ms/step\n",
      "19/19 [==============================] - 0s 4ms/step\n",
      "19/19 [==============================] - 0s 4ms/step\n",
      "19/19 [==============================] - 0s 3ms/step\n",
      "19/19 [==============================] - 0s 3ms/step\n",
      "19/19 [==============================] - 0s 4ms/step\n",
      "19/19 [==============================] - 0s 4ms/step\n",
      "19/19 [==============================] - 0s 3ms/step\n",
      "19/19 [==============================] - 0s 3ms/step\n",
      "19/19 [==============================] - 0s 4ms/step\n",
      "19/19 [==============================] - 0s 4ms/step\n",
      "19/19 [==============================] - 0s 4ms/step\n",
      "19/19 [==============================] - 0s 4ms/step\n",
      "19/19 [==============================] - 0s 4ms/step\n",
      "19/19 [==============================] - 0s 3ms/step\n",
      "19/19 [==============================] - 0s 3ms/step\n",
      "19/19 [==============================] - 0s 4ms/step\n",
      "19/19 [==============================] - 0s 4ms/step\n",
      "19/19 [==============================] - 0s 3ms/step\n",
      "19/19 [==============================] - 0s 4ms/step\n",
      "19/19 [==============================] - 0s 4ms/step\n",
      "19/19 [==============================] - 0s 4ms/step\n",
      "19/19 [==============================] - 0s 4ms/step\n",
      "19/19 [==============================] - 0s 4ms/step\n",
      "19/19 [==============================] - 0s 3ms/step\n",
      "19/19 [==============================] - 0s 4ms/step\n",
      "19/19 [==============================] - 0s 4ms/step\n"
     ]
    },
    {
     "name": "stderr",
     "output_type": "stream",
     "text": [
      "Evaluating models: 100%|██████████| 7/7 [01:02<00:00,  8.91s/it]\n",
      "2025-08-01 14:52:57,618 [INFO] ✅ Evaluation complete\n",
      "2025-08-01 14:52:57,639 [INFO] Training models (seed=0)\n"
     ]
    },
    {
     "name": "stdout",
     "output_type": "stream",
     "text": [
      "\n",
      "– Fold 3/5: testing on 6 subjects –\n",
      "Train set: 113 samples, Test set: 11 samples\n",
      "Train set: X: (949, 500), y: (949,)    ([ADLs, Falls]) [836 113]\n",
      "Test set: X: 11, y: 11\n"
     ]
    },
    {
     "name": "stderr",
     "output_type": "stream",
     "text": [
      "Training (seed=0): 100%|██████████| 7/7 [01:04<00:00,  9.26s/it]\n",
      "Evaluating models:  86%|████████▌ | 6/7 [00:14<00:02,  2.91s/it]"
     ]
    },
    {
     "name": "stdout",
     "output_type": "stream",
     "text": [
      "19/19 [==============================] - 0s 3ms/step\n",
      "19/19 [==============================] - 0s 4ms/step\n",
      "19/19 [==============================] - 0s 4ms/step\n",
      "19/19 [==============================] - 0s 3ms/step\n",
      "19/19 [==============================] - 0s 3ms/step\n",
      "19/19 [==============================] - 0s 4ms/step\n",
      "19/19 [==============================] - 0s 3ms/step\n",
      "19/19 [==============================] - 0s 4ms/step\n",
      "19/19 [==============================] - 0s 4ms/step\n"
     ]
    },
    {
     "name": "stderr",
     "output_type": "stream",
     "text": [
      "Evaluating models: 100%|██████████| 7/7 [00:16<00:00,  2.39s/it]\n",
      "2025-08-01 14:54:19,271 [INFO] ✅ Evaluation complete\n",
      "2025-08-01 14:54:19,309 [INFO] Training models (seed=0)\n"
     ]
    },
    {
     "name": "stdout",
     "output_type": "stream",
     "text": [
      "\n",
      "– Fold 4/5: testing on 6 subjects –\n",
      "Train set: 108 samples, Test set: 16 samples\n",
      "Train set: X: (1165, 500), y: (1165,)    ([ADLs, Falls]) [1057  108]\n",
      "Test set: X: 16, y: 16\n"
     ]
    },
    {
     "name": "stderr",
     "output_type": "stream",
     "text": [
      "Training (seed=0): 100%|██████████| 7/7 [01:09<00:00,  9.93s/it]\n",
      "Evaluating models:  86%|████████▌ | 6/7 [00:25<00:05,  5.89s/it]"
     ]
    },
    {
     "name": "stdout",
     "output_type": "stream",
     "text": [
      "19/19 [==============================] - 0s 3ms/step\n",
      "19/19 [==============================] - 0s 4ms/step\n",
      "19/19 [==============================] - 0s 3ms/step\n",
      "19/19 [==============================] - 0s 4ms/step\n",
      "19/19 [==============================] - 0s 4ms/step\n",
      "19/19 [==============================] - 0s 3ms/step\n",
      "19/19 [==============================] - 0s 4ms/step\n",
      "19/19 [==============================] - 0s 3ms/step\n",
      "19/19 [==============================] - 0s 4ms/step\n",
      "19/19 [==============================] - 0s 3ms/step\n",
      "19/19 [==============================] - 0s 4ms/step\n",
      "19/19 [==============================] - 0s 4ms/step\n",
      "19/19 [==============================] - 0s 4ms/step\n",
      "19/19 [==============================] - 0s 3ms/step\n",
      "19/19 [==============================] - 0s 3ms/step\n"
     ]
    },
    {
     "name": "stderr",
     "output_type": "stream",
     "text": [
      "Evaluating models: 100%|██████████| 7/7 [00:28<00:00,  4.02s/it]\n",
      "2025-08-01 14:55:57,011 [INFO] ✅ Evaluation complete\n",
      "2025-08-01 14:55:57,031 [INFO] Training models (seed=0)\n"
     ]
    },
    {
     "name": "stdout",
     "output_type": "stream",
     "text": [
      "\n",
      "– Fold 5/5: testing on 6 subjects –\n",
      "Train set: 86 samples, Test set: 38 samples\n",
      "Train set: X: (703, 500), y: (703,)    ([ADLs, Falls]) [617  86]\n",
      "Test set: X: 38, y: 38\n"
     ]
    },
    {
     "name": "stderr",
     "output_type": "stream",
     "text": [
      "Training (seed=0): 100%|██████████| 7/7 [00:46<00:00,  6.58s/it]\n",
      "Evaluating models:  86%|████████▌ | 6/7 [00:59<00:14, 14.24s/it]"
     ]
    },
    {
     "name": "stdout",
     "output_type": "stream",
     "text": [
      "19/19 [==============================] - 0s 4ms/step\n",
      "19/19 [==============================] - 0s 4ms/step\n",
      "19/19 [==============================] - 0s 4ms/step\n",
      "19/19 [==============================] - 0s 3ms/step\n",
      "19/19 [==============================] - 0s 4ms/step\n",
      "19/19 [==============================] - 2s 104ms/step\n",
      "19/19 [==============================] - 0s 4ms/step\n",
      "19/19 [==============================] - 0s 4ms/step\n",
      "19/19 [==============================] - 0s 4ms/step\n",
      "19/19 [==============================] - 0s 4ms/step\n",
      "19/19 [==============================] - 0s 4ms/step\n",
      "19/19 [==============================] - 0s 3ms/step\n",
      "19/19 [==============================] - 0s 4ms/step\n",
      "19/19 [==============================] - 0s 4ms/step\n",
      "19/19 [==============================] - 0s 4ms/step\n",
      "19/19 [==============================] - 0s 4ms/step\n",
      "19/19 [==============================] - 0s 4ms/step\n",
      "19/19 [==============================] - 0s 3ms/step\n",
      "19/19 [==============================] - 0s 4ms/step\n",
      "19/19 [==============================] - 0s 4ms/step\n",
      "19/19 [==============================] - 0s 4ms/step\n",
      "19/19 [==============================] - 0s 4ms/step\n",
      "19/19 [==============================] - 0s 4ms/step\n",
      "19/19 [==============================] - 0s 4ms/step\n",
      "19/19 [==============================] - 0s 4ms/step\n",
      "19/19 [==============================] - 0s 4ms/step\n",
      "19/19 [==============================] - 0s 3ms/step\n",
      "19/19 [==============================] - 0s 4ms/step\n",
      "19/19 [==============================] - 0s 3ms/step\n",
      "19/19 [==============================] - 0s 4ms/step\n",
      "19/19 [==============================] - 0s 4ms/step\n",
      "19/19 [==============================] - 0s 4ms/step\n",
      "19/19 [==============================] - 0s 4ms/step\n",
      "19/19 [==============================] - 0s 3ms/step\n",
      "16/16 [==============================] - 2s 132ms/step\n",
      "19/19 [==============================] - 0s 4ms/step\n",
      "19/19 [==============================] - 0s 4ms/step\n"
     ]
    },
    {
     "name": "stderr",
     "output_type": "stream",
     "text": [
      "Evaluating models: 100%|██████████| 7/7 [01:11<00:00, 10.19s/it]\n",
      "2025-08-01 14:57:54,531 [INFO] ✅ Evaluation complete\n"
     ]
    },
    {
     "name": "stdout",
     "output_type": "stream",
     "text": [
      "Running CV for window size 7 seconds\n",
      "\n",
      "– Fold 1/5: testing on 7 subjects –\n",
      "Train set: 102 samples, Test set: 22 samples\n"
     ]
    },
    {
     "name": "stderr",
     "output_type": "stream",
     "text": [
      "2025-08-01 14:57:54,604 [INFO] Training models (seed=0)\n"
     ]
    },
    {
     "name": "stdout",
     "output_type": "stream",
     "text": [
      "Train set: X: (1052, 700), y: (1052,)    ([ADLs, Falls]) [950 102]\n",
      "Test set: X: 22, y: 22\n"
     ]
    },
    {
     "name": "stderr",
     "output_type": "stream",
     "text": [
      "Training (seed=0): 100%|██████████| 7/7 [01:03<00:00,  9.04s/it]\n",
      "Evaluating models:  86%|████████▌ | 6/7 [00:51<00:12, 12.20s/it]"
     ]
    },
    {
     "name": "stdout",
     "output_type": "stream",
     "text": [
      "19/19 [==============================] - 3s 69ms/step\n",
      "19/19 [==============================] - 0s 4ms/step\n",
      "19/19 [==============================] - 0s 4ms/step\n",
      "19/19 [==============================] - 0s 4ms/step\n",
      "19/19 [==============================] - 0s 4ms/step\n",
      "19/19 [==============================] - 0s 4ms/step\n",
      "19/19 [==============================] - 0s 4ms/step\n",
      "19/19 [==============================] - 0s 4ms/step\n",
      "19/19 [==============================] - 0s 4ms/step\n",
      "19/19 [==============================] - 0s 4ms/step\n",
      "19/19 [==============================] - 0s 4ms/step\n",
      "19/19 [==============================] - 0s 4ms/step\n",
      "19/19 [==============================] - 0s 4ms/step\n",
      "19/19 [==============================] - 0s 4ms/step\n",
      "19/19 [==============================] - 0s 4ms/step\n",
      "19/19 [==============================] - 0s 4ms/step\n",
      "19/19 [==============================] - 0s 4ms/step\n",
      "19/19 [==============================] - 0s 4ms/step\n",
      "19/19 [==============================] - 0s 4ms/step\n",
      "19/19 [==============================] - 0s 4ms/step\n",
      "19/19 [==============================] - 0s 4ms/step\n",
      "19/19 [==============================] - 0s 4ms/step\n"
     ]
    },
    {
     "name": "stderr",
     "output_type": "stream",
     "text": [
      "Evaluating models: 100%|██████████| 7/7 [00:59<00:00,  8.55s/it]\n",
      "2025-08-01 14:59:57,801 [INFO] ✅ Evaluation complete\n",
      "2025-08-01 14:59:57,847 [INFO] Training models (seed=0)\n"
     ]
    },
    {
     "name": "stdout",
     "output_type": "stream",
     "text": [
      "\n",
      "– Fold 2/5: testing on 7 subjects –\n",
      "Train set: 87 samples, Test set: 37 samples\n",
      "Train set: X: (1114, 700), y: (1114,)    ([ADLs, Falls]) [1027   87]\n",
      "Test set: X: 37, y: 37\n"
     ]
    },
    {
     "name": "stderr",
     "output_type": "stream",
     "text": [
      "Training (seed=0): 100%|██████████| 7/7 [01:43<00:00, 14.79s/it]\n",
      "Evaluating models:  86%|████████▌ | 6/7 [01:17<00:18, 18.52s/it]"
     ]
    },
    {
     "name": "stdout",
     "output_type": "stream",
     "text": [
      "19/19 [==============================] - 0s 4ms/step\n",
      "19/19 [==============================] - 0s 4ms/step\n",
      "19/19 [==============================] - 0s 4ms/step\n",
      "19/19 [==============================] - 0s 4ms/step\n",
      "19/19 [==============================] - 0s 4ms/step\n",
      "19/19 [==============================] - 0s 4ms/step\n",
      "19/19 [==============================] - 0s 4ms/step\n",
      "19/19 [==============================] - 0s 4ms/step\n",
      "19/19 [==============================] - 0s 4ms/step\n",
      "19/19 [==============================] - 0s 4ms/step\n",
      "19/19 [==============================] - 0s 4ms/step\n",
      "19/19 [==============================] - 0s 4ms/step\n",
      "19/19 [==============================] - 0s 4ms/step\n",
      "19/19 [==============================] - 0s 4ms/step\n",
      "19/19 [==============================] - 0s 4ms/step\n",
      "19/19 [==============================] - 0s 4ms/step\n",
      "19/19 [==============================] - 0s 4ms/step\n",
      "19/19 [==============================] - 0s 4ms/step\n",
      "19/19 [==============================] - 0s 4ms/step\n",
      "19/19 [==============================] - 0s 4ms/step\n",
      "19/19 [==============================] - 0s 4ms/step\n",
      "19/19 [==============================] - 0s 4ms/step\n",
      "19/19 [==============================] - 0s 4ms/step\n",
      "19/19 [==============================] - 0s 4ms/step\n",
      "19/19 [==============================] - 0s 4ms/step\n",
      "19/19 [==============================] - 0s 4ms/step\n",
      "19/19 [==============================] - 0s 4ms/step\n",
      "19/19 [==============================] - 0s 4ms/step\n",
      "19/19 [==============================] - 0s 4ms/step\n",
      "19/19 [==============================] - 0s 4ms/step\n",
      "19/19 [==============================] - 0s 4ms/step\n",
      "19/19 [==============================] - 0s 4ms/step\n",
      "19/19 [==============================] - 0s 4ms/step\n",
      "19/19 [==============================] - 0s 4ms/step\n"
     ]
    },
    {
     "name": "stderr",
     "output_type": "stream",
     "text": [
      "Evaluating models: 100%|██████████| 7/7 [01:24<00:00, 12.11s/it]\n",
      "2025-08-01 15:03:06,279 [INFO] ✅ Evaluation complete\n",
      "2025-08-01 15:03:06,304 [INFO] Training models (seed=0)\n"
     ]
    },
    {
     "name": "stdout",
     "output_type": "stream",
     "text": [
      "\n",
      "– Fold 3/5: testing on 6 subjects –\n",
      "Train set: 113 samples, Test set: 11 samples\n",
      "Train set: X: (940, 700), y: (940,)    ([ADLs, Falls]) [827 113]\n",
      "Test set: X: 11, y: 11\n"
     ]
    },
    {
     "name": "stderr",
     "output_type": "stream",
     "text": [
      "Training (seed=0): 100%|██████████| 7/7 [01:09<00:00,  9.98s/it]\n",
      "Evaluating models:  86%|████████▌ | 6/7 [00:20<00:04,  4.01s/it]"
     ]
    },
    {
     "name": "stdout",
     "output_type": "stream",
     "text": [
      "19/19 [==============================] - 0s 4ms/step\n",
      "19/19 [==============================] - 0s 4ms/step\n",
      "19/19 [==============================] - 0s 4ms/step\n",
      "19/19 [==============================] - 0s 4ms/step\n",
      "19/19 [==============================] - 0s 4ms/step\n",
      "19/19 [==============================] - 0s 4ms/step\n",
      "19/19 [==============================] - 0s 4ms/step\n",
      "19/19 [==============================] - 0s 4ms/step\n",
      "19/19 [==============================] - 0s 4ms/step\n"
     ]
    },
    {
     "name": "stderr",
     "output_type": "stream",
     "text": [
      "Evaluating models: 100%|██████████| 7/7 [00:22<00:00,  3.21s/it]\n",
      "2025-08-01 15:04:38,692 [INFO] ✅ Evaluation complete\n"
     ]
    },
    {
     "name": "stdout",
     "output_type": "stream",
     "text": [
      "\n",
      "– Fold 4/5: testing on 6 subjects –\n",
      "Train set: 108 samples, Test set: 16 samples\n"
     ]
    },
    {
     "name": "stderr",
     "output_type": "stream",
     "text": [
      "2025-08-01 15:04:38,730 [INFO] Training models (seed=0)\n"
     ]
    },
    {
     "name": "stdout",
     "output_type": "stream",
     "text": [
      "Train set: X: (1154, 700), y: (1154,)    ([ADLs, Falls]) [1046  108]\n",
      "Test set: X: 16, y: 16\n"
     ]
    },
    {
     "name": "stderr",
     "output_type": "stream",
     "text": [
      "Training (seed=0): 100%|██████████| 7/7 [00:55<00:00,  7.93s/it]\n",
      "Evaluating models:  86%|████████▌ | 6/7 [00:33<00:07,  7.40s/it]"
     ]
    },
    {
     "name": "stdout",
     "output_type": "stream",
     "text": [
      "19/19 [==============================] - 0s 4ms/step\n",
      "19/19 [==============================] - 0s 4ms/step\n",
      "19/19 [==============================] - 0s 4ms/step\n",
      "19/19 [==============================] - 0s 4ms/step\n",
      "19/19 [==============================] - 0s 4ms/step\n",
      "19/19 [==============================] - 0s 4ms/step\n",
      "19/19 [==============================] - 0s 4ms/step\n",
      "19/19 [==============================] - 0s 4ms/step\n",
      "19/19 [==============================] - 0s 4ms/step\n",
      "19/19 [==============================] - 0s 4ms/step\n",
      "19/19 [==============================] - 0s 4ms/step\n",
      "19/19 [==============================] - 0s 4ms/step\n",
      "19/19 [==============================] - 0s 4ms/step\n",
      "19/19 [==============================] - 0s 4ms/step\n",
      "19/19 [==============================] - 0s 4ms/step\n"
     ]
    },
    {
     "name": "stderr",
     "output_type": "stream",
     "text": [
      "Evaluating models: 100%|██████████| 7/7 [00:36<00:00,  5.24s/it]\n",
      "2025-08-01 15:06:11,020 [INFO] ✅ Evaluation complete\n"
     ]
    },
    {
     "name": "stdout",
     "output_type": "stream",
     "text": [
      "\n",
      "– Fold 5/5: testing on 6 subjects –\n",
      "Train set: 86 samples, Test set: 38 samples\n"
     ]
    },
    {
     "name": "stderr",
     "output_type": "stream",
     "text": [
      "2025-08-01 15:06:11,041 [INFO] Training models (seed=0)\n"
     ]
    },
    {
     "name": "stdout",
     "output_type": "stream",
     "text": [
      "Train set: X: (700, 700), y: (700,)    ([ADLs, Falls]) [614  86]\n",
      "Test set: X: 38, y: 38\n"
     ]
    },
    {
     "name": "stderr",
     "output_type": "stream",
     "text": [
      "Training (seed=0): 100%|██████████| 7/7 [00:50<00:00,  7.23s/it]\n",
      "Evaluating models:  86%|████████▌ | 6/7 [01:23<00:20, 20.11s/it]"
     ]
    },
    {
     "name": "stdout",
     "output_type": "stream",
     "text": [
      "19/19 [==============================] - 0s 4ms/step\n",
      "19/19 [==============================] - 0s 4ms/step\n",
      "19/19 [==============================] - 0s 4ms/step\n",
      "19/19 [==============================] - 0s 4ms/step\n",
      "19/19 [==============================] - 0s 4ms/step\n",
      "19/19 [==============================] - 2s 104ms/step\n",
      "19/19 [==============================] - 0s 4ms/step\n",
      "19/19 [==============================] - 0s 4ms/step\n",
      "19/19 [==============================] - 0s 4ms/step\n",
      "19/19 [==============================] - 0s 4ms/step\n",
      "19/19 [==============================] - 0s 4ms/step\n",
      "19/19 [==============================] - 0s 4ms/step\n",
      "19/19 [==============================] - 0s 4ms/step\n",
      "19/19 [==============================] - 0s 4ms/step\n",
      "19/19 [==============================] - 0s 4ms/step\n",
      "19/19 [==============================] - 0s 4ms/step\n",
      "19/19 [==============================] - 0s 4ms/step\n",
      "19/19 [==============================] - 0s 4ms/step\n",
      "19/19 [==============================] - 0s 4ms/step\n",
      "19/19 [==============================] - 0s 4ms/step\n",
      "19/19 [==============================] - 0s 4ms/step\n",
      "19/19 [==============================] - 0s 4ms/step\n",
      "19/19 [==============================] - 0s 4ms/step\n",
      "19/19 [==============================] - 0s 4ms/step\n",
      "19/19 [==============================] - 0s 4ms/step\n",
      "19/19 [==============================] - 0s 4ms/step\n",
      "19/19 [==============================] - 0s 4ms/step\n",
      "19/19 [==============================] - 0s 4ms/step\n",
      "19/19 [==============================] - 0s 4ms/step\n",
      "19/19 [==============================] - 0s 4ms/step\n",
      "19/19 [==============================] - 0s 4ms/step\n",
      "19/19 [==============================] - 0s 4ms/step\n",
      "19/19 [==============================] - 0s 4ms/step\n",
      "19/19 [==============================] - 0s 4ms/step\n",
      "16/16 [==============================] - 2s 137ms/step\n",
      "19/19 [==============================] - 0s 4ms/step\n",
      "19/19 [==============================] - 0s 4ms/step\n"
     ]
    },
    {
     "name": "stderr",
     "output_type": "stream",
     "text": [
      "Evaluating models: 100%|██████████| 7/7 [01:36<00:00, 13.72s/it]\n",
      "2025-08-01 15:08:37,772 [INFO] ✅ Evaluation complete\n"
     ]
    },
    {
     "name": "stdout",
     "output_type": "stream",
     "text": [
      "Running CV for window size 10 seconds\n",
      "\n",
      "– Fold 1/5: testing on 7 subjects –\n",
      "Train set: 102 samples, Test set: 22 samples\n"
     ]
    },
    {
     "name": "stderr",
     "output_type": "stream",
     "text": [
      "2025-08-01 15:08:37,847 [INFO] Training models (seed=0)\n"
     ]
    },
    {
     "name": "stdout",
     "output_type": "stream",
     "text": [
      "Train set: X: (1027, 1000), y: (1027,)    ([ADLs, Falls]) [925 102]\n",
      "Test set: X: 22, y: 22\n"
     ]
    },
    {
     "name": "stderr",
     "output_type": "stream",
     "text": [
      "Training (seed=0): 100%|██████████| 7/7 [01:43<00:00, 14.73s/it]\n",
      "Evaluating models:  86%|████████▌ | 6/7 [01:03<00:14, 14.97s/it]"
     ]
    },
    {
     "name": "stdout",
     "output_type": "stream",
     "text": [
      "19/19 [==============================] - 5s 129ms/step\n",
      "19/19 [==============================] - 0s 7ms/step\n",
      "19/19 [==============================] - 0s 7ms/step\n",
      "19/19 [==============================] - 0s 7ms/step\n",
      "19/19 [==============================] - 0s 7ms/step\n",
      "19/19 [==============================] - 0s 7ms/step\n",
      "19/19 [==============================] - 0s 7ms/step\n",
      "19/19 [==============================] - 0s 7ms/step\n",
      "19/19 [==============================] - 0s 7ms/step\n",
      "19/19 [==============================] - 0s 7ms/step\n",
      "19/19 [==============================] - 0s 7ms/step\n",
      "19/19 [==============================] - 0s 7ms/step\n",
      "19/19 [==============================] - 0s 7ms/step\n",
      "19/19 [==============================] - 0s 7ms/step\n",
      "19/19 [==============================] - 0s 7ms/step\n",
      "19/19 [==============================] - 0s 7ms/step\n",
      "19/19 [==============================] - 0s 7ms/step\n",
      "19/19 [==============================] - 0s 7ms/step\n",
      "19/19 [==============================] - 0s 7ms/step\n",
      "19/19 [==============================] - 0s 7ms/step\n",
      "19/19 [==============================] - 0s 7ms/step\n",
      "19/19 [==============================] - 0s 7ms/step\n"
     ]
    },
    {
     "name": "stderr",
     "output_type": "stream",
     "text": [
      "Evaluating models: 100%|██████████| 7/7 [01:14<00:00, 10.65s/it]\n",
      "2025-08-01 15:11:35,601 [INFO] ✅ Evaluation complete\n"
     ]
    },
    {
     "name": "stdout",
     "output_type": "stream",
     "text": [
      "\n",
      "– Fold 2/5: testing on 7 subjects –\n",
      "Train set: 87 samples, Test set: 37 samples\n"
     ]
    },
    {
     "name": "stderr",
     "output_type": "stream",
     "text": [
      "2025-08-01 15:11:35,647 [INFO] Training models (seed=0)\n"
     ]
    },
    {
     "name": "stdout",
     "output_type": "stream",
     "text": [
      "Train set: X: (1090, 1000), y: (1090,)    ([ADLs, Falls]) [1003   87]\n",
      "Test set: X: 37, y: 37\n"
     ]
    },
    {
     "name": "stderr",
     "output_type": "stream",
     "text": [
      "Training (seed=0): 100%|██████████| 7/7 [00:59<00:00,  8.45s/it]\n",
      "Evaluating models:  86%|████████▌ | 6/7 [01:34<00:22, 22.66s/it]"
     ]
    },
    {
     "name": "stdout",
     "output_type": "stream",
     "text": [
      "19/19 [==============================] - 0s 7ms/step\n",
      "19/19 [==============================] - 0s 7ms/step\n",
      "19/19 [==============================] - 0s 7ms/step\n",
      "19/19 [==============================] - 0s 7ms/step\n",
      "19/19 [==============================] - 0s 7ms/step\n",
      "19/19 [==============================] - 0s 7ms/step\n",
      "19/19 [==============================] - 0s 7ms/step\n",
      "19/19 [==============================] - 0s 7ms/step\n",
      "19/19 [==============================] - 0s 7ms/step\n",
      "19/19 [==============================] - 0s 7ms/step\n",
      "19/19 [==============================] - 0s 7ms/step\n",
      "19/19 [==============================] - 0s 7ms/step\n",
      "19/19 [==============================] - 0s 7ms/step\n",
      "19/19 [==============================] - 0s 7ms/step\n",
      "19/19 [==============================] - 0s 7ms/step\n",
      "19/19 [==============================] - 0s 7ms/step\n",
      "19/19 [==============================] - 0s 7ms/step\n",
      "19/19 [==============================] - 0s 7ms/step\n",
      "19/19 [==============================] - 0s 7ms/step\n",
      "19/19 [==============================] - 0s 7ms/step\n",
      "19/19 [==============================] - 0s 7ms/step\n",
      "19/19 [==============================] - 0s 7ms/step\n",
      "19/19 [==============================] - 0s 7ms/step\n",
      "19/19 [==============================] - 0s 3ms/step\n",
      "19/19 [==============================] - 0s 3ms/step\n",
      "19/19 [==============================] - 0s 3ms/step\n",
      "19/19 [==============================] - 0s 3ms/step\n",
      "19/19 [==============================] - 0s 3ms/step\n",
      "19/19 [==============================] - 0s 6ms/step\n",
      "19/19 [==============================] - 0s 6ms/step\n",
      "19/19 [==============================] - 0s 6ms/step\n",
      "19/19 [==============================] - 0s 6ms/step\n",
      "19/19 [==============================] - 0s 6ms/step\n",
      "19/19 [==============================] - 0s 7ms/step\n"
     ]
    },
    {
     "name": "stderr",
     "output_type": "stream",
     "text": [
      "Evaluating models: 100%|██████████| 7/7 [01:43<00:00, 14.79s/it]\n",
      "2025-08-01 15:14:18,511 [INFO] ✅ Evaluation complete\n"
     ]
    },
    {
     "name": "stdout",
     "output_type": "stream",
     "text": [
      "\n",
      "– Fold 3/5: testing on 6 subjects –\n",
      "Train set: 113 samples, Test set: 11 samples\n"
     ]
    },
    {
     "name": "stderr",
     "output_type": "stream",
     "text": [
      "2025-08-01 15:14:18,533 [INFO] Training models (seed=0)\n"
     ]
    },
    {
     "name": "stdout",
     "output_type": "stream",
     "text": [
      "Train set: X: (918, 1000), y: (918,)    ([ADLs, Falls]) [805 113]\n",
      "Test set: X: 11, y: 11\n"
     ]
    },
    {
     "name": "stderr",
     "output_type": "stream",
     "text": [
      "Training (seed=0): 100%|██████████| 7/7 [01:35<00:00, 13.71s/it]\n",
      "Evaluating models:  86%|████████▌ | 6/7 [00:24<00:04,  4.88s/it]"
     ]
    },
    {
     "name": "stdout",
     "output_type": "stream",
     "text": [
      "19/19 [==============================] - 0s 7ms/step\n",
      "19/19 [==============================] - 0s 7ms/step\n",
      "19/19 [==============================] - 0s 7ms/step\n",
      "19/19 [==============================] - 0s 7ms/step\n",
      "19/19 [==============================] - 0s 7ms/step\n",
      "19/19 [==============================] - 0s 7ms/step\n",
      "19/19 [==============================] - 0s 7ms/step\n",
      "19/19 [==============================] - 0s 7ms/step\n",
      "19/19 [==============================] - 0s 7ms/step\n"
     ]
    },
    {
     "name": "stderr",
     "output_type": "stream",
     "text": [
      "Evaluating models: 100%|██████████| 7/7 [00:27<00:00,  3.93s/it]\n",
      "2025-08-01 15:16:22,082 [INFO] ✅ Evaluation complete\n"
     ]
    },
    {
     "name": "stdout",
     "output_type": "stream",
     "text": [
      "\n",
      "– Fold 4/5: testing on 6 subjects –\n",
      "Train set: 108 samples, Test set: 16 samples\n"
     ]
    },
    {
     "name": "stderr",
     "output_type": "stream",
     "text": [
      "2025-08-01 15:16:22,129 [INFO] Training models (seed=0)\n"
     ]
    },
    {
     "name": "stdout",
     "output_type": "stream",
     "text": [
      "Train set: X: (1129, 1000), y: (1129,)    ([ADLs, Falls]) [1021  108]\n",
      "Test set: X: 16, y: 16\n"
     ]
    },
    {
     "name": "stderr",
     "output_type": "stream",
     "text": [
      "Training (seed=0): 100%|██████████| 7/7 [02:00<00:00, 17.19s/it]\n",
      "Evaluating models:  86%|████████▌ | 6/7 [00:40<00:08,  8.94s/it]"
     ]
    },
    {
     "name": "stdout",
     "output_type": "stream",
     "text": [
      "19/19 [==============================] - 0s 7ms/step\n",
      "19/19 [==============================] - 0s 7ms/step\n",
      "19/19 [==============================] - 0s 7ms/step\n",
      "19/19 [==============================] - 0s 7ms/step\n",
      "19/19 [==============================] - 0s 7ms/step\n",
      "19/19 [==============================] - 0s 7ms/step\n",
      "19/19 [==============================] - 0s 7ms/step\n",
      "19/19 [==============================] - 0s 7ms/step\n",
      "19/19 [==============================] - 0s 7ms/step\n",
      "19/19 [==============================] - 0s 7ms/step\n",
      "19/19 [==============================] - 0s 7ms/step\n",
      "19/19 [==============================] - 0s 7ms/step\n",
      "19/19 [==============================] - 0s 7ms/step\n",
      "19/19 [==============================] - 0s 7ms/step\n",
      "19/19 [==============================] - 0s 7ms/step\n"
     ]
    },
    {
     "name": "stderr",
     "output_type": "stream",
     "text": [
      "Evaluating models: 100%|██████████| 7/7 [00:44<00:00,  6.38s/it]\n",
      "2025-08-01 15:19:07,227 [INFO] ✅ Evaluation complete\n",
      "2025-08-01 15:19:07,249 [INFO] Training models (seed=0)\n"
     ]
    },
    {
     "name": "stdout",
     "output_type": "stream",
     "text": [
      "\n",
      "– Fold 5/5: testing on 6 subjects –\n",
      "Train set: 86 samples, Test set: 38 samples\n",
      "Train set: X: (688, 1000), y: (688,)    ([ADLs, Falls]) [602  86]\n",
      "Test set: X: 38, y: 38\n"
     ]
    },
    {
     "name": "stderr",
     "output_type": "stream",
     "text": [
      "Training (seed=0): 100%|██████████| 7/7 [01:16<00:00, 10.92s/it]\n",
      "Evaluating models:  86%|████████▌ | 6/7 [01:42<00:24, 24.60s/it]"
     ]
    },
    {
     "name": "stdout",
     "output_type": "stream",
     "text": [
      "19/19 [==============================] - 0s 7ms/step\n",
      "19/19 [==============================] - 0s 7ms/step\n",
      "19/19 [==============================] - 0s 7ms/step\n",
      "19/19 [==============================] - 0s 7ms/step\n",
      "19/19 [==============================] - 0s 7ms/step\n",
      "19/19 [==============================] - 2s 110ms/step\n",
      "19/19 [==============================] - 0s 7ms/step\n",
      "19/19 [==============================] - 0s 7ms/step\n",
      "19/19 [==============================] - 0s 7ms/step\n",
      "19/19 [==============================] - 0s 7ms/step\n",
      "19/19 [==============================] - 0s 7ms/step\n",
      "19/19 [==============================] - 0s 7ms/step\n",
      "19/19 [==============================] - 0s 7ms/step\n",
      "19/19 [==============================] - 0s 7ms/step\n",
      "19/19 [==============================] - 0s 7ms/step\n",
      "19/19 [==============================] - 0s 7ms/step\n",
      "19/19 [==============================] - 0s 7ms/step\n",
      "19/19 [==============================] - 0s 7ms/step\n",
      "19/19 [==============================] - 0s 7ms/step\n",
      "19/19 [==============================] - 0s 7ms/step\n",
      "19/19 [==============================] - 0s 7ms/step\n",
      "19/19 [==============================] - 0s 7ms/step\n",
      "19/19 [==============================] - 0s 7ms/step\n",
      "19/19 [==============================] - 0s 7ms/step\n",
      "19/19 [==============================] - 0s 7ms/step\n",
      "19/19 [==============================] - 0s 7ms/step\n",
      "19/19 [==============================] - 0s 3ms/step\n",
      "19/19 [==============================] - 0s 3ms/step\n",
      "19/19 [==============================] - 0s 3ms/step\n",
      "19/19 [==============================] - 0s 3ms/step\n",
      "19/19 [==============================] - 0s 3ms/step\n",
      "19/19 [==============================] - 0s 6ms/step\n",
      "19/19 [==============================] - 0s 7ms/step\n",
      "19/19 [==============================] - 0s 5ms/step\n",
      "16/16 [==============================] - 1s 44ms/step\n",
      "19/19 [==============================] - 0s 6ms/step\n",
      "19/19 [==============================] - 0s 7ms/step\n"
     ]
    },
    {
     "name": "stderr",
     "output_type": "stream",
     "text": [
      "Evaluating models: 100%|██████████| 7/7 [01:55<00:00, 16.43s/it]\n",
      "2025-08-01 15:22:18,893 [INFO] ✅ Evaluation complete\n",
      "2025-08-01 15:22:18,967 [INFO] Training models (seed=0)\n"
     ]
    },
    {
     "name": "stdout",
     "output_type": "stream",
     "text": [
      "Running CV for window size 15 seconds\n",
      "\n",
      "– Fold 1/5: testing on 7 subjects –\n",
      "Train set: 102 samples, Test set: 22 samples\n",
      "Train set: X: (998, 1500), y: (998,)    ([ADLs, Falls]) [896 102]\n",
      "Test set: X: 22, y: 22\n"
     ]
    },
    {
     "name": "stderr",
     "output_type": "stream",
     "text": [
      "Training (seed=0): 100%|██████████| 7/7 [02:16<00:00, 19.50s/it]\n",
      "Evaluating models:  86%|████████▌ | 6/7 [01:35<00:22, 22.50s/it]"
     ]
    },
    {
     "name": "stdout",
     "output_type": "stream",
     "text": [
      "19/19 [==============================] - 5s 96ms/step\n",
      "19/19 [==============================] - 0s 11ms/step\n",
      "19/19 [==============================] - 0s 11ms/step\n",
      "19/19 [==============================] - 0s 11ms/step\n",
      "19/19 [==============================] - 0s 11ms/step\n",
      "19/19 [==============================] - 0s 11ms/step\n",
      "19/19 [==============================] - 0s 11ms/step\n",
      "19/19 [==============================] - 0s 11ms/step\n",
      "19/19 [==============================] - 0s 11ms/step\n",
      "19/19 [==============================] - 0s 11ms/step\n",
      "19/19 [==============================] - 0s 11ms/step\n",
      "19/19 [==============================] - 0s 11ms/step\n",
      "19/19 [==============================] - 0s 11ms/step\n",
      "19/19 [==============================] - 0s 11ms/step\n",
      "19/19 [==============================] - 0s 11ms/step\n",
      "19/19 [==============================] - 0s 11ms/step\n",
      "19/19 [==============================] - 0s 11ms/step\n",
      "19/19 [==============================] - 0s 11ms/step\n",
      "19/19 [==============================] - 0s 11ms/step\n",
      "19/19 [==============================] - 0s 11ms/step\n",
      "19/19 [==============================] - 0s 11ms/step\n",
      "19/19 [==============================] - 0s 11ms/step\n"
     ]
    },
    {
     "name": "stderr",
     "output_type": "stream",
     "text": [
      "Evaluating models: 100%|██████████| 7/7 [01:49<00:00, 15.58s/it]\n",
      "2025-08-01 15:26:24,651 [INFO] ✅ Evaluation complete\n"
     ]
    },
    {
     "name": "stdout",
     "output_type": "stream",
     "text": [
      "\n",
      "– Fold 2/5: testing on 7 subjects –\n",
      "Train set: 87 samples, Test set: 37 samples\n"
     ]
    },
    {
     "name": "stderr",
     "output_type": "stream",
     "text": [
      "2025-08-01 15:26:24,699 [INFO] Training models (seed=0)\n"
     ]
    },
    {
     "name": "stdout",
     "output_type": "stream",
     "text": [
      "Train set: X: (1057, 1500), y: (1057,)    ([ADLs, Falls]) [970  87]\n",
      "Test set: X: 37, y: 37\n"
     ]
    },
    {
     "name": "stderr",
     "output_type": "stream",
     "text": [
      "Training (seed=0): 100%|██████████| 7/7 [02:39<00:00, 22.73s/it]\n",
      "Evaluating models:  86%|████████▌ | 6/7 [02:20<00:33, 33.69s/it]"
     ]
    },
    {
     "name": "stdout",
     "output_type": "stream",
     "text": [
      "19/19 [==============================] - 0s 11ms/step\n",
      "19/19 [==============================] - 0s 11ms/step\n",
      "19/19 [==============================] - 0s 11ms/step\n",
      "19/19 [==============================] - 0s 11ms/step\n",
      "19/19 [==============================] - 0s 11ms/step\n",
      "19/19 [==============================] - 0s 11ms/step\n",
      "19/19 [==============================] - 0s 11ms/step\n",
      "19/19 [==============================] - 0s 11ms/step\n",
      "19/19 [==============================] - 0s 11ms/step\n",
      "19/19 [==============================] - 0s 11ms/step\n",
      "19/19 [==============================] - 0s 11ms/step\n",
      "19/19 [==============================] - 0s 11ms/step\n",
      "19/19 [==============================] - 0s 11ms/step\n",
      "19/19 [==============================] - 0s 11ms/step\n",
      "19/19 [==============================] - 0s 11ms/step\n",
      "19/19 [==============================] - 0s 11ms/step\n",
      "19/19 [==============================] - 0s 11ms/step\n",
      "19/19 [==============================] - 0s 11ms/step\n",
      "19/19 [==============================] - 0s 11ms/step\n",
      "19/19 [==============================] - 0s 11ms/step\n",
      "19/19 [==============================] - 0s 11ms/step\n",
      "19/19 [==============================] - 0s 11ms/step\n",
      "19/19 [==============================] - 0s 11ms/step\n",
      "19/19 [==============================] - 0s 11ms/step\n",
      "19/19 [==============================] - 0s 11ms/step\n",
      "19/19 [==============================] - 0s 11ms/step\n",
      "19/19 [==============================] - 0s 11ms/step\n",
      "19/19 [==============================] - 0s 11ms/step\n",
      "19/19 [==============================] - 0s 11ms/step\n",
      "19/19 [==============================] - 0s 11ms/step\n",
      "19/19 [==============================] - 0s 11ms/step\n",
      "19/19 [==============================] - 0s 11ms/step\n",
      "19/19 [==============================] - 0s 11ms/step\n",
      "19/19 [==============================] - 0s 11ms/step\n"
     ]
    },
    {
     "name": "stderr",
     "output_type": "stream",
     "text": [
      "Evaluating models: 100%|██████████| 7/7 [02:32<00:00, 21.84s/it]\n",
      "2025-08-01 15:31:36,851 [INFO] ✅ Evaluation complete\n"
     ]
    },
    {
     "name": "stdout",
     "output_type": "stream",
     "text": [
      "\n",
      "– Fold 3/5: testing on 6 subjects –\n"
     ]
    },
    {
     "name": "stderr",
     "output_type": "stream",
     "text": [
      "2025-08-01 15:31:36,873 [INFO] Training models (seed=0)\n"
     ]
    },
    {
     "name": "stdout",
     "output_type": "stream",
     "text": [
      "Train set: 113 samples, Test set: 11 samples\n",
      "Train set: X: (889, 1500), y: (889,)    ([ADLs, Falls]) [776 113]\n",
      "Test set: X: 11, y: 11\n"
     ]
    },
    {
     "name": "stderr",
     "output_type": "stream",
     "text": [
      "Training (seed=0): 100%|██████████| 7/7 [02:50<00:00, 24.34s/it]\n",
      "Evaluating models:  86%|████████▌ | 6/7 [00:37<00:08,  8.57s/it]"
     ]
    },
    {
     "name": "stdout",
     "output_type": "stream",
     "text": [
      "19/19 [==============================] - 0s 11ms/step\n",
      "19/19 [==============================] - 0s 11ms/step\n",
      "19/19 [==============================] - 0s 11ms/step\n",
      "19/19 [==============================] - 0s 11ms/step\n",
      "19/19 [==============================] - 0s 11ms/step\n",
      "19/19 [==============================] - 0s 11ms/step\n",
      "19/19 [==============================] - 0s 11ms/step\n",
      "19/19 [==============================] - 0s 11ms/step\n",
      "19/19 [==============================] - 0s 11ms/step\n"
     ]
    },
    {
     "name": "stderr",
     "output_type": "stream",
     "text": [
      "Evaluating models: 100%|██████████| 7/7 [00:40<00:00,  5.79s/it]\n",
      "2025-08-01 15:35:07,841 [INFO] ✅ Evaluation complete\n",
      "2025-08-01 15:35:07,883 [INFO] Training models (seed=0)\n"
     ]
    },
    {
     "name": "stdout",
     "output_type": "stream",
     "text": [
      "\n",
      "– Fold 4/5: testing on 6 subjects –\n",
      "Train set: 108 samples, Test set: 16 samples\n",
      "Train set: X: (1096, 1500), y: (1096,)    ([ADLs, Falls]) [988 108]\n",
      "Test set: X: 16, y: 16\n"
     ]
    },
    {
     "name": "stderr",
     "output_type": "stream",
     "text": [
      "Training (seed=0): 100%|██████████| 7/7 [01:42<00:00, 14.61s/it]\n",
      "Evaluating models:  86%|████████▌ | 6/7 [01:00<00:14, 14.44s/it]"
     ]
    },
    {
     "name": "stdout",
     "output_type": "stream",
     "text": [
      "19/19 [==============================] - 0s 11ms/step\n",
      "19/19 [==============================] - 0s 11ms/step\n",
      "19/19 [==============================] - 0s 11ms/step\n",
      "19/19 [==============================] - 0s 11ms/step\n",
      "19/19 [==============================] - 0s 11ms/step\n",
      "19/19 [==============================] - 0s 11ms/step\n",
      "19/19 [==============================] - 0s 11ms/step\n",
      "19/19 [==============================] - 0s 11ms/step\n",
      "19/19 [==============================] - 0s 11ms/step\n",
      "19/19 [==============================] - 0s 11ms/step\n",
      "19/19 [==============================] - 0s 11ms/step\n",
      "19/19 [==============================] - 0s 11ms/step\n",
      "19/19 [==============================] - 0s 11ms/step\n",
      "19/19 [==============================] - 0s 11ms/step\n",
      "19/19 [==============================] - 0s 11ms/step\n"
     ]
    },
    {
     "name": "stderr",
     "output_type": "stream",
     "text": [
      "Evaluating models: 100%|██████████| 7/7 [01:06<00:00,  9.43s/it]\n",
      "2025-08-01 15:37:56,248 [INFO] ✅ Evaluation complete\n"
     ]
    },
    {
     "name": "stdout",
     "output_type": "stream",
     "text": [
      "\n",
      "– Fold 5/5: testing on 6 subjects –\n",
      "Train set: 86 samples, Test set: 38 samples\n"
     ]
    },
    {
     "name": "stderr",
     "output_type": "stream",
     "text": [
      "2025-08-01 15:37:56,288 [INFO] Training models (seed=0)\n"
     ]
    },
    {
     "name": "stdout",
     "output_type": "stream",
     "text": [
      "Train set: X: (676, 1500), y: (676,)    ([ADLs, Falls]) [590  86]\n",
      "Test set: X: 38, y: 38\n"
     ]
    },
    {
     "name": "stderr",
     "output_type": "stream",
     "text": [
      "Training (seed=0): 100%|██████████| 7/7 [01:32<00:00, 13.24s/it]\n",
      "Evaluating models:  86%|████████▌ | 6/7 [02:34<00:36, 36.85s/it]"
     ]
    },
    {
     "name": "stdout",
     "output_type": "stream",
     "text": [
      "19/19 [==============================] - 0s 11ms/step\n",
      "19/19 [==============================] - 0s 11ms/step\n",
      "19/19 [==============================] - 0s 11ms/step\n",
      "19/19 [==============================] - 0s 11ms/step\n",
      "19/19 [==============================] - 0s 11ms/step\n",
      "18/18 [==============================] - 3s 168ms/step\n",
      "19/19 [==============================] - 0s 11ms/step\n",
      "19/19 [==============================] - 0s 11ms/step\n",
      "19/19 [==============================] - 0s 11ms/step\n",
      "19/19 [==============================] - 0s 11ms/step\n",
      "19/19 [==============================] - 0s 11ms/step\n",
      "19/19 [==============================] - 0s 11ms/step\n",
      "19/19 [==============================] - 0s 11ms/step\n",
      "19/19 [==============================] - 0s 11ms/step\n",
      "19/19 [==============================] - 0s 11ms/step\n",
      "19/19 [==============================] - 0s 11ms/step\n",
      "19/19 [==============================] - 0s 11ms/step\n",
      "19/19 [==============================] - 0s 11ms/step\n",
      "19/19 [==============================] - 0s 11ms/step\n",
      "19/19 [==============================] - 0s 11ms/step\n",
      "19/19 [==============================] - 0s 11ms/step\n",
      "19/19 [==============================] - 0s 11ms/step\n",
      "19/19 [==============================] - 0s 11ms/step\n",
      "19/19 [==============================] - 0s 11ms/step\n",
      "19/19 [==============================] - 0s 11ms/step\n",
      "19/19 [==============================] - 0s 11ms/step\n",
      "19/19 [==============================] - 0s 11ms/step\n",
      "19/19 [==============================] - 0s 11ms/step\n",
      "19/19 [==============================] - 0s 11ms/step\n",
      "19/19 [==============================] - 0s 11ms/step\n",
      "19/19 [==============================] - 0s 11ms/step\n",
      "19/19 [==============================] - 0s 11ms/step\n",
      "19/19 [==============================] - 0s 11ms/step\n",
      "19/19 [==============================] - 0s 11ms/step\n",
      "16/16 [==============================] - 2s 161ms/step\n",
      "19/19 [==============================] - 0s 11ms/step\n",
      "19/19 [==============================] - 0s 11ms/step\n"
     ]
    },
    {
     "name": "stderr",
     "output_type": "stream",
     "text": [
      "Evaluating models: 100%|██████████| 7/7 [02:52<00:00, 24.66s/it]\n",
      "2025-08-01 15:42:21,772 [INFO] ✅ Evaluation complete\n",
      "2025-08-01 15:42:21,850 [INFO] Training models (seed=0)\n"
     ]
    },
    {
     "name": "stdout",
     "output_type": "stream",
     "text": [
      "Running CV for window size 30 seconds\n",
      "\n",
      "– Fold 1/5: testing on 7 subjects –\n",
      "Train set: 102 samples, Test set: 22 samples\n",
      "Train set: X: (957, 3000), y: (957,)    ([ADLs, Falls]) [855 102]\n",
      "Test set: X: 22, y: 22\n"
     ]
    },
    {
     "name": "stderr",
     "output_type": "stream",
     "text": [
      "Training (seed=0): 100%|██████████| 7/7 [03:46<00:00, 32.34s/it]\n",
      "Evaluating models:  86%|████████▌ | 6/7 [03:05<00:42, 42.89s/it]"
     ]
    },
    {
     "name": "stdout",
     "output_type": "stream",
     "text": [
      "19/19 [==============================] - 7s 163ms/step\n",
      "19/19 [==============================] - 1s 28ms/step\n",
      "19/19 [==============================] - 1s 28ms/step\n",
      "19/19 [==============================] - 1s 28ms/step\n",
      "19/19 [==============================] - 1s 28ms/step\n",
      "19/19 [==============================] - 1s 28ms/step\n",
      "19/19 [==============================] - 1s 28ms/step\n",
      "19/19 [==============================] - 1s 28ms/step\n",
      "19/19 [==============================] - 1s 28ms/step\n",
      "19/19 [==============================] - 1s 28ms/step\n",
      "19/19 [==============================] - 1s 27ms/step\n",
      "19/19 [==============================] - 1s 28ms/step\n",
      "19/19 [==============================] - 1s 28ms/step\n",
      "19/19 [==============================] - 1s 28ms/step\n",
      "19/19 [==============================] - 1s 28ms/step\n",
      "19/19 [==============================] - 1s 28ms/step\n",
      "19/19 [==============================] - 1s 28ms/step\n",
      "19/19 [==============================] - 1s 28ms/step\n",
      "19/19 [==============================] - 1s 27ms/step\n",
      "19/19 [==============================] - 1s 28ms/step\n",
      "19/19 [==============================] - 1s 28ms/step\n",
      "19/19 [==============================] - 1s 28ms/step\n"
     ]
    },
    {
     "name": "stderr",
     "output_type": "stream",
     "text": [
      "Evaluating models: 100%|██████████| 7/7 [03:28<00:00, 29.78s/it]\n",
      "2025-08-01 15:49:36,862 [INFO] ✅ Evaluation complete\n",
      "2025-08-01 15:49:36,912 [INFO] Training models (seed=0)\n"
     ]
    },
    {
     "name": "stdout",
     "output_type": "stream",
     "text": [
      "\n",
      "– Fold 2/5: testing on 7 subjects –\n",
      "Train set: 87 samples, Test set: 37 samples\n",
      "Train set: X: (1018, 3000), y: (1018,)    ([ADLs, Falls]) [931  87]\n",
      "Test set: X: 37, y: 37\n"
     ]
    },
    {
     "name": "stderr",
     "output_type": "stream",
     "text": [
      "Training (seed=0): 100%|██████████| 7/7 [03:18<00:00, 28.38s/it]\n",
      "Evaluating models:  86%|████████▌ | 6/7 [04:32<01:03, 63.48s/it]"
     ]
    },
    {
     "name": "stdout",
     "output_type": "stream",
     "text": [
      "19/19 [==============================] - 1s 27ms/step\n",
      "19/19 [==============================] - 1s 27ms/step\n",
      "19/19 [==============================] - 1s 28ms/step\n",
      "19/19 [==============================] - 1s 28ms/step\n",
      "19/19 [==============================] - 1s 27ms/step\n",
      "19/19 [==============================] - 1s 28ms/step\n",
      "19/19 [==============================] - 1s 28ms/step\n",
      "19/19 [==============================] - 1s 28ms/step\n",
      "19/19 [==============================] - 1s 28ms/step\n",
      "19/19 [==============================] - 1s 28ms/step\n",
      "19/19 [==============================] - 1s 28ms/step\n",
      "19/19 [==============================] - 1s 28ms/step\n",
      "19/19 [==============================] - 1s 28ms/step\n",
      "19/19 [==============================] - 1s 28ms/step\n",
      "19/19 [==============================] - 1s 28ms/step\n",
      "19/19 [==============================] - 1s 28ms/step\n",
      "19/19 [==============================] - 0s 15ms/step\n",
      "19/19 [==============================] - 0s 13ms/step\n",
      "19/19 [==============================] - 0s 13ms/step\n",
      "19/19 [==============================] - 1s 26ms/step\n",
      "19/19 [==============================] - 1s 26ms/step\n",
      "19/19 [==============================] - 0s 26ms/step\n",
      "19/19 [==============================] - 1s 26ms/step\n",
      "19/19 [==============================] - 1s 26ms/step\n",
      "19/19 [==============================] - 1s 26ms/step\n",
      "19/19 [==============================] - 1s 26ms/step\n",
      "19/19 [==============================] - 1s 26ms/step\n",
      "19/19 [==============================] - 1s 26ms/step\n",
      "19/19 [==============================] - 0s 25ms/step\n",
      "19/19 [==============================] - 0s 27ms/step\n",
      "19/19 [==============================] - 1s 26ms/step\n",
      "19/19 [==============================] - 1s 26ms/step\n",
      "19/19 [==============================] - 1s 26ms/step\n",
      "19/19 [==============================] - 1s 26ms/step\n"
     ]
    },
    {
     "name": "stderr",
     "output_type": "stream",
     "text": [
      "Evaluating models: 100%|██████████| 7/7 [04:53<00:00, 41.96s/it]\n",
      "2025-08-01 15:57:49,543 [INFO] ✅ Evaluation complete\n",
      "2025-08-01 15:57:49,565 [INFO] Training models (seed=0)\n"
     ]
    },
    {
     "name": "stdout",
     "output_type": "stream",
     "text": [
      "\n",
      "– Fold 3/5: testing on 6 subjects –\n",
      "Train set: 113 samples, Test set: 11 samples\n",
      "Train set: X: (847, 3000), y: (847,)    ([ADLs, Falls]) [734 113]\n",
      "Test set: X: 11, y: 11\n"
     ]
    },
    {
     "name": "stderr",
     "output_type": "stream",
     "text": [
      "Training (seed=0): 100%|██████████| 7/7 [02:48<00:00, 24.00s/it]\n",
      "Evaluating models:  86%|████████▌ | 6/7 [01:11<00:16, 16.25s/it]"
     ]
    },
    {
     "name": "stdout",
     "output_type": "stream",
     "text": [
      "19/19 [==============================] - 1s 27ms/step\n",
      "19/19 [==============================] - 1s 27ms/step\n",
      "19/19 [==============================] - 1s 27ms/step\n",
      "19/19 [==============================] - 1s 27ms/step\n",
      "19/19 [==============================] - 1s 28ms/step\n",
      "19/19 [==============================] - 1s 28ms/step\n",
      "19/19 [==============================] - 1s 28ms/step\n",
      "19/19 [==============================] - 1s 28ms/step\n",
      "19/19 [==============================] - 1s 28ms/step\n"
     ]
    },
    {
     "name": "stderr",
     "output_type": "stream",
     "text": [
      "Evaluating models: 100%|██████████| 7/7 [01:17<00:00, 11.12s/it]\n",
      "2025-08-01 16:01:55,524 [INFO] ✅ Evaluation complete\n",
      "2025-08-01 16:01:55,575 [INFO] Training models (seed=0)\n"
     ]
    },
    {
     "name": "stdout",
     "output_type": "stream",
     "text": [
      "\n",
      "– Fold 4/5: testing on 6 subjects –\n",
      "Train set: 108 samples, Test set: 16 samples\n",
      "Train set: X: (1057, 3000), y: (1057,)    ([ADLs, Falls]) [949 108]\n",
      "Test set: X: 16, y: 16\n"
     ]
    },
    {
     "name": "stderr",
     "output_type": "stream",
     "text": [
      "Training (seed=0): 100%|██████████| 7/7 [03:07<00:00, 26.73s/it]\n",
      "Evaluating models:  86%|████████▌ | 6/7 [01:57<00:27, 27.43s/it]"
     ]
    },
    {
     "name": "stdout",
     "output_type": "stream",
     "text": [
      "19/19 [==============================] - 1s 28ms/step\n",
      "19/19 [==============================] - 1s 28ms/step\n",
      "19/19 [==============================] - 1s 28ms/step\n",
      "19/19 [==============================] - 1s 28ms/step\n",
      "19/19 [==============================] - 1s 27ms/step\n",
      "19/19 [==============================] - 1s 28ms/step\n",
      "19/19 [==============================] - 1s 28ms/step\n",
      "19/19 [==============================] - 1s 28ms/step\n",
      "19/19 [==============================] - 1s 28ms/step\n",
      "19/19 [==============================] - 1s 27ms/step\n",
      "19/19 [==============================] - 1s 28ms/step\n",
      "19/19 [==============================] - 1s 28ms/step\n",
      "19/19 [==============================] - 1s 28ms/step\n",
      "19/19 [==============================] - 1s 28ms/step\n",
      "19/19 [==============================] - 1s 28ms/step\n"
     ]
    },
    {
     "name": "stderr",
     "output_type": "stream",
     "text": [
      "Evaluating models: 100%|██████████| 7/7 [02:07<00:00, 18.25s/it]\n",
      "2025-08-01 16:07:10,539 [INFO] ✅ Evaluation complete\n"
     ]
    },
    {
     "name": "stdout",
     "output_type": "stream",
     "text": [
      "\n",
      "– Fold 5/5: testing on 6 subjects –\n",
      "Train set: 86 samples, Test set: 38 samples\n"
     ]
    },
    {
     "name": "stderr",
     "output_type": "stream",
     "text": [
      "2025-08-01 16:07:10,567 [INFO] Training models (seed=0)\n"
     ]
    },
    {
     "name": "stdout",
     "output_type": "stream",
     "text": [
      "Train set: X: (657, 3000), y: (657,)    ([ADLs, Falls]) [571  86]\n",
      "Test set: X: 38, y: 38\n"
     ]
    },
    {
     "name": "stderr",
     "output_type": "stream",
     "text": [
      "Training (seed=0): 100%|██████████| 7/7 [03:45<00:00, 32.22s/it]\n",
      "Evaluating models:  86%|████████▌ | 6/7 [04:56<01:09, 69.41s/it]"
     ]
    },
    {
     "name": "stdout",
     "output_type": "stream",
     "text": [
      "19/19 [==============================] - 1s 27ms/step\n",
      "19/19 [==============================] - 1s 28ms/step\n",
      "19/19 [==============================] - 1s 28ms/step\n",
      "19/19 [==============================] - 1s 27ms/step\n",
      "19/19 [==============================] - 1s 28ms/step\n",
      "18/18 [==============================] - 3s 205ms/step\n",
      "19/19 [==============================] - 1s 28ms/step\n",
      "19/19 [==============================] - 1s 28ms/step\n",
      "19/19 [==============================] - 1s 27ms/step\n",
      "19/19 [==============================] - 1s 28ms/step\n",
      "19/19 [==============================] - 1s 28ms/step\n",
      "19/19 [==============================] - 1s 28ms/step\n",
      "19/19 [==============================] - 1s 28ms/step\n",
      "19/19 [==============================] - 1s 28ms/step\n",
      "19/19 [==============================] - 1s 28ms/step\n",
      "19/19 [==============================] - 1s 28ms/step\n",
      "19/19 [==============================] - 1s 28ms/step\n",
      "19/19 [==============================] - 1s 28ms/step\n",
      "19/19 [==============================] - 1s 28ms/step\n",
      "19/19 [==============================] - 1s 28ms/step\n",
      "19/19 [==============================] - 1s 28ms/step\n",
      "19/19 [==============================] - 1s 28ms/step\n",
      "19/19 [==============================] - 1s 27ms/step\n",
      "19/19 [==============================] - 1s 28ms/step\n",
      "19/19 [==============================] - 1s 28ms/step\n",
      "19/19 [==============================] - 1s 28ms/step\n",
      "19/19 [==============================] - 1s 28ms/step\n",
      "19/19 [==============================] - 1s 28ms/step\n",
      "19/19 [==============================] - 1s 27ms/step\n",
      "19/19 [==============================] - 1s 28ms/step\n",
      "19/19 [==============================] - 1s 27ms/step\n",
      "19/19 [==============================] - 1s 28ms/step\n",
      "19/19 [==============================] - 1s 28ms/step\n",
      "19/19 [==============================] - 1s 28ms/step\n",
      "16/16 [==============================] - 3s 173ms/step\n",
      "19/19 [==============================] - 1s 27ms/step\n",
      "19/19 [==============================] - 1s 28ms/step\n"
     ]
    },
    {
     "name": "stderr",
     "output_type": "stream",
     "text": [
      "Evaluating models: 100%|██████████| 7/7 [05:26<00:00, 46.71s/it]\n",
      "2025-08-01 16:16:23,331 [INFO] ✅ Evaluation complete\n",
      "2025-08-01 16:16:23,431 [INFO] Training models (seed=0)\n"
     ]
    },
    {
     "name": "stdout",
     "output_type": "stream",
     "text": [
      "Running CV for window size 60 seconds\n",
      "\n",
      "– Fold 1/5: testing on 7 subjects –\n",
      "Train set: 102 samples, Test set: 22 samples\n",
      "Train set: X: (864, 6000), y: (864,)    ([ADLs, Falls]) [762 102]\n",
      "Test set: X: 22, y: 22\n"
     ]
    },
    {
     "name": "stderr",
     "output_type": "stream",
     "text": [
      "Training (seed=0): 100%|██████████| 7/7 [08:45<00:00, 75.08s/it] \n",
      "Evaluating models:  86%|████████▌ | 6/7 [06:36<01:29, 89.97s/it] "
     ]
    },
    {
     "name": "stdout",
     "output_type": "stream",
     "text": [
      "18/18 [==============================] - 5s 158ms/step\n",
      "18/18 [==============================] - 1s 37ms/step\n",
      "18/18 [==============================] - 1s 37ms/step\n",
      "18/18 [==============================] - 1s 37ms/step\n",
      "18/18 [==============================] - 1s 37ms/step\n",
      "18/18 [==============================] - 1s 37ms/step\n",
      "18/18 [==============================] - 1s 37ms/step\n",
      "18/18 [==============================] - 1s 37ms/step\n",
      "18/18 [==============================] - 1s 37ms/step\n",
      "18/18 [==============================] - 1s 27ms/step\n",
      "18/18 [==============================] - 0s 27ms/step\n",
      "18/18 [==============================] - 1s 37ms/step\n",
      "18/18 [==============================] - 1s 37ms/step\n",
      "18/18 [==============================] - 1s 37ms/step\n",
      "18/18 [==============================] - 1s 37ms/step\n",
      "18/18 [==============================] - 1s 37ms/step\n",
      "18/18 [==============================] - 1s 37ms/step\n",
      "18/18 [==============================] - 1s 37ms/step\n",
      "18/18 [==============================] - 1s 37ms/step\n",
      "18/18 [==============================] - 1s 37ms/step\n",
      "18/18 [==============================] - 1s 37ms/step\n",
      "18/18 [==============================] - 1s 37ms/step\n"
     ]
    },
    {
     "name": "stderr",
     "output_type": "stream",
     "text": [
      "Evaluating models: 100%|██████████| 7/7 [07:03<00:00, 60.52s/it]\n",
      "2025-08-01 16:32:12,804 [INFO] ✅ Evaluation complete\n",
      "2025-08-01 16:32:12,864 [INFO] Training models (seed=0)\n"
     ]
    },
    {
     "name": "stdout",
     "output_type": "stream",
     "text": [
      "\n",
      "– Fold 2/5: testing on 7 subjects –\n",
      "Train set: 87 samples, Test set: 37 samples\n",
      "Train set: X: (927, 6000), y: (927,)    ([ADLs, Falls]) [840  87]\n",
      "Test set: X: 37, y: 37\n"
     ]
    },
    {
     "name": "stderr",
     "output_type": "stream",
     "text": [
      "Training (seed=0): 100%|██████████| 7/7 [06:54<00:00, 59.17s/it] \n",
      "Evaluating models:  86%|████████▌ | 6/7 [09:31<02:11, 131.35s/it]"
     ]
    },
    {
     "name": "stdout",
     "output_type": "stream",
     "text": [
      "18/18 [==============================] - 1s 55ms/step\n",
      "18/18 [==============================] - 1s 55ms/step\n",
      "18/18 [==============================] - 1s 55ms/step\n",
      "18/18 [==============================] - 1s 55ms/step\n",
      "18/18 [==============================] - 1s 55ms/step\n",
      "18/18 [==============================] - 1s 55ms/step\n",
      "18/18 [==============================] - 1s 55ms/step\n",
      "18/18 [==============================] - 1s 55ms/step\n",
      "18/18 [==============================] - 1s 55ms/step\n",
      "18/18 [==============================] - 1s 55ms/step\n",
      "18/18 [==============================] - 1s 55ms/step\n",
      "18/18 [==============================] - 1s 55ms/step\n",
      "18/18 [==============================] - 1s 55ms/step\n",
      "18/18 [==============================] - 1s 55ms/step\n",
      "18/18 [==============================] - 1s 55ms/step\n",
      "18/18 [==============================] - 1s 55ms/step\n",
      "18/18 [==============================] - 1s 55ms/step\n",
      "18/18 [==============================] - 1s 55ms/step\n",
      "18/18 [==============================] - 1s 55ms/step\n",
      "18/18 [==============================] - 1s 55ms/step\n",
      "18/18 [==============================] - 1s 55ms/step\n",
      "18/18 [==============================] - 1s 55ms/step\n",
      "18/18 [==============================] - 1s 55ms/step\n",
      "18/18 [==============================] - 1s 55ms/step\n",
      "18/18 [==============================] - 1s 55ms/step\n",
      "18/18 [==============================] - 1s 55ms/step\n",
      "18/18 [==============================] - 1s 55ms/step\n",
      "18/18 [==============================] - 1s 55ms/step\n",
      "18/18 [==============================] - 1s 55ms/step\n",
      "18/18 [==============================] - 1s 55ms/step\n",
      "18/18 [==============================] - 1s 55ms/step\n",
      "18/18 [==============================] - 1s 55ms/step\n",
      "18/18 [==============================] - 1s 55ms/step\n",
      "18/18 [==============================] - 1s 55ms/step\n"
     ]
    },
    {
     "name": "stderr",
     "output_type": "stream",
     "text": [
      "Evaluating models: 100%|██████████| 7/7 [10:11<00:00, 87.29s/it] \n",
      "2025-08-01 16:49:18,297 [INFO] ✅ Evaluation complete\n",
      "2025-08-01 16:49:18,320 [INFO] Training models (seed=0)\n"
     ]
    },
    {
     "name": "stdout",
     "output_type": "stream",
     "text": [
      "\n",
      "– Fold 3/5: testing on 6 subjects –\n",
      "Train set: 113 samples, Test set: 11 samples\n",
      "Train set: X: (771, 6000), y: (771,)    ([ADLs, Falls]) [658 113]\n",
      "Test set: X: 11, y: 11\n"
     ]
    },
    {
     "name": "stderr",
     "output_type": "stream",
     "text": [
      "Training (seed=0): 100%|██████████| 7/7 [08:27<00:00, 72.44s/it] \n",
      "Evaluating models:  86%|████████▌ | 6/7 [02:29<00:34, 34.50s/it]"
     ]
    },
    {
     "name": "stdout",
     "output_type": "stream",
     "text": [
      "18/18 [==============================] - 1s 55ms/step\n",
      "18/18 [==============================] - 1s 55ms/step\n",
      "18/18 [==============================] - 1s 55ms/step\n",
      "18/18 [==============================] - 1s 55ms/step\n",
      "18/18 [==============================] - 1s 55ms/step\n",
      "18/18 [==============================] - 1s 55ms/step\n",
      "18/18 [==============================] - 1s 55ms/step\n",
      "18/18 [==============================] - 1s 55ms/step\n",
      "18/18 [==============================] - 1s 55ms/step\n"
     ]
    },
    {
     "name": "stderr",
     "output_type": "stream",
     "text": [
      "Evaluating models: 100%|██████████| 7/7 [02:40<00:00, 22.93s/it]\n",
      "2025-08-01 17:00:26,072 [INFO] ✅ Evaluation complete\n",
      "2025-08-01 17:00:26,110 [INFO] Training models (seed=0)\n"
     ]
    },
    {
     "name": "stdout",
     "output_type": "stream",
     "text": [
      "\n",
      "– Fold 4/5: testing on 6 subjects –\n",
      "Train set: 108 samples, Test set: 16 samples\n",
      "Train set: X: (973, 6000), y: (973,)    ([ADLs, Falls]) [865 108]\n",
      "Test set: X: 16, y: 16\n"
     ]
    },
    {
     "name": "stderr",
     "output_type": "stream",
     "text": [
      "Training (seed=0): 100%|██████████| 7/7 [05:47<00:00, 49.59s/it]\n",
      "Evaluating models:  86%|████████▌ | 6/7 [04:05<00:56, 56.38s/it]"
     ]
    },
    {
     "name": "stdout",
     "output_type": "stream",
     "text": [
      "18/18 [==============================] - 1s 55ms/step\n",
      "18/18 [==============================] - 1s 55ms/step\n",
      "18/18 [==============================] - 1s 55ms/step\n",
      "18/18 [==============================] - 1s 55ms/step\n",
      "18/18 [==============================] - 1s 55ms/step\n",
      "18/18 [==============================] - 1s 55ms/step\n",
      "18/18 [==============================] - 1s 55ms/step\n",
      "18/18 [==============================] - 1s 55ms/step\n",
      "18/18 [==============================] - 1s 55ms/step\n",
      "18/18 [==============================] - 1s 55ms/step\n",
      "18/18 [==============================] - 1s 55ms/step\n",
      "18/18 [==============================] - 1s 55ms/step\n",
      "18/18 [==============================] - 1s 55ms/step\n",
      "18/18 [==============================] - 1s 55ms/step\n",
      "18/18 [==============================] - 1s 55ms/step\n"
     ]
    },
    {
     "name": "stderr",
     "output_type": "stream",
     "text": [
      "Evaluating models: 100%|██████████| 7/7 [04:22<00:00, 37.56s/it]\n",
      "2025-08-01 17:10:36,307 [INFO] ✅ Evaluation complete\n",
      "2025-08-01 17:10:36,342 [INFO] Training models (seed=0)\n"
     ]
    },
    {
     "name": "stdout",
     "output_type": "stream",
     "text": [
      "\n",
      "– Fold 5/5: testing on 6 subjects –\n",
      "Train set: 86 samples, Test set: 38 samples\n",
      "Train set: X: (621, 6000), y: (621,)    ([ADLs, Falls]) [535  86]\n",
      "Test set: X: 38, y: 38\n"
     ]
    },
    {
     "name": "stderr",
     "output_type": "stream",
     "text": [
      "Training (seed=0): 100%|██████████| 7/7 [06:01<00:00, 51.67s/it] \n",
      "Evaluating models:  86%|████████▌ | 6/7 [10:25<02:23, 143.79s/it]"
     ]
    },
    {
     "name": "stdout",
     "output_type": "stream",
     "text": [
      "18/18 [==============================] - 1s 55ms/step\n",
      "18/18 [==============================] - 1s 56ms/step\n",
      "18/18 [==============================] - 1s 55ms/step\n",
      "18/18 [==============================] - 1s 55ms/step\n",
      "18/18 [==============================] - 1s 55ms/step\n",
      "18/18 [==============================] - 4s 210ms/step\n",
      "18/18 [==============================] - 1s 55ms/step\n",
      "18/18 [==============================] - 1s 55ms/step\n",
      "18/18 [==============================] - 1s 55ms/step\n",
      "18/18 [==============================] - 1s 55ms/step\n",
      "18/18 [==============================] - 1s 55ms/step\n",
      "18/18 [==============================] - 1s 55ms/step\n",
      "18/18 [==============================] - 1s 55ms/step\n",
      "18/18 [==============================] - 1s 55ms/step\n",
      "18/18 [==============================] - 1s 55ms/step\n",
      "18/18 [==============================] - 1s 55ms/step\n",
      "18/18 [==============================] - 1s 55ms/step\n",
      "18/18 [==============================] - 1s 55ms/step\n",
      "18/18 [==============================] - 1s 55ms/step\n",
      "18/18 [==============================] - 1s 55ms/step\n",
      "18/18 [==============================] - 1s 55ms/step\n",
      "18/18 [==============================] - 1s 55ms/step\n",
      "18/18 [==============================] - 1s 55ms/step\n",
      "18/18 [==============================] - 1s 55ms/step\n",
      "18/18 [==============================] - 1s 55ms/step\n",
      "18/18 [==============================] - 1s 55ms/step\n",
      "18/18 [==============================] - 1s 55ms/step\n",
      "18/18 [==============================] - 1s 55ms/step\n",
      "18/18 [==============================] - 1s 56ms/step\n",
      "18/18 [==============================] - 1s 55ms/step\n",
      "18/18 [==============================] - 1s 55ms/step\n",
      "18/18 [==============================] - 1s 55ms/step\n",
      "18/18 [==============================] - 1s 55ms/step\n",
      "18/18 [==============================] - 1s 55ms/step\n",
      "15/15 [==============================] - 5s 352ms/step\n",
      "18/18 [==============================] - 1s 55ms/step\n",
      "18/18 [==============================] - 1s 55ms/step\n"
     ]
    },
    {
     "name": "stderr",
     "output_type": "stream",
     "text": [
      "Evaluating models: 100%|██████████| 7/7 [11:16<00:00, 96.71s/it] \n",
      "2025-08-01 17:27:55,242 [INFO] ✅ Evaluation complete\n"
     ]
    }
   ],
   "source": [
    "ALL_CV_ROWS = []\n",
    "run_kwargs.update(model_specs=MODEL_SPECS)\n",
    "models = [spec for spec in MODEL_SPECS\\\n",
    "\t\t  if spec.kind != \"baseline\"\n",
    "\t\t  and spec.name != \"ResNet\"]\n",
    "run_kwargs.update(model_specs=models)\n",
    "for win in WINDOW_SIZES:\n",
    "\tprint(f\"Running CV for window size {win} seconds\")\n",
    "\trunner = CVRunner(\n",
    "        df=train_df,\n",
    "        dataset=fs,\n",
    "        groups=\"SubjectID\",\n",
    "        split_df_fn=utils.split_df,\n",
    "        run_models_fn=run_models,\n",
    "        window_size=win,\n",
    "        cv=CV_FOLDS,\n",
    "        kwargs=kwargs\n",
    "    )\n",
    "\tfold_df = runner.run(**run_kwargs)\n",
    "\tfold_df[\"window_size\"] = win\n",
    "\tALL_CV_ROWS.append(fold_df)\n",
    "cv_metrics = pd.concat(ALL_CV_ROWS, ignore_index=True)\n",
    "cv_metrics.to_csv(RES_DIR / \"cv_all_windows.csv\", index=False)"
   ]
  },
  {
   "cell_type": "code",
   "execution_count": 13,
   "id": "7dfde0b8",
   "metadata": {},
   "outputs": [
    {
     "data": {
      "text/html": [
       "<div>\n",
       "<style scoped>\n",
       "    .dataframe tbody tr th:only-of-type {\n",
       "        vertical-align: middle;\n",
       "    }\n",
       "\n",
       "    .dataframe tbody tr th {\n",
       "        vertical-align: top;\n",
       "    }\n",
       "\n",
       "    .dataframe thead th {\n",
       "        text-align: right;\n",
       "    }\n",
       "</style>\n",
       "<table border=\"1\" class=\"dataframe\">\n",
       "  <thead>\n",
       "    <tr style=\"text-align: right;\">\n",
       "      <th></th>\n",
       "      <th>model</th>\n",
       "      <th>seed</th>\n",
       "      <th>window_size</th>\n",
       "      <th>runtime</th>\n",
       "      <th>delay</th>\n",
       "      <th>precision</th>\n",
       "      <th>recall</th>\n",
       "      <th>specificity</th>\n",
       "      <th>f1-score</th>\n",
       "      <th>auc</th>\n",
       "      <th>false alarm rate</th>\n",
       "      <th>miss rate</th>\n",
       "      <th>gain</th>\n",
       "      <th>fold</th>\n",
       "      <th>thresh</th>\n",
       "    </tr>\n",
       "  </thead>\n",
       "  <tbody>\n",
       "    <tr>\n",
       "      <th>0</th>\n",
       "      <td>ExtraTrees</td>\n",
       "      <td>0.0</td>\n",
       "      <td>3</td>\n",
       "      <td>0.200628</td>\n",
       "      <td>0.909091</td>\n",
       "      <td>0.909091</td>\n",
       "      <td>0.909091</td>\n",
       "      <td>0.999999</td>\n",
       "      <td>0.909091</td>\n",
       "      <td>0.954545</td>\n",
       "      <td>0.272725</td>\n",
       "      <td>0.272725</td>\n",
       "      <td>0.001000</td>\n",
       "      <td>1</td>\n",
       "      <td>NaN</td>\n",
       "    </tr>\n",
       "    <tr>\n",
       "      <th>1</th>\n",
       "      <td>Catch22</td>\n",
       "      <td>0.0</td>\n",
       "      <td>3</td>\n",
       "      <td>6.329436</td>\n",
       "      <td>0.772727</td>\n",
       "      <td>0.714286</td>\n",
       "      <td>0.909091</td>\n",
       "      <td>0.999997</td>\n",
       "      <td>0.800000</td>\n",
       "      <td>0.954544</td>\n",
       "      <td>1.090900</td>\n",
       "      <td>0.272725</td>\n",
       "      <td>0.001000</td>\n",
       "      <td>1</td>\n",
       "      <td>NaN</td>\n",
       "    </tr>\n",
       "    <tr>\n",
       "      <th>2</th>\n",
       "      <td>QUANT</td>\n",
       "      <td>0.0</td>\n",
       "      <td>3</td>\n",
       "      <td>2.357866</td>\n",
       "      <td>0.772727</td>\n",
       "      <td>0.833333</td>\n",
       "      <td>0.909091</td>\n",
       "      <td>0.999998</td>\n",
       "      <td>0.869565</td>\n",
       "      <td>0.954545</td>\n",
       "      <td>0.545450</td>\n",
       "      <td>0.272725</td>\n",
       "      <td>0.001000</td>\n",
       "      <td>1</td>\n",
       "      <td>NaN</td>\n",
       "    </tr>\n",
       "    <tr>\n",
       "      <th>3</th>\n",
       "      <td>ExtraTrees</td>\n",
       "      <td>0.0</td>\n",
       "      <td>3</td>\n",
       "      <td>0.168541</td>\n",
       "      <td>4.559118</td>\n",
       "      <td>0.892857</td>\n",
       "      <td>0.735294</td>\n",
       "      <td>0.999999</td>\n",
       "      <td>0.806452</td>\n",
       "      <td>0.867647</td>\n",
       "      <td>0.264704</td>\n",
       "      <td>0.794111</td>\n",
       "      <td>0.001000</td>\n",
       "      <td>2</td>\n",
       "      <td>NaN</td>\n",
       "    </tr>\n",
       "    <tr>\n",
       "      <th>4</th>\n",
       "      <td>Catch22</td>\n",
       "      <td>0.0</td>\n",
       "      <td>3</td>\n",
       "      <td>8.170037</td>\n",
       "      <td>2.769706</td>\n",
       "      <td>0.823529</td>\n",
       "      <td>0.823529</td>\n",
       "      <td>0.999999</td>\n",
       "      <td>0.823529</td>\n",
       "      <td>0.911764</td>\n",
       "      <td>0.529407</td>\n",
       "      <td>0.529407</td>\n",
       "      <td>0.001000</td>\n",
       "      <td>2</td>\n",
       "      <td>NaN</td>\n",
       "    </tr>\n",
       "    <tr>\n",
       "      <th>...</th>\n",
       "      <td>...</td>\n",
       "      <td>...</td>\n",
       "      <td>...</td>\n",
       "      <td>...</td>\n",
       "      <td>...</td>\n",
       "      <td>...</td>\n",
       "      <td>...</td>\n",
       "      <td>...</td>\n",
       "      <td>...</td>\n",
       "      <td>...</td>\n",
       "      <td>...</td>\n",
       "      <td>...</td>\n",
       "      <td>...</td>\n",
       "      <td>...</td>\n",
       "      <td>...</td>\n",
       "    </tr>\n",
       "    <tr>\n",
       "      <th>170</th>\n",
       "      <td>ResNet</td>\n",
       "      <td>0.0</td>\n",
       "      <td>60</td>\n",
       "      <td>9.684447</td>\n",
       "      <td>-33.777778</td>\n",
       "      <td>0.666667</td>\n",
       "      <td>0.888889</td>\n",
       "      <td>0.999996</td>\n",
       "      <td>0.761905</td>\n",
       "      <td>0.944443</td>\n",
       "      <td>1.333322</td>\n",
       "      <td>0.333331</td>\n",
       "      <td>0.999515</td>\n",
       "      <td>3</td>\n",
       "      <td>0.5</td>\n",
       "    </tr>\n",
       "    <tr>\n",
       "      <th>171</th>\n",
       "      <td>MiniRocket</td>\n",
       "      <td>0.0</td>\n",
       "      <td>60</td>\n",
       "      <td>2.657062</td>\n",
       "      <td>-24.462000</td>\n",
       "      <td>0.636364</td>\n",
       "      <td>0.933333</td>\n",
       "      <td>0.999996</td>\n",
       "      <td>0.756757</td>\n",
       "      <td>0.966664</td>\n",
       "      <td>1.599987</td>\n",
       "      <td>0.199998</td>\n",
       "      <td>1.665860</td>\n",
       "      <td>4</td>\n",
       "      <td>0.5</td>\n",
       "    </tr>\n",
       "    <tr>\n",
       "      <th>172</th>\n",
       "      <td>ResNet</td>\n",
       "      <td>0.0</td>\n",
       "      <td>60</td>\n",
       "      <td>9.732467</td>\n",
       "      <td>-5.795333</td>\n",
       "      <td>0.857143</td>\n",
       "      <td>0.400000</td>\n",
       "      <td>0.999999</td>\n",
       "      <td>0.545455</td>\n",
       "      <td>0.700000</td>\n",
       "      <td>0.199998</td>\n",
       "      <td>1.799985</td>\n",
       "      <td>1.665836</td>\n",
       "      <td>4</td>\n",
       "      <td>0.5</td>\n",
       "    </tr>\n",
       "    <tr>\n",
       "      <th>173</th>\n",
       "      <td>MiniRocket</td>\n",
       "      <td>0.0</td>\n",
       "      <td>60</td>\n",
       "      <td>2.598760</td>\n",
       "      <td>-40.966486</td>\n",
       "      <td>0.615385</td>\n",
       "      <td>0.864865</td>\n",
       "      <td>0.999995</td>\n",
       "      <td>0.719101</td>\n",
       "      <td>0.932430</td>\n",
       "      <td>1.630346</td>\n",
       "      <td>0.407587</td>\n",
       "      <td>4.087076</td>\n",
       "      <td>5</td>\n",
       "      <td>0.5</td>\n",
       "    </tr>\n",
       "    <tr>\n",
       "      <th>174</th>\n",
       "      <td>ResNet</td>\n",
       "      <td>0.0</td>\n",
       "      <td>60</td>\n",
       "      <td>11.766597</td>\n",
       "      <td>-29.356486</td>\n",
       "      <td>0.774194</td>\n",
       "      <td>0.648649</td>\n",
       "      <td>0.999998</td>\n",
       "      <td>0.705882</td>\n",
       "      <td>0.824324</td>\n",
       "      <td>0.570621</td>\n",
       "      <td>1.059725</td>\n",
       "      <td>4.087060</td>\n",
       "      <td>5</td>\n",
       "      <td>0.5</td>\n",
       "    </tr>\n",
       "  </tbody>\n",
       "</table>\n",
       "<p>175 rows × 15 columns</p>\n",
       "</div>"
      ],
      "text/plain": [
       "          model  seed  window_size    runtime      delay  precision    recall  \\\n",
       "0    ExtraTrees   0.0            3   0.200628   0.909091   0.909091  0.909091   \n",
       "1       Catch22   0.0            3   6.329436   0.772727   0.714286  0.909091   \n",
       "2         QUANT   0.0            3   2.357866   0.772727   0.833333  0.909091   \n",
       "3    ExtraTrees   0.0            3   0.168541   4.559118   0.892857  0.735294   \n",
       "4       Catch22   0.0            3   8.170037   2.769706   0.823529  0.823529   \n",
       "..          ...   ...          ...        ...        ...        ...       ...   \n",
       "170      ResNet   0.0           60   9.684447 -33.777778   0.666667  0.888889   \n",
       "171  MiniRocket   0.0           60   2.657062 -24.462000   0.636364  0.933333   \n",
       "172      ResNet   0.0           60   9.732467  -5.795333   0.857143  0.400000   \n",
       "173  MiniRocket   0.0           60   2.598760 -40.966486   0.615385  0.864865   \n",
       "174      ResNet   0.0           60  11.766597 -29.356486   0.774194  0.648649   \n",
       "\n",
       "     specificity  f1-score       auc  false alarm rate  miss rate      gain  \\\n",
       "0       0.999999  0.909091  0.954545          0.272725   0.272725  0.001000   \n",
       "1       0.999997  0.800000  0.954544          1.090900   0.272725  0.001000   \n",
       "2       0.999998  0.869565  0.954545          0.545450   0.272725  0.001000   \n",
       "3       0.999999  0.806452  0.867647          0.264704   0.794111  0.001000   \n",
       "4       0.999999  0.823529  0.911764          0.529407   0.529407  0.001000   \n",
       "..           ...       ...       ...               ...        ...       ...   \n",
       "170     0.999996  0.761905  0.944443          1.333322   0.333331  0.999515   \n",
       "171     0.999996  0.756757  0.966664          1.599987   0.199998  1.665860   \n",
       "172     0.999999  0.545455  0.700000          0.199998   1.799985  1.665836   \n",
       "173     0.999995  0.719101  0.932430          1.630346   0.407587  4.087076   \n",
       "174     0.999998  0.705882  0.824324          0.570621   1.059725  4.087060   \n",
       "\n",
       "     fold  thresh  \n",
       "0       1     NaN  \n",
       "1       1     NaN  \n",
       "2       1     NaN  \n",
       "3       2     NaN  \n",
       "4       2     NaN  \n",
       "..    ...     ...  \n",
       "170     3     0.5  \n",
       "171     4     0.5  \n",
       "172     4     0.5  \n",
       "173     5     0.5  \n",
       "174     5     0.5  \n",
       "\n",
       "[175 rows x 15 columns]"
      ]
     },
     "execution_count": 13,
     "metadata": {},
     "output_type": "execute_result"
    }
   ],
   "source": [
    "\n",
    "cv_metrics = pd.read_csv(RES_DIR / \"cv_all_windows.csv\")\n",
    "# cv_metrics = cv_metrics.query(\"window_size < 60\")\n",
    "dummy_cv_metrics = cv_metrics.query(\"model.str.startswith('Dummy')\")\n",
    "real_cv_metrics = cv_metrics.query(\"not model.str.startswith('Dummy')\")\n",
    "real_cv_metrics = real_cv_metrics.query(\"seed==0.0\")\n",
    "cv_metrics"
   ]
  },
  {
   "cell_type": "code",
   "execution_count": 14,
   "id": "101f0db8",
   "metadata": {},
   "outputs": [],
   "source": [
    "best_rows = (\n",
    "    real_cv_metrics\n",
    "    .groupby([\"model\", \"window_size\"])\n",
    "    [\"f1-score\"].mean()\n",
    "    .unstack(\"window_size\")\n",
    "    .idxmax(axis=1) # window with highest mean F1\n",
    ")\n",
    "BEST_WINDOW = best_rows.to_dict()\n",
    "json.dump(BEST_WINDOW, open(RES_DIR/\"best_window_size.json\",\"w\"))"
   ]
  },
  {
   "cell_type": "code",
   "execution_count": 16,
   "id": "7dfdacf8",
   "metadata": {},
   "outputs": [
    {
     "data": {
      "image/png": "[encoded data removed]",
      "text/plain": [
       "<Figure size 2800x800 with 1 Axes>"
      ]
     },
     "metadata": {},
     "output_type": "display_data"
    }
   ],
   "source": [
    "from scripts.plotting import window_bar\n",
    "\n",
    "plt.figure(figsize=(7, 2), dpi=400)\n",
    "ax = window_bar(real_cv_metrics.query(\"seed==0.0\"),\n",
    "                metric=\"f1-score\", ci=\"sd\",\n",
    "                x=\"model\", hue=\"window_size\")\n",
    "ax.set_xlabel(\"\")\n",
    "ax.set_title(\"\")\n",
    "ax.set_ylim(0.4, 0.95)\n",
    "ax.grid(axis='y', alpha=0.5, which='both')\n",
    "ax.legend(loc=9, ncol=7, \n",
    "          title=\"win_size (s)\",\n",
    "          bbox_to_anchor=(0.5, 1.35),\n",
    "          fontsize=10)\n",
    "ax.set_title(\"\")\n",
    "plt.savefig(FIG_DIR / \"bar_plot_by_window_size.pdf\", bbox_inches='tight')\n",
    "plt.show()"
   ]
  },
  {
   "cell_type": "code",
   "execution_count": 26,
   "id": "19f3d0ba",
   "metadata": {},
   "outputs": [],
   "source": [
    "# aggregate metrics\n",
    "agg_metrics = aggregate(real_cv_metrics)\n",
    "agg_metrics.to_csv(RES_DIR / \"agg_metrics.csv\", index=False)"
   ]
  },
  {
   "cell_type": "code",
   "execution_count": 17,
   "id": "f0b151fa",
   "metadata": {},
   "outputs": [
    {
     "name": "stdout",
     "output_type": "stream",
     "text": [
      "Best model: QUANT with window size of 10 seconds\n"
     ]
    }
   ],
   "source": [
    "grps = real_cv_metrics.groupby(['model', 'window_size']).mean(numeric_only=True)\n",
    "# pick best model and window size\n",
    "best_model = grps['f1-score'].idxmax()[0]\n",
    "best_window = grps['f1-score'].idxmax()[1]\n",
    "print(f\"Best model: {best_model} with window size of {best_window} seconds\")"
   ]
  },
  {
   "cell_type": "code",
   "execution_count": 18,
   "id": "3072c282",
   "metadata": {},
   "outputs": [
    {
     "data": {
      "text/html": [
       "<div>\n",
       "<style scoped>\n",
       "    .dataframe tbody tr th:only-of-type {\n",
       "        vertical-align: middle;\n",
       "    }\n",
       "\n",
       "    .dataframe tbody tr th {\n",
       "        vertical-align: top;\n",
       "    }\n",
       "\n",
       "    .dataframe thead th {\n",
       "        text-align: right;\n",
       "    }\n",
       "</style>\n",
       "<table border=\"1\" class=\"dataframe\">\n",
       "  <thead>\n",
       "    <tr style=\"text-align: right;\">\n",
       "      <th></th>\n",
       "      <th></th>\n",
       "      <th>seed</th>\n",
       "      <th>runtime</th>\n",
       "      <th>delay</th>\n",
       "      <th>precision</th>\n",
       "      <th>recall</th>\n",
       "      <th>specificity</th>\n",
       "      <th>f1-score</th>\n",
       "      <th>auc</th>\n",
       "      <th>false alarm rate</th>\n",
       "      <th>miss rate</th>\n",
       "      <th>gain</th>\n",
       "      <th>fold</th>\n",
       "      <th>thresh</th>\n",
       "    </tr>\n",
       "    <tr>\n",
       "      <th>model</th>\n",
       "      <th>window_size</th>\n",
       "      <th></th>\n",
       "      <th></th>\n",
       "      <th></th>\n",
       "      <th></th>\n",
       "      <th></th>\n",
       "      <th></th>\n",
       "      <th></th>\n",
       "      <th></th>\n",
       "      <th></th>\n",
       "      <th></th>\n",
       "      <th></th>\n",
       "      <th></th>\n",
       "      <th></th>\n",
       "    </tr>\n",
       "  </thead>\n",
       "  <tbody>\n",
       "    <tr>\n",
       "      <th rowspan=\"6\" valign=\"top\">QUANT</th>\n",
       "      <th>10</th>\n",
       "      <td>0.0</td>\n",
       "      <td>5.192498</td>\n",
       "      <td>1.172980</td>\n",
       "      <td>0.795237</td>\n",
       "      <td>0.886058</td>\n",
       "      <td>0.999998</td>\n",
       "      <td>0.837197</td>\n",
       "      <td>0.943028</td>\n",
       "      <td>0.696136</td>\n",
       "      <td>0.342346</td>\n",
       "      <td>0.001000</td>\n",
       "      <td>3.0</td>\n",
       "      <td>NaN</td>\n",
       "    </tr>\n",
       "    <tr>\n",
       "      <th>5</th>\n",
       "      <td>0.0</td>\n",
       "      <td>3.140987</td>\n",
       "      <td>1.589703</td>\n",
       "      <td>0.806687</td>\n",
       "      <td>0.872039</td>\n",
       "      <td>0.999998</td>\n",
       "      <td>0.836736</td>\n",
       "      <td>0.936019</td>\n",
       "      <td>0.634739</td>\n",
       "      <td>0.384579</td>\n",
       "      <td>0.001000</td>\n",
       "      <td>3.0</td>\n",
       "      <td>NaN</td>\n",
       "    </tr>\n",
       "    <tr>\n",
       "      <th>3</th>\n",
       "      <td>0.0</td>\n",
       "      <td>2.430006</td>\n",
       "      <td>1.386971</td>\n",
       "      <td>0.791511</td>\n",
       "      <td>0.883804</td>\n",
       "      <td>0.999998</td>\n",
       "      <td>0.833422</td>\n",
       "      <td>0.941901</td>\n",
       "      <td>0.712789</td>\n",
       "      <td>0.349285</td>\n",
       "      <td>0.001000</td>\n",
       "      <td>3.0</td>\n",
       "      <td>NaN</td>\n",
       "    </tr>\n",
       "    <tr>\n",
       "      <th>30</th>\n",
       "      <td>0.0</td>\n",
       "      <td>8.710477</td>\n",
       "      <td>-1.614651</td>\n",
       "      <td>0.778090</td>\n",
       "      <td>0.883804</td>\n",
       "      <td>0.999998</td>\n",
       "      <td>0.826164</td>\n",
       "      <td>0.941901</td>\n",
       "      <td>0.788431</td>\n",
       "      <td>0.349285</td>\n",
       "      <td>0.001000</td>\n",
       "      <td>3.0</td>\n",
       "      <td>NaN</td>\n",
       "    </tr>\n",
       "    <tr>\n",
       "      <th>15</th>\n",
       "      <td>0.0</td>\n",
       "      <td>6.409637</td>\n",
       "      <td>1.125930</td>\n",
       "      <td>0.777228</td>\n",
       "      <td>0.880176</td>\n",
       "      <td>0.999998</td>\n",
       "      <td>0.823985</td>\n",
       "      <td>0.940087</td>\n",
       "      <td>0.773034</td>\n",
       "      <td>0.359993</td>\n",
       "      <td>0.001000</td>\n",
       "      <td>3.0</td>\n",
       "      <td>NaN</td>\n",
       "    </tr>\n",
       "    <tr>\n",
       "      <th>7</th>\n",
       "      <td>0.0</td>\n",
       "      <td>4.341904</td>\n",
       "      <td>1.079148</td>\n",
       "      <td>0.778022</td>\n",
       "      <td>0.878607</td>\n",
       "      <td>0.999998</td>\n",
       "      <td>0.823687</td>\n",
       "      <td>0.939303</td>\n",
       "      <td>0.763517</td>\n",
       "      <td>0.364699</td>\n",
       "      <td>0.001000</td>\n",
       "      <td>3.0</td>\n",
       "      <td>NaN</td>\n",
       "    </tr>\n",
       "    <tr>\n",
       "      <th>ExtraTrees</th>\n",
       "      <th>60</th>\n",
       "      <td>0.0</td>\n",
       "      <td>0.803993</td>\n",
       "      <td>-2.691201</td>\n",
       "      <td>0.796139</td>\n",
       "      <td>0.852404</td>\n",
       "      <td>0.999998</td>\n",
       "      <td>0.817998</td>\n",
       "      <td>0.926201</td>\n",
       "      <td>0.711969</td>\n",
       "      <td>0.443308</td>\n",
       "      <td>0.001000</td>\n",
       "      <td>3.0</td>\n",
       "      <td>NaN</td>\n",
       "    </tr>\n",
       "    <tr>\n",
       "      <th>MiniRocket</th>\n",
       "      <th>3</th>\n",
       "      <td>0.0</td>\n",
       "      <td>1.207917</td>\n",
       "      <td>1.872164</td>\n",
       "      <td>0.801848</td>\n",
       "      <td>0.838327</td>\n",
       "      <td>0.999998</td>\n",
       "      <td>0.817945</td>\n",
       "      <td>0.919163</td>\n",
       "      <td>0.637495</td>\n",
       "      <td>0.485801</td>\n",
       "      <td>2.595571</td>\n",
       "      <td>3.0</td>\n",
       "      <td>0.5</td>\n",
       "    </tr>\n",
       "    <tr>\n",
       "      <th>QUANT</th>\n",
       "      <th>60</th>\n",
       "      <td>0.0</td>\n",
       "      <td>11.058853</td>\n",
       "      <td>-0.555033</td>\n",
       "      <td>0.777646</td>\n",
       "      <td>0.813431</td>\n",
       "      <td>0.999998</td>\n",
       "      <td>0.791294</td>\n",
       "      <td>0.906714</td>\n",
       "      <td>0.766296</td>\n",
       "      <td>0.560489</td>\n",
       "      <td>0.001000</td>\n",
       "      <td>3.0</td>\n",
       "      <td>NaN</td>\n",
       "    </tr>\n",
       "    <tr>\n",
       "      <th>MiniRocket</th>\n",
       "      <th>10</th>\n",
       "      <td>0.0</td>\n",
       "      <td>1.416639</td>\n",
       "      <td>-0.279676</td>\n",
       "      <td>0.719619</td>\n",
       "      <td>0.883862</td>\n",
       "      <td>0.999997</td>\n",
       "      <td>0.787875</td>\n",
       "      <td>0.941929</td>\n",
       "      <td>1.144961</td>\n",
       "      <td>0.349024</td>\n",
       "      <td>2.595419</td>\n",
       "      <td>3.0</td>\n",
       "      <td>0.5</td>\n",
       "    </tr>\n",
       "    <tr>\n",
       "      <th>ExtraTrees</th>\n",
       "      <th>30</th>\n",
       "      <td>0.0</td>\n",
       "      <td>0.475816</td>\n",
       "      <td>3.304373</td>\n",
       "      <td>0.767111</td>\n",
       "      <td>0.814920</td>\n",
       "      <td>0.999998</td>\n",
       "      <td>0.786622</td>\n",
       "      <td>0.907459</td>\n",
       "      <td>0.791122</td>\n",
       "      <td>0.556198</td>\n",
       "      <td>0.001000</td>\n",
       "      <td>3.0</td>\n",
       "      <td>NaN</td>\n",
       "    </tr>\n",
       "    <tr>\n",
       "      <th>MiniRocket</th>\n",
       "      <th>7</th>\n",
       "      <td>0.0</td>\n",
       "      <td>1.344564</td>\n",
       "      <td>0.972139</td>\n",
       "      <td>0.726193</td>\n",
       "      <td>0.858786</td>\n",
       "      <td>0.999997</td>\n",
       "      <td>0.780786</td>\n",
       "      <td>0.929391</td>\n",
       "      <td>1.083323</td>\n",
       "      <td>0.424164</td>\n",
       "      <td>2.595483</td>\n",
       "      <td>3.0</td>\n",
       "      <td>0.5</td>\n",
       "    </tr>\n",
       "    <tr>\n",
       "      <th rowspan=\"2\" valign=\"top\">ExtraTrees</th>\n",
       "      <th>3</th>\n",
       "      <td>0.0</td>\n",
       "      <td>0.147225</td>\n",
       "      <td>3.700849</td>\n",
       "      <td>0.797870</td>\n",
       "      <td>0.775123</td>\n",
       "      <td>0.999998</td>\n",
       "      <td>0.780479</td>\n",
       "      <td>0.887561</td>\n",
       "      <td>0.631970</td>\n",
       "      <td>0.675673</td>\n",
       "      <td>0.001000</td>\n",
       "      <td>3.0</td>\n",
       "      <td>NaN</td>\n",
       "    </tr>\n",
       "    <tr>\n",
       "      <th>5</th>\n",
       "      <td>0.0</td>\n",
       "      <td>0.161851</td>\n",
       "      <td>2.310668</td>\n",
       "      <td>0.771245</td>\n",
       "      <td>0.802953</td>\n",
       "      <td>0.999998</td>\n",
       "      <td>0.779483</td>\n",
       "      <td>0.901475</td>\n",
       "      <td>0.794939</td>\n",
       "      <td>0.592098</td>\n",
       "      <td>0.001000</td>\n",
       "      <td>3.0</td>\n",
       "      <td>NaN</td>\n",
       "    </tr>\n",
       "    <tr>\n",
       "      <th>MiniRocket</th>\n",
       "      <th>5</th>\n",
       "      <td>0.0</td>\n",
       "      <td>1.298410</td>\n",
       "      <td>1.677520</td>\n",
       "      <td>0.724428</td>\n",
       "      <td>0.849138</td>\n",
       "      <td>0.999997</td>\n",
       "      <td>0.777781</td>\n",
       "      <td>0.924567</td>\n",
       "      <td>1.040828</td>\n",
       "      <td>0.453194</td>\n",
       "      <td>2.595526</td>\n",
       "      <td>3.0</td>\n",
       "      <td>0.5</td>\n",
       "    </tr>\n",
       "    <tr>\n",
       "      <th>ExtraTrees</th>\n",
       "      <th>10</th>\n",
       "      <td>0.0</td>\n",
       "      <td>0.222085</td>\n",
       "      <td>3.252947</td>\n",
       "      <td>0.777059</td>\n",
       "      <td>0.776965</td>\n",
       "      <td>0.999998</td>\n",
       "      <td>0.775351</td>\n",
       "      <td>0.888482</td>\n",
       "      <td>0.671860</td>\n",
       "      <td>0.670147</td>\n",
       "      <td>0.001000</td>\n",
       "      <td>3.0</td>\n",
       "      <td>NaN</td>\n",
       "    </tr>\n",
       "    <tr>\n",
       "      <th>MiniRocket</th>\n",
       "      <th>15</th>\n",
       "      <td>0.0</td>\n",
       "      <td>1.374075</td>\n",
       "      <td>-1.376427</td>\n",
       "      <td>0.666987</td>\n",
       "      <td>0.871287</td>\n",
       "      <td>0.999996</td>\n",
       "      <td>0.751735</td>\n",
       "      <td>0.935642</td>\n",
       "      <td>1.393215</td>\n",
       "      <td>0.386660</td>\n",
       "      <td>2.595308</td>\n",
       "      <td>3.0</td>\n",
       "      <td>0.5</td>\n",
       "    </tr>\n",
       "    <tr>\n",
       "      <th rowspan=\"2\" valign=\"top\">ExtraTrees</th>\n",
       "      <th>7</th>\n",
       "      <td>0.0</td>\n",
       "      <td>0.186128</td>\n",
       "      <td>3.772950</td>\n",
       "      <td>0.751744</td>\n",
       "      <td>0.761992</td>\n",
       "      <td>0.999998</td>\n",
       "      <td>0.751218</td>\n",
       "      <td>0.880995</td>\n",
       "      <td>0.834938</td>\n",
       "      <td>0.715067</td>\n",
       "      <td>0.001000</td>\n",
       "      <td>3.0</td>\n",
       "      <td>NaN</td>\n",
       "    </tr>\n",
       "    <tr>\n",
       "      <th>15</th>\n",
       "      <td>0.0</td>\n",
       "      <td>0.282191</td>\n",
       "      <td>3.338154</td>\n",
       "      <td>0.733722</td>\n",
       "      <td>0.769796</td>\n",
       "      <td>0.999997</td>\n",
       "      <td>0.747419</td>\n",
       "      <td>0.884897</td>\n",
       "      <td>0.921484</td>\n",
       "      <td>0.691479</td>\n",
       "      <td>0.001000</td>\n",
       "      <td>3.0</td>\n",
       "      <td>NaN</td>\n",
       "    </tr>\n",
       "    <tr>\n",
       "      <th rowspan=\"2\" valign=\"top\">MiniRocket</th>\n",
       "      <th>30</th>\n",
       "      <td>0.0</td>\n",
       "      <td>2.004875</td>\n",
       "      <td>-14.168402</td>\n",
       "      <td>0.649825</td>\n",
       "      <td>0.863150</td>\n",
       "      <td>0.999996</td>\n",
       "      <td>0.736349</td>\n",
       "      <td>0.931573</td>\n",
       "      <td>1.496796</td>\n",
       "      <td>0.411245</td>\n",
       "      <td>2.594982</td>\n",
       "      <td>3.0</td>\n",
       "      <td>0.5</td>\n",
       "    </tr>\n",
       "    <tr>\n",
       "      <th>60</th>\n",
       "      <td>0.0</td>\n",
       "      <td>2.933554</td>\n",
       "      <td>-36.962532</td>\n",
       "      <td>0.645121</td>\n",
       "      <td>0.865760</td>\n",
       "      <td>0.999996</td>\n",
       "      <td>0.736124</td>\n",
       "      <td>0.932878</td>\n",
       "      <td>1.490266</td>\n",
       "      <td>0.403155</td>\n",
       "      <td>2.594328</td>\n",
       "      <td>3.0</td>\n",
       "      <td>0.5</td>\n",
       "    </tr>\n",
       "    <tr>\n",
       "      <th rowspan=\"3\" valign=\"top\">ResNet</th>\n",
       "      <th>3</th>\n",
       "      <td>0.0</td>\n",
       "      <td>2.078723</td>\n",
       "      <td>5.306819</td>\n",
       "      <td>0.769743</td>\n",
       "      <td>0.667630</td>\n",
       "      <td>0.999998</td>\n",
       "      <td>0.703136</td>\n",
       "      <td>0.833814</td>\n",
       "      <td>0.668130</td>\n",
       "      <td>0.998414</td>\n",
       "      <td>2.595551</td>\n",
       "      <td>3.0</td>\n",
       "      <td>0.5</td>\n",
       "    </tr>\n",
       "    <tr>\n",
       "      <th>10</th>\n",
       "      <td>0.0</td>\n",
       "      <td>2.782215</td>\n",
       "      <td>-3.136067</td>\n",
       "      <td>0.629762</td>\n",
       "      <td>0.809732</td>\n",
       "      <td>0.999995</td>\n",
       "      <td>0.691505</td>\n",
       "      <td>0.904864</td>\n",
       "      <td>1.632579</td>\n",
       "      <td>0.571411</td>\n",
       "      <td>2.595405</td>\n",
       "      <td>3.0</td>\n",
       "      <td>0.5</td>\n",
       "    </tr>\n",
       "    <tr>\n",
       "      <th>60</th>\n",
       "      <td>0.0</td>\n",
       "      <td>10.213289</td>\n",
       "      <td>-25.229305</td>\n",
       "      <td>0.777458</td>\n",
       "      <td>0.637240</td>\n",
       "      <td>0.999998</td>\n",
       "      <td>0.682105</td>\n",
       "      <td>0.818619</td>\n",
       "      <td>0.602070</td>\n",
       "      <td>1.089406</td>\n",
       "      <td>2.594318</td>\n",
       "      <td>3.0</td>\n",
       "      <td>0.5</td>\n",
       "    </tr>\n",
       "    <tr>\n",
       "      <th rowspan=\"3\" valign=\"top\">Catch22</th>\n",
       "      <th>10</th>\n",
       "      <td>0.0</td>\n",
       "      <td>15.943712</td>\n",
       "      <td>1.583816</td>\n",
       "      <td>0.561632</td>\n",
       "      <td>0.845856</td>\n",
       "      <td>0.999994</td>\n",
       "      <td>0.670190</td>\n",
       "      <td>0.922925</td>\n",
       "      <td>2.191354</td>\n",
       "      <td>0.462951</td>\n",
       "      <td>0.001000</td>\n",
       "      <td>3.0</td>\n",
       "      <td>NaN</td>\n",
       "    </tr>\n",
       "    <tr>\n",
       "      <th>15</th>\n",
       "      <td>0.0</td>\n",
       "      <td>25.200988</td>\n",
       "      <td>-2.865087</td>\n",
       "      <td>0.548840</td>\n",
       "      <td>0.870124</td>\n",
       "      <td>0.999993</td>\n",
       "      <td>0.666861</td>\n",
       "      <td>0.935059</td>\n",
       "      <td>2.349918</td>\n",
       "      <td>0.390236</td>\n",
       "      <td>0.001000</td>\n",
       "      <td>3.0</td>\n",
       "      <td>NaN</td>\n",
       "    </tr>\n",
       "    <tr>\n",
       "      <th>5</th>\n",
       "      <td>0.0</td>\n",
       "      <td>10.027680</td>\n",
       "      <td>3.282085</td>\n",
       "      <td>0.598356</td>\n",
       "      <td>0.765778</td>\n",
       "      <td>0.999995</td>\n",
       "      <td>0.663166</td>\n",
       "      <td>0.882886</td>\n",
       "      <td>1.939811</td>\n",
       "      <td>0.703447</td>\n",
       "      <td>0.001000</td>\n",
       "      <td>3.0</td>\n",
       "      <td>NaN</td>\n",
       "    </tr>\n",
       "    <tr>\n",
       "      <th>ResNet</th>\n",
       "      <th>30</th>\n",
       "      <td>0.0</td>\n",
       "      <td>6.363762</td>\n",
       "      <td>-9.797323</td>\n",
       "      <td>0.657778</td>\n",
       "      <td>0.675142</td>\n",
       "      <td>0.999997</td>\n",
       "      <td>0.651182</td>\n",
       "      <td>0.837570</td>\n",
       "      <td>1.125316</td>\n",
       "      <td>0.975352</td>\n",
       "      <td>2.594970</td>\n",
       "      <td>3.0</td>\n",
       "      <td>0.5</td>\n",
       "    </tr>\n",
       "    <tr>\n",
       "      <th rowspan=\"2\" valign=\"top\">Catch22</th>\n",
       "      <th>3</th>\n",
       "      <td>0.0</td>\n",
       "      <td>5.909346</td>\n",
       "      <td>3.013948</td>\n",
       "      <td>0.569058</td>\n",
       "      <td>0.774392</td>\n",
       "      <td>0.999994</td>\n",
       "      <td>0.645960</td>\n",
       "      <td>0.887193</td>\n",
       "      <td>2.273879</td>\n",
       "      <td>0.677518</td>\n",
       "      <td>0.001000</td>\n",
       "      <td>3.0</td>\n",
       "      <td>NaN</td>\n",
       "    </tr>\n",
       "    <tr>\n",
       "      <th>60</th>\n",
       "      <td>0.0</td>\n",
       "      <td>123.045757</td>\n",
       "      <td>-41.933273</td>\n",
       "      <td>0.536829</td>\n",
       "      <td>0.810222</td>\n",
       "      <td>0.999994</td>\n",
       "      <td>0.641827</td>\n",
       "      <td>0.905108</td>\n",
       "      <td>2.221134</td>\n",
       "      <td>0.570114</td>\n",
       "      <td>0.001000</td>\n",
       "      <td>3.0</td>\n",
       "      <td>NaN</td>\n",
       "    </tr>\n",
       "    <tr>\n",
       "      <th rowspan=\"2\" valign=\"top\">ResNet</th>\n",
       "      <th>15</th>\n",
       "      <td>0.0</td>\n",
       "      <td>3.637050</td>\n",
       "      <td>-6.426927</td>\n",
       "      <td>0.581463</td>\n",
       "      <td>0.734056</td>\n",
       "      <td>0.999996</td>\n",
       "      <td>0.639710</td>\n",
       "      <td>0.867026</td>\n",
       "      <td>1.536886</td>\n",
       "      <td>0.800273</td>\n",
       "      <td>2.595287</td>\n",
       "      <td>3.0</td>\n",
       "      <td>0.5</td>\n",
       "    </tr>\n",
       "    <tr>\n",
       "      <th>5</th>\n",
       "      <td>0.0</td>\n",
       "      <td>2.252937</td>\n",
       "      <td>-2.117122</td>\n",
       "      <td>0.507400</td>\n",
       "      <td>0.862464</td>\n",
       "      <td>0.999992</td>\n",
       "      <td>0.631878</td>\n",
       "      <td>0.931228</td>\n",
       "      <td>2.861040</td>\n",
       "      <td>0.413478</td>\n",
       "      <td>2.595506</td>\n",
       "      <td>3.0</td>\n",
       "      <td>0.5</td>\n",
       "    </tr>\n",
       "    <tr>\n",
       "      <th>Catch22</th>\n",
       "      <th>7</th>\n",
       "      <td>0.0</td>\n",
       "      <td>12.773638</td>\n",
       "      <td>3.398071</td>\n",
       "      <td>0.553820</td>\n",
       "      <td>0.749798</td>\n",
       "      <td>0.999994</td>\n",
       "      <td>0.623099</td>\n",
       "      <td>0.874896</td>\n",
       "      <td>2.285233</td>\n",
       "      <td>0.750948</td>\n",
       "      <td>0.001000</td>\n",
       "      <td>3.0</td>\n",
       "      <td>NaN</td>\n",
       "    </tr>\n",
       "    <tr>\n",
       "      <th>ResNet</th>\n",
       "      <th>7</th>\n",
       "      <td>0.0</td>\n",
       "      <td>2.315364</td>\n",
       "      <td>0.829131</td>\n",
       "      <td>0.548170</td>\n",
       "      <td>0.712376</td>\n",
       "      <td>0.999994</td>\n",
       "      <td>0.594456</td>\n",
       "      <td>0.856185</td>\n",
       "      <td>2.137042</td>\n",
       "      <td>0.864438</td>\n",
       "      <td>2.595459</td>\n",
       "      <td>3.0</td>\n",
       "      <td>0.5</td>\n",
       "    </tr>\n",
       "    <tr>\n",
       "      <th>Catch22</th>\n",
       "      <th>30</th>\n",
       "      <td>0.0</td>\n",
       "      <td>51.103485</td>\n",
       "      <td>-12.510858</td>\n",
       "      <td>0.474412</td>\n",
       "      <td>0.799751</td>\n",
       "      <td>0.999991</td>\n",
       "      <td>0.584019</td>\n",
       "      <td>0.899871</td>\n",
       "      <td>3.059669</td>\n",
       "      <td>0.601440</td>\n",
       "      <td>0.001000</td>\n",
       "      <td>3.0</td>\n",
       "      <td>NaN</td>\n",
       "    </tr>\n",
       "  </tbody>\n",
       "</table>\n",
       "</div>"
      ],
      "text/plain": [
       "                        seed     runtime      delay  precision    recall  \\\n",
       "model      window_size                                                     \n",
       "QUANT      10            0.0    5.192498   1.172980   0.795237  0.886058   \n",
       "           5             0.0    3.140987   1.589703   0.806687  0.872039   \n",
       "           3             0.0    2.430006   1.386971   0.791511  0.883804   \n",
       "           30            0.0    8.710477  -1.614651   0.778090  0.883804   \n",
       "           15            0.0    6.409637   1.125930   0.777228  0.880176   \n",
       "           7             0.0    4.341904   1.079148   0.778022  0.878607   \n",
       "ExtraTrees 60            0.0    0.803993  -2.691201   0.796139  0.852404   \n",
       "MiniRocket 3             0.0    1.207917   1.872164   0.801848  0.838327   \n",
       "QUANT      60            0.0   11.058853  -0.555033   0.777646  0.813431   \n",
       "MiniRocket 10            0.0    1.416639  -0.279676   0.719619  0.883862   \n",
       "ExtraTrees 30            0.0    0.475816   3.304373   0.767111  0.814920   \n",
       "MiniRocket 7             0.0    1.344564   0.972139   0.726193  0.858786   \n",
       "ExtraTrees 3             0.0    0.147225   3.700849   0.797870  0.775123   \n",
       "           5             0.0    0.161851   2.310668   0.771245  0.802953   \n",
       "MiniRocket 5             0.0    1.298410   1.677520   0.724428  0.849138   \n",
       "ExtraTrees 10            0.0    0.222085   3.252947   0.777059  0.776965   \n",
       "MiniRocket 15            0.0    1.374075  -1.376427   0.666987  0.871287   \n",
       "ExtraTrees 7             0.0    0.186128   3.772950   0.751744  0.761992   \n",
       "           15            0.0    0.282191   3.338154   0.733722  0.769796   \n",
       "MiniRocket 30            0.0    2.004875 -14.168402   0.649825  0.863150   \n",
       "           60            0.0    2.933554 -36.962532   0.645121  0.865760   \n",
       "ResNet     3             0.0    2.078723   5.306819   0.769743  0.667630   \n",
       "           10            0.0    2.782215  -3.136067   0.629762  0.809732   \n",
       "           60            0.0   10.213289 -25.229305   0.777458  0.637240   \n",
       "Catch22    10            0.0   15.943712   1.583816   0.561632  0.845856   \n",
       "           15            0.0   25.200988  -2.865087   0.548840  0.870124   \n",
       "           5             0.0   10.027680   3.282085   0.598356  0.765778   \n",
       "ResNet     30            0.0    6.363762  -9.797323   0.657778  0.675142   \n",
       "Catch22    3             0.0    5.909346   3.013948   0.569058  0.774392   \n",
       "           60            0.0  123.045757 -41.933273   0.536829  0.810222   \n",
       "ResNet     15            0.0    3.637050  -6.426927   0.581463  0.734056   \n",
       "           5             0.0    2.252937  -2.117122   0.507400  0.862464   \n",
       "Catch22    7             0.0   12.773638   3.398071   0.553820  0.749798   \n",
       "ResNet     7             0.0    2.315364   0.829131   0.548170  0.712376   \n",
       "Catch22    30            0.0   51.103485 -12.510858   0.474412  0.799751   \n",
       "\n",
       "                        specificity  f1-score       auc  false alarm rate  \\\n",
       "model      window_size                                                      \n",
       "QUANT      10              0.999998  0.837197  0.943028          0.696136   \n",
       "           5               0.999998  0.836736  0.936019          0.634739   \n",
       "           3               0.999998  0.833422  0.941901          0.712789   \n",
       "           30              0.999998  0.826164  0.941901          0.788431   \n",
       "           15              0.999998  0.823985  0.940087          0.773034   \n",
       "           7               0.999998  0.823687  0.939303          0.763517   \n",
       "ExtraTrees 60              0.999998  0.817998  0.926201          0.711969   \n",
       "MiniRocket 3               0.999998  0.817945  0.919163          0.637495   \n",
       "QUANT      60              0.999998  0.791294  0.906714          0.766296   \n",
       "MiniRocket 10              0.999997  0.787875  0.941929          1.144961   \n",
       "ExtraTrees 30              0.999998  0.786622  0.907459          0.791122   \n",
       "MiniRocket 7               0.999997  0.780786  0.929391          1.083323   \n",
       "ExtraTrees 3               0.999998  0.780479  0.887561          0.631970   \n",
       "           5               0.999998  0.779483  0.901475          0.794939   \n",
       "MiniRocket 5               0.999997  0.777781  0.924567          1.040828   \n",
       "ExtraTrees 10              0.999998  0.775351  0.888482          0.671860   \n",
       "MiniRocket 15              0.999996  0.751735  0.935642          1.393215   \n",
       "ExtraTrees 7               0.999998  0.751218  0.880995          0.834938   \n",
       "           15              0.999997  0.747419  0.884897          0.921484   \n",
       "MiniRocket 30              0.999996  0.736349  0.931573          1.496796   \n",
       "           60              0.999996  0.736124  0.932878          1.490266   \n",
       "ResNet     3               0.999998  0.703136  0.833814          0.668130   \n",
       "           10              0.999995  0.691505  0.904864          1.632579   \n",
       "           60              0.999998  0.682105  0.818619          0.602070   \n",
       "Catch22    10              0.999994  0.670190  0.922925          2.191354   \n",
       "           15              0.999993  0.666861  0.935059          2.349918   \n",
       "           5               0.999995  0.663166  0.882886          1.939811   \n",
       "ResNet     30              0.999997  0.651182  0.837570          1.125316   \n",
       "Catch22    3               0.999994  0.645960  0.887193          2.273879   \n",
       "           60              0.999994  0.641827  0.905108          2.221134   \n",
       "ResNet     15              0.999996  0.639710  0.867026          1.536886   \n",
       "           5               0.999992  0.631878  0.931228          2.861040   \n",
       "Catch22    7               0.999994  0.623099  0.874896          2.285233   \n",
       "ResNet     7               0.999994  0.594456  0.856185          2.137042   \n",
       "Catch22    30              0.999991  0.584019  0.899871          3.059669   \n",
       "\n",
       "                        miss rate      gain  fold  thresh  \n",
       "model      window_size                                     \n",
       "QUANT      10            0.342346  0.001000   3.0     NaN  \n",
       "           5             0.384579  0.001000   3.0     NaN  \n",
       "           3             0.349285  0.001000   3.0     NaN  \n",
       "           30            0.349285  0.001000   3.0     NaN  \n",
       "           15            0.359993  0.001000   3.0     NaN  \n",
       "           7             0.364699  0.001000   3.0     NaN  \n",
       "ExtraTrees 60            0.443308  0.001000   3.0     NaN  \n",
       "MiniRocket 3             0.485801  2.595571   3.0     0.5  \n",
       "QUANT      60            0.560489  0.001000   3.0     NaN  \n",
       "MiniRocket 10            0.349024  2.595419   3.0     0.5  \n",
       "ExtraTrees 30            0.556198  0.001000   3.0     NaN  \n",
       "MiniRocket 7             0.424164  2.595483   3.0     0.5  \n",
       "ExtraTrees 3             0.675673  0.001000   3.0     NaN  \n",
       "           5             0.592098  0.001000   3.0     NaN  \n",
       "MiniRocket 5             0.453194  2.595526   3.0     0.5  \n",
       "ExtraTrees 10            0.670147  0.001000   3.0     NaN  \n",
       "MiniRocket 15            0.386660  2.595308   3.0     0.5  \n",
       "ExtraTrees 7             0.715067  0.001000   3.0     NaN  \n",
       "           15            0.691479  0.001000   3.0     NaN  \n",
       "MiniRocket 30            0.411245  2.594982   3.0     0.5  \n",
       "           60            0.403155  2.594328   3.0     0.5  \n",
       "ResNet     3             0.998414  2.595551   3.0     0.5  \n",
       "           10            0.571411  2.595405   3.0     0.5  \n",
       "           60            1.089406  2.594318   3.0     0.5  \n",
       "Catch22    10            0.462951  0.001000   3.0     NaN  \n",
       "           15            0.390236  0.001000   3.0     NaN  \n",
       "           5             0.703447  0.001000   3.0     NaN  \n",
       "ResNet     30            0.975352  2.594970   3.0     0.5  \n",
       "Catch22    3             0.677518  0.001000   3.0     NaN  \n",
       "           60            0.570114  0.001000   3.0     NaN  \n",
       "ResNet     15            0.800273  2.595287   3.0     0.5  \n",
       "           5             0.413478  2.595506   3.0     0.5  \n",
       "Catch22    7             0.750948  0.001000   3.0     NaN  \n",
       "ResNet     7             0.864438  2.595459   3.0     0.5  \n",
       "Catch22    30            0.601440  0.001000   3.0     NaN  "
      ]
     },
     "execution_count": 18,
     "metadata": {},
     "output_type": "execute_result"
    }
   ],
   "source": [
    "grps.sort_values(by='f1-score', ascending=False)"
   ]
  },
  {
   "cell_type": "code",
   "execution_count": 33,
   "id": "a2279eaa",
   "metadata": {},
   "outputs": [
    {
     "data": {
      "text/html": [
       "<div>\n",
       "<style scoped>\n",
       "    .dataframe tbody tr th:only-of-type {\n",
       "        vertical-align: middle;\n",
       "    }\n",
       "\n",
       "    .dataframe tbody tr th {\n",
       "        vertical-align: top;\n",
       "    }\n",
       "\n",
       "    .dataframe thead th {\n",
       "        text-align: right;\n",
       "    }\n",
       "</style>\n",
       "<table border=\"1\" class=\"dataframe\">\n",
       "  <thead>\n",
       "    <tr style=\"text-align: right;\">\n",
       "      <th>model</th>\n",
       "      <th>Catch22</th>\n",
       "      <th>ExtraTrees</th>\n",
       "      <th>MiniRocket</th>\n",
       "      <th>QUANT</th>\n",
       "      <th>ResNet</th>\n",
       "    </tr>\n",
       "    <tr>\n",
       "      <th>fold</th>\n",
       "      <th></th>\n",
       "      <th></th>\n",
       "      <th></th>\n",
       "      <th></th>\n",
       "      <th></th>\n",
       "    </tr>\n",
       "  </thead>\n",
       "  <tbody>\n",
       "    <tr>\n",
       "      <th>1</th>\n",
       "      <td>0.683856</td>\n",
       "      <td>0.934002</td>\n",
       "      <td>0.802009</td>\n",
       "      <td>0.854347</td>\n",
       "      <td>0.626868</td>\n",
       "    </tr>\n",
       "    <tr>\n",
       "      <th>2</th>\n",
       "      <td>0.771202</td>\n",
       "      <td>0.815350</td>\n",
       "      <td>0.855558</td>\n",
       "      <td>0.866292</td>\n",
       "      <td>0.788095</td>\n",
       "    </tr>\n",
       "    <tr>\n",
       "      <th>3</th>\n",
       "      <td>0.455554</td>\n",
       "      <td>0.698955</td>\n",
       "      <td>0.686897</td>\n",
       "      <td>0.798997</td>\n",
       "      <td>0.612930</td>\n",
       "    </tr>\n",
       "    <tr>\n",
       "      <th>4</th>\n",
       "      <td>0.738308</td>\n",
       "      <td>0.693970</td>\n",
       "      <td>0.751888</td>\n",
       "      <td>0.832795</td>\n",
       "      <td>0.673831</td>\n",
       "    </tr>\n",
       "    <tr>\n",
       "      <th>5</th>\n",
       "      <td>0.561880</td>\n",
       "      <td>0.742415</td>\n",
       "      <td>0.752644</td>\n",
       "      <td>0.770772</td>\n",
       "      <td>0.579685</td>\n",
       "    </tr>\n",
       "  </tbody>\n",
       "</table>\n",
       "</div>"
      ],
      "text/plain": [
       "model   Catch22  ExtraTrees  MiniRocket     QUANT    ResNet\n",
       "fold                                                       \n",
       "1      0.683856    0.934002    0.802009  0.854347  0.626868\n",
       "2      0.771202    0.815350    0.855558  0.866292  0.788095\n",
       "3      0.455554    0.698955    0.686897  0.798997  0.612930\n",
       "4      0.738308    0.693970    0.751888  0.832795  0.673831\n",
       "5      0.561880    0.742415    0.752644  0.770772  0.579685"
      ]
     },
     "execution_count": 33,
     "metadata": {},
     "output_type": "execute_result"
    }
   ],
   "source": [
    "# use multiple comparison matrix from aeon\n",
    "from aeon.visualisation import create_multi_comparison_matrix\n",
    "\n",
    "pivots = real_cv_metrics.pivot_table(\n",
    "    index='fold',\n",
    "    columns='model',\n",
    "\tvalues='f1-score',\n",
    "    aggfunc='mean'\n",
    ")\n",
    "pivots"
   ]
  },
  {
   "cell_type": "code",
   "execution_count": null,
   "id": "60cfecd3",
   "metadata": {},
   "outputs": [],
   "source": [
    "create_multi_comparison_matrix(\n",
    "    pivots, used_statistic='F1-score',\n",
    "    #    win_label='wins',\n",
    "    #    loss_label='losses',\n",
    "    #    tie_label='ties',\n",
    "    font_size=20.5,\n",
    "    fig_size=\"17,10\",\n",
    "    pdf_savename=FIG_DIR / \"multi_comparison_matrix.pdf\"\n",
    ")\n",
    "plt.show()"
   ]
  },
  {
   "cell_type": "markdown",
   "id": "86626ed1",
   "metadata": {},
   "source": [
    "### Cost Sensitive Threshold Tuning"
   ]
  },
  {
   "cell_type": "code",
   "execution_count": 21,
   "id": "73d4c662",
   "metadata": {},
   "outputs": [
    {
     "name": "stdout",
     "output_type": "stream",
     "text": [
      "Train set: 124 samples, Test set: 21 samples\n",
      "Train set: X: (1213, 1000), y: (1213,)    ([ADLs, Falls]) [1089  124]\n",
      "Test set: X: 21, y: 21\n",
      "Train set: 124 samples, Test set: 21 samples\n",
      "Train set: X: (1271, 300), y: (1271,)    ([ADLs, Falls]) [1147  124]\n",
      "Test set: X: 21, y: 21\n",
      "Train set: 124 samples, Test set: 21 samples\n",
      "Train set: X: (1039, 6000), y: (1039,)    ([ADLs, Falls]) [915 124]\n",
      "Test set: X: 21, y: 21\n"
     ]
    }
   ],
   "source": [
    "best_windows = json.load(open(RES_DIR/\"best_window_size.json\", \"r\"))\n",
    "win_sizes = set([best_windows[m.name] for m in MODEL_SPECS\\\n",
    "                  if m.kind != \"baseline\"\\\n",
    "                    and \"Ensemble\" not in m.name\\\n",
    "                        and m.name != \"ResNet\"])\n",
    "# create datasets for each window size\n",
    "whole_df = fs.load()\n",
    "datasets = {}\n",
    "for win in win_sizes:\n",
    "    datasets[win] = utils.split_df(\n",
    "\t\twhole_df, fs, test_set=TEST_SUBJ,\n",
    "        window_size=win, segment_test=False,\n",
    "        thresh=1.4, multiphase=True\n",
    "\t)"
   ]
  },
  {
   "cell_type": "code",
   "execution_count": 23,
   "id": "b2e4236e",
   "metadata": {},
   "outputs": [
    {
     "name": "stderr",
     "output_type": "stream",
     "text": [
      "2025-08-05 23:22:48,622 [INFO] Training models (seed=0)\n"
     ]
    },
    {
     "name": "stdout",
     "output_type": "stream",
     "text": [
      "Running models for window size 10 seconds, thresh=False\n"
     ]
    },
    {
     "name": "stderr",
     "output_type": "stream",
     "text": [
      "Training (seed=0): 100%|██████████| 1/1 [00:08<00:00,  8.29s/it]\n",
      "2025-08-05 23:22:56,921 [INFO] Training models (seed=1)\n",
      "Training (seed=1): 100%|██████████| 1/1 [00:08<00:00,  8.08s/it]\n",
      "2025-08-05 23:23:05,005 [INFO] Training models (seed=2)\n",
      "Training (seed=2): 100%|██████████| 1/1 [00:08<00:00,  8.20s/it]\n",
      "Evaluating models: 100%|██████████| 3/3 [00:35<00:00, 11.67s/it]\n",
      "2025-08-05 23:23:48,224 [INFO] ✅ Evaluation complete\n",
      "2025-08-05 23:23:48,226 [INFO] Training models (seed=0)\n"
     ]
    },
    {
     "name": "stdout",
     "output_type": "stream",
     "text": [
      "\n",
      "Running models for window size 10 seconds, thresh=True\n"
     ]
    },
    {
     "name": "stderr",
     "output_type": "stream",
     "text": [
      "Training (seed=0):   0%|          | 0/1 [00:00<?, ?it/s]2025-08-05 23:24:36,097 [INFO] QUANT: threshold tuned to 0.41\n",
      "Training (seed=0): 100%|██████████| 1/1 [00:47<00:00, 47.87s/it]\n",
      "2025-08-05 23:24:36,098 [INFO] Training models (seed=1)\n",
      "Training (seed=1): 100%|██████████| 1/1 [00:08<00:00,  8.07s/it]\n",
      "2025-08-05 23:24:44,171 [INFO] Training models (seed=2)\n",
      "Training (seed=2): 100%|██████████| 1/1 [00:08<00:00,  8.16s/it]\n",
      "Evaluating models: 100%|██████████| 3/3 [00:35<00:00, 11.67s/it]\n",
      "2025-08-05 23:25:27,339 [INFO] ✅ Evaluation complete\n"
     ]
    },
    {
     "name": "stdout",
     "output_type": "stream",
     "text": [
      "\n"
     ]
    }
   ],
   "source": [
    "from scripts.model_runner import run_models\n",
    "\n",
    "thresh_metrics = []\n",
    "quant = get_model_specs(subset=['QUANT'])\n",
    "for t in [False, True]:\n",
    "\tfor win in [10]:\n",
    "\t\tprint(f\"Running models for window size {win} seconds, thresh={t}\")\n",
    "\t\tX_tr, X_te, y_tr, y_te = datasets[win]\n",
    "\t\tres = run_models(\n",
    "\t\t\tX_tr, X_te, y_tr, y_te,\n",
    "\t\t\tmodel_specs=quant,\n",
    "\t\t\tmodel_seeds=SEEDS,\n",
    "\t\t\tverbose=True,\n",
    "\t\t\tensemble_models=False,\n",
    "\t\t\tensemble_by_kind=False,\n",
    "\t\t\twindow_size=win,\n",
    "\t\t\ttune_threshold=t\n",
    "\t\t)\n",
    "\t\tres[\"window_size\"] = win\n",
    "\t\tthresh_metrics.append(res)\n",
    "\t\tprint(\"\")\n",
    "thresh_df = pd.concat(thresh_metrics, ignore_index=True)"
   ]
  },
  {
   "cell_type": "code",
   "execution_count": 36,
   "id": "26b202e5",
   "metadata": {},
   "outputs": [],
   "source": [
    "# thresh_df = pd.read_csv(RES_DIR / \"thresh_metrics.csv\")\n",
    "thresh_df.sort_values(by=[\"model\", \"seed\", \"thresh\"])\n",
    "thresh_df.to_csv(RES_DIR / \"quant_thresh_metrics.csv\", index=False)"
   ]
  },
  {
   "cell_type": "code",
   "execution_count": null,
   "id": "312b0f75",
   "metadata": {},
   "outputs": [
    {
     "name": "stderr",
     "output_type": "stream",
     "text": [
      "2025-08-06 00:51:14,211 [INFO] Training models (seed=0)\n"
     ]
    },
    {
     "name": "stdout",
     "output_type": "stream",
     "text": [
      "Running models for window size 10 seconds, thresh=False\n",
      "Selected models: ['Catch22', 'QUANT', 'DummyADL', 'DummyFall']\n"
     ]
    },
    {
     "name": "stderr",
     "output_type": "stream",
     "text": [
      "Training (seed=0): 100%|██████████| 4/4 [00:10<00:00,  2.71s/it]\n",
      "2025-08-06 00:51:25,060 [INFO] Training models (seed=1)\n",
      "Training (seed=1): 100%|██████████| 4/4 [00:10<00:00,  2.72s/it]\n",
      "2025-08-06 00:51:35,951 [INFO] Training models (seed=2)\n",
      "Training (seed=2): 100%|██████████| 4/4 [00:10<00:00,  2.67s/it]\n",
      "Evaluating models:  75%|███████▌  | 6/8 [01:40<00:29, 14.88s/it]"
     ]
    }
   ],
   "source": [
    "from scripts.model_runner import run_models\n",
    "\n",
    "thresh_metrics = []\n",
    "baselines = get_model_specs(kind=\"baseline\")\n",
    "for t in [False, True]:\n",
    "\tfor win in win_sizes:\n",
    "\t\tprint(f\"Running models for window size {win} seconds, thresh={t}\")\n",
    "\t\t# Select models for this window size\n",
    "\t\tmodels = [m for m in MODEL_SPECS\n",
    "\t\t\t if m.kind != \"baseline\" and m.name != \"ResNet\"\\\n",
    "\t\t\t\t  and best_windows[m.name] == win]\n",
    "\t\tif not t and models != []:\n",
    "\t\t\tmodels += baselines\n",
    "\t\tprint(f\"Selected models: {[m.name for m in models]}\")\n",
    "\t\tX_tr, X_te, y_tr, y_te = datasets[win]\n",
    "\t\tres = run_models(\n",
    "\t\t\tX_tr, X_te, y_tr, y_te,\n",
    "\t\t\tmodel_specs=models,\n",
    "\t\t\tmodel_seeds=SEEDS,\n",
    "\t\t\tverbose=True,\n",
    "\t\t\tensemble_models=False,\n",
    "\t\t\tensemble_by_kind=False,\n",
    "\t\t\twindow_size=win,\n",
    "\t\t\ttune_threshold=t\n",
    "\t\t)\n",
    "\t\tres[\"window_size\"] = win\n",
    "\t\tthresh_metrics.append(res)\n",
    "\t\tprint(\"\\n\")\n",
    "thresh_df = pd.concat(thresh_metrics, ignore_index=True)\n",
    "thresh_df.to_csv(RES_DIR / \"thresh_metrics_new.csv\", index=False)"
   ]
  },
  {
   "cell_type": "code",
   "execution_count": 39,
   "id": "b5db1506",
   "metadata": {},
   "outputs": [
    {
     "data": {
      "image/png": "[encoded data removed]",
      "text/plain": [
       "<Figure size 1500x1500 with 1 Axes>"
      ]
     },
     "metadata": {},
     "output_type": "display_data"
    }
   ],
   "source": [
    "metrics = [\"miss rate\", \"false alarm rate\"]\n",
    "\n",
    "records = []\n",
    "for model, g in thresh_df.groupby(\"model\"):\n",
    "    # g = g.query(\"seed==0\")\n",
    "    base = g.query(\"thresh==0.5\")  \n",
    "    tuned = g.query(\"thresh!=0.5\")\n",
    "    for m in metrics:\n",
    "        v0 = base[m].values[0]\n",
    "        v1 = tuned[m].values[0]\n",
    "        pct = 100 * (v1 - v0) / v0         # +% worse, −% better\n",
    "        records.append({\"model\": model, \"metric\": m, \"pct\": pct})\n",
    "delta_df = pd.DataFrame(records)\n",
    "\n",
    "fig, ax = plt.subplots(figsize=(5, 5), dpi=300)\n",
    "sns.barplot(data=delta_df, x=\"model\", y=\"pct\", hue=\"metric\",\n",
    "            palette=\"tab10\", errorbar=None, ax=ax)\n",
    "# zero-line & label\n",
    "ax.axhline(0, color=\"gray\", linewidth=1, label=\"untuned baseline\")\n",
    "\n",
    "# annotate % on every bar\n",
    "for container in ax.containers:\n",
    "    for bar in container:\n",
    "        height = bar.get_height()\n",
    "        txt = f\"{height:+.0f}%\"\n",
    "        if height == 0:\n",
    "            txt = \"0%\"\n",
    "        ax.text(bar.get_x() + bar.get_width()/2,\n",
    "                height + (1.5 if height>=0 else -1.5),   # small offset\n",
    "                txt, ha=\"center\", va=\"bottom\" if height>=0 else \"top\",\n",
    "                fontsize=10)\n",
    "ax.set_ylim(-120, 100)  # set y-axis limits\n",
    "ax.set_ylabel(\"% change vs. untuned\")\n",
    "ax.set_xlabel(\"\")\n",
    "ax.set_xticklabels(ax.get_xticklabels(), rotation=45, ha=\"right\")\n",
    "ax.legend()\n",
    "ax.grid(axis='x', alpha=0.5, which='both')\n",
    "sns.despine()\n",
    "plt.tight_layout()\n",
    "plt.show()"
   ]
  },
  {
   "cell_type": "code",
   "execution_count": 45,
   "id": "e3f25518",
   "metadata": {},
   "outputs": [
    {
     "data": {
      "image/png": "[encoded data removed]",
      "text/plain": [
       "<Figure size 1500x1500 with 1 Axes>"
      ]
     },
     "metadata": {},
     "output_type": "display_data"
    }
   ],
   "source": [
    "metrics = [\"miss rate\", \"false alarm rate\"]\n",
    "\n",
    "records = []\n",
    "for model, g in thresh_df.groupby(\"model\"):\n",
    "    base = g.query(\"thresh==0.5\")  \n",
    "    tuned = g.query(\"thresh!=0.5\")\n",
    "    for m in metrics:\n",
    "        v0 = base[m].values[0]\n",
    "        v1 = tuned[m].values[0]\n",
    "        pct = 100 * (v1 - v0) / v0         # +% worse, −% better\n",
    "        records.append({\"model\": model, \"metric\": m, \"pct\": pct})\n",
    "delta_df = pd.DataFrame(records)\n",
    "\n",
    "fig, ax = plt.subplots(figsize=(5, 5), dpi=300)\n",
    "sns.barplot(data=delta_df, x=\"model\", y=\"pct\", hue=\"metric\",\n",
    "            palette=\"tab10\", errorbar=None, ax=ax)\n",
    "# zero-line & label\n",
    "ax.axhline(0, color=\"gray\", linewidth=1, label=\"untuned baseline\")\n",
    "\n",
    "# annotate % on every bar\n",
    "for container in ax.containers:\n",
    "    for bar in container:\n",
    "        height = bar.get_height()\n",
    "        txt = f\"{height:+.0f}%\"\n",
    "        if height == 0:\n",
    "            txt = \"0%\"\n",
    "        ax.text(bar.get_x() + bar.get_width()/2,\n",
    "                height + (1.5 if height>=0 else -1.5),   # small offset\n",
    "                txt, ha=\"center\", va=\"bottom\" if height>=0 else \"top\",\n",
    "                fontsize=10)\n",
    "ax.set_ylim(-120, 100)  # set y-axis limits\n",
    "ax.set_ylabel(\"% change vs. untuned\")\n",
    "ax.set_xlabel(\"\")\n",
    "ax.set_xticklabels(ax.get_xticklabels(), rotation=45, ha=\"right\")\n",
    "ax.legend()\n",
    "ax.grid(axis='x', alpha=0.5, which='both')\n",
    "sns.despine()\n",
    "plt.tight_layout()\n",
    "plt.show()"
   ]
  }
 ],
 "metadata": {
  "kernelspec": {
   "display_name": "py310",
   "language": "python",
   "name": "python3"
  },
  "language_info": {
   "codemirror_mode": {
    "name": "ipython",
    "version": 3
   },
   "file_extension": ".py",
   "mimetype": "text/x-python",
   "name": "python",
   "nbconvert_exporter": "python",
   "pygments_lexer": "ipython3",
   "version": "3.10.18"
  }
 },
 "nbformat": 4,
 "nbformat_minor": 5
}
