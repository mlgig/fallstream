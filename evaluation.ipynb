{
 "cells": [
  {
   "cell_type": "markdown",
   "id": "832086c1",
   "metadata": {},
   "source": [
    "### Imports"
   ]
  },
  {
   "cell_type": "code",
   "execution_count": 1,
   "id": "71c015bc",
   "metadata": {},
   "outputs": [
    {
     "name": "stderr",
     "output_type": "stream",
     "text": [
      "2025-08-07 23:12:59.539296: E external/local_xla/xla/stream_executor/cuda/cuda_dnn.cc:9261] Unable to register cuDNN factory: Attempting to register factory for plugin cuDNN when one has already been registered\n",
      "2025-08-07 23:12:59.539331: E external/local_xla/xla/stream_executor/cuda/cuda_fft.cc:607] Unable to register cuFFT factory: Attempting to register factory for plugin cuFFT when one has already been registered\n",
      "2025-08-07 23:12:59.540137: E external/local_xla/xla/stream_executor/cuda/cuda_blas.cc:1515] Unable to register cuBLAS factory: Attempting to register factory for plugin cuBLAS when one has already been registered\n"
     ]
    }
   ],
   "source": [
    "import os\n",
    "os.environ[\"TF_CPP_MIN_LOG_LEVEL\"] = \"2\"\n",
    "# Values:\n",
    "# 0 = all logs (default)\n",
    "# 1 = filter out INFO\n",
    "# 2 = filter out INFO and WARNING\n",
    "\n",
    "import joblib, json, time, numpy as np, pandas as pd\n",
    "import matplotlib.pyplot as plt\n",
    "import seaborn as sns\n",
    "from pathlib import Path\n",
    "import warnings\n",
    "warnings.simplefilter(action='ignore', category=FutureWarning)\n",
    "warnings.simplefilter(action='ignore', category=UserWarning)\n",
    "%load_ext autoreload\n",
    "%autoreload 2\n",
    "from scripts import farseeing as fs\n",
    "from scripts import utils\n",
    "from scripts.models import get_model_specs\n",
    "from scripts.model_runner import run_models\n",
    "from scripts.metric import compute_row, aggregate\n",
    "from scripts.plotting import metric_grid, metric_box\n",
    "\n",
    "# Directories\n",
    "RES_DIR = Path(\"results\"); RES_DIR.mkdir(exist_ok=True)\n",
    "FIG_DIR = Path(\"figs\"); FIG_DIR.mkdir(exist_ok=True)\n",
    "CACHE = RES_DIR / \"model_cache\"; CACHE.mkdir(exist_ok=True)"
   ]
  },
  {
   "cell_type": "markdown",
   "id": "47cd2aa3",
   "metadata": {},
   "source": [
    "### Experiment Grid"
   ]
  },
  {
   "cell_type": "code",
   "execution_count": 2,
   "id": "54f6b50c",
   "metadata": {},
   "outputs": [
    {
     "name": "stdout",
     "output_type": "stream",
     "text": [
      "Random seeds: [0, 1, 2]\n"
     ]
    }
   ],
   "source": [
    "WINDOW_SIZES = [3, 5, 7, 10, 15, 30, 60] # seconds\n",
    "MODEL_SPECS = get_model_specs() # all models\n",
    "# SEEDS = np.random.RandomState(14).choice(\n",
    "# \tnp.arange(10), size=3, replace=False).tolist()\n",
    "SEEDS = [0, 1, 2] # for reproducibility\n",
    "CV_FOLDS = 5\n",
    "WINDOW_FREQ = 100 #Hz\n",
    "print(f\"Random seeds: {SEEDS}\")"
   ]
  },
  {
   "cell_type": "markdown",
   "id": "97f33f1e",
   "metadata": {},
   "source": [
    "### Train/Test Subject Split\n",
    "To avoid data leakage, we separate some subjects for final testing and use the training set only for cross-validation."
   ]
  },
  {
   "cell_type": "code",
   "execution_count": 3,
   "id": "2ec0610a",
   "metadata": {},
   "outputs": [
    {
     "name": "stdout",
     "output_type": "stream",
     "text": [
      "Loaded train/test subjects from subjects.json\n"
     ]
    }
   ],
   "source": [
    "# Load train and test data if available, otherwise compute\n",
    "try:\n",
    "\tsubjects = json.load((open(RES_DIR/\"subjects.json\", \"r\")))\n",
    "\tTRAIN_SUBJ = subjects['train']\n",
    "\tTEST_SUBJ = subjects['test']\n",
    "\tprint(\"Loaded train/test subjects from subjects.json\")\n",
    "except FileNotFoundError:\n",
    "\tprint(\"No subjects.json found, computing train/test split...\")\n",
    "\tTRAIN_SUBJ, TEST_SUBJ = utils.train_test_subjects_split(\n",
    "\t\tfs, test_size=0.2, random_state=42)\n",
    "\tjson.dump({\"train\": TRAIN_SUBJ.tolist(), \"test\": TEST_SUBJ.tolist()},\n",
    "\t\t\t  open(RES_DIR/\"subjects.json\", \"w\"))"
   ]
  },
  {
   "cell_type": "markdown",
   "id": "35c524de",
   "metadata": {},
   "source": [
    "### Initial Cross-validation and Window Size Selection"
   ]
  },
  {
   "cell_type": "code",
   "execution_count": 4,
   "id": "35546187",
   "metadata": {},
   "outputs": [],
   "source": [
    "train_df = fs.load().query(\"SubjectID in @TRAIN_SUBJ\")"
   ]
  },
  {
   "cell_type": "code",
   "execution_count": 4,
   "id": "f442cef7",
   "metadata": {},
   "outputs": [],
   "source": [
    "from scripts.cv_runner import CVRunner\n",
    "\n",
    "dummy_specs = get_model_specs(kind=\"baseline\")\n",
    "DUMMY_CV_ROWS = []\n",
    "kwargs = dict(\n",
    "\tmultiphase=True,\n",
    "\tsegment_test=False,\n",
    "\tthresh=1.4\n",
    ")\n",
    "run_kwargs = dict(\n",
    "\tverbose=True,\n",
    "    model_specs=dummy_specs,\n",
    "    ensemble_models=True,         \n",
    "    ensemble_by_kind=True                  \n",
    ")"
   ]
  },
  {
   "cell_type": "markdown",
   "id": "cb22bd11",
   "metadata": {},
   "source": [
    "Baseline models"
   ]
  },
  {
   "cell_type": "code",
   "execution_count": null,
   "id": "5a02c912",
   "metadata": {},
   "outputs": [
    {
     "name": "stdout",
     "output_type": "stream",
     "text": [
      "Running CV for window size 3 seconds\n",
      "\n",
      "– Fold 1/5: testing on 7 subjects –\n",
      "Train set: 102 samples, Test set: 22 samples\n",
      "Train set: X: (1080, 300), y: (1080,)    ([ADLs, Falls]) [978 102]\n",
      "Test set: X: 22, y: 22\n",
      "TRAINING (seed=0) DummyADL. DummyFall. ✅\n",
      "TESTING DummyADL_0. DummyFall_0. ✅\n",
      "\n",
      "– Fold 2/5: testing on 7 subjects –\n",
      "Train set: 87 samples, Test set: 37 samples\n",
      "Train set: X: (1140, 300), y: (1140,)    ([ADLs, Falls]) [1053   87]\n",
      "Test set: X: 37, y: 37\n",
      "TRAINING (seed=0) DummyADL. DummyFall. ✅\n",
      "TESTING DummyADL_0. DummyFall_0. ✅\n",
      "\n",
      "– Fold 3/5: testing on 6 subjects –\n",
      "Train set: 113 samples, Test set: 11 samples\n",
      "Train set: X: (969, 300), y: (969,)    ([ADLs, Falls]) [856 113]\n",
      "Test set: X: 11, y: 11\n",
      "TRAINING (seed=0) DummyADL. DummyFall. ✅\n",
      "TESTING DummyADL_0. DummyFall_0. ✅\n",
      "\n",
      "– Fold 4/5: testing on 6 subjects –\n",
      "Train set: 108 samples, Test set: 16 samples\n",
      "Train set: X: (1182, 300), y: (1182,)    ([ADLs, Falls]) [1074  108]\n",
      "Test set: X: 16, y: 16\n",
      "TRAINING (seed=0) DummyADL. DummyFall. ✅\n",
      "TESTING DummyADL_0. DummyFall_0. ✅\n",
      "\n",
      "– Fold 5/5: testing on 6 subjects –\n",
      "Train set: 86 samples, Test set: 38 samples\n",
      "Train set: X: (713, 300), y: (713,)    ([ADLs, Falls]) [627  86]\n",
      "Test set: X: 38, y: 38\n",
      "TRAINING (seed=0) DummyADL. DummyFall. ✅\n",
      "TESTING DummyADL_0. DummyFall_0. ✅\n",
      "Running CV for window size 5 seconds\n",
      "\n",
      "– Fold 1/5: testing on 7 subjects –\n",
      "Train set: 102 samples, Test set: 22 samples\n",
      "Train set: X: (1063, 500), y: (1063,)    ([ADLs, Falls]) [961 102]\n",
      "Test set: X: 22, y: 22\n",
      "TRAINING (seed=0) DummyADL. DummyFall. ✅\n",
      "TESTING DummyADL_0. DummyFall_0. ✅\n",
      "\n",
      "– Fold 2/5: testing on 7 subjects –\n",
      "Train set: 87 samples, Test set: 37 samples\n",
      "Train set: X: (1124, 500), y: (1124,)    ([ADLs, Falls]) [1037   87]\n",
      "Test set: X: 37, y: 37\n",
      "TRAINING (seed=0) DummyADL. DummyFall. ✅\n",
      "TESTING DummyADL_0. DummyFall_0. ✅\n",
      "\n",
      "– Fold 3/5: testing on 6 subjects –\n",
      "Train set: 113 samples, Test set: 11 samples\n",
      "Train set: X: (949, 500), y: (949,)    ([ADLs, Falls]) [836 113]\n",
      "Test set: X: 11, y: 11\n",
      "TRAINING (seed=0) DummyADL. DummyFall. ✅\n",
      "TESTING DummyADL_0. DummyFall_0. ✅\n",
      "\n",
      "– Fold 4/5: testing on 6 subjects –\n",
      "Train set: 108 samples, Test set: 16 samples\n",
      "Train set: X: (1165, 500), y: (1165,)    ([ADLs, Falls]) [1057  108]\n",
      "Test set: X: 16, y: 16\n",
      "TRAINING (seed=0) DummyADL. DummyFall. ✅\n",
      "TESTING DummyADL_0. DummyFall_0. ✅\n",
      "\n",
      "– Fold 5/5: testing on 6 subjects –\n",
      "Train set: 86 samples, Test set: 38 samples\n",
      "Train set: X: (703, 500), y: (703,)    ([ADLs, Falls]) [617  86]\n",
      "Test set: X: 38, y: 38\n",
      "TRAINING (seed=0) DummyADL. DummyFall. ✅\n",
      "TESTING DummyADL_0. DummyFall_0. ✅\n",
      "Running CV for window size 7 seconds\n",
      "\n",
      "– Fold 1/5: testing on 7 subjects –\n",
      "Train set: 102 samples, Test set: 22 samples\n",
      "Train set: X: (1052, 700), y: (1052,)    ([ADLs, Falls]) [950 102]\n",
      "Test set: X: 22, y: 22\n",
      "TRAINING (seed=0) DummyADL. DummyFall. ✅\n",
      "TESTING DummyADL_0. DummyFall_0. ✅\n",
      "\n",
      "– Fold 2/5: testing on 7 subjects –\n",
      "Train set: 87 samples, Test set: 37 samples\n",
      "Train set: X: (1114, 700), y: (1114,)    ([ADLs, Falls]) [1027   87]\n",
      "Test set: X: 37, y: 37\n",
      "TRAINING (seed=0) DummyADL. DummyFall. ✅\n",
      "TESTING DummyADL_0. DummyFall_0. ✅\n",
      "\n",
      "– Fold 3/5: testing on 6 subjects –\n",
      "Train set: 113 samples, Test set: 11 samples\n",
      "Train set: X: (940, 700), y: (940,)    ([ADLs, Falls]) [827 113]\n",
      "Test set: X: 11, y: 11\n",
      "TRAINING (seed=0) DummyADL. DummyFall. ✅\n",
      "TESTING DummyADL_0. DummyFall_0. ✅\n",
      "\n",
      "– Fold 4/5: testing on 6 subjects –\n",
      "Train set: 108 samples, Test set: 16 samples\n",
      "Train set: X: (1154, 700), y: (1154,)    ([ADLs, Falls]) [1046  108]\n",
      "Test set: X: 16, y: 16\n",
      "TRAINING (seed=0) DummyADL. DummyFall. ✅\n",
      "TESTING DummyADL_0. DummyFall_0. ✅\n",
      "\n",
      "– Fold 5/5: testing on 6 subjects –\n",
      "Train set: 86 samples, Test set: 38 samples\n",
      "Train set: X: (700, 700), y: (700,)    ([ADLs, Falls]) [614  86]\n",
      "Test set: X: 38, y: 38\n",
      "TRAINING (seed=0) DummyADL. DummyFall. ✅\n",
      "TESTING DummyADL_0. DummyFall_0. ✅\n",
      "Running CV for window size 10 seconds\n",
      "\n",
      "– Fold 1/5: testing on 7 subjects –\n",
      "Train set: 102 samples, Test set: 22 samples\n",
      "Train set: X: (1027, 1000), y: (1027,)    ([ADLs, Falls]) [925 102]\n",
      "Test set: X: 22, y: 22\n",
      "TRAINING (seed=0) DummyADL. DummyFall. ✅\n",
      "TESTING DummyADL_0. DummyFall_0. ✅\n",
      "\n",
      "– Fold 2/5: testing on 7 subjects –\n",
      "Train set: 87 samples, Test set: 37 samples\n",
      "Train set: X: (1090, 1000), y: (1090,)    ([ADLs, Falls]) [1003   87]\n",
      "Test set: X: 37, y: 37\n",
      "TRAINING (seed=0) DummyADL. DummyFall. ✅\n",
      "TESTING DummyADL_0. DummyFall_0. ✅\n",
      "\n",
      "– Fold 3/5: testing on 6 subjects –\n",
      "Train set: 113 samples, Test set: 11 samples\n",
      "Train set: X: (918, 1000), y: (918,)    ([ADLs, Falls]) [805 113]\n",
      "Test set: X: 11, y: 11\n",
      "TRAINING (seed=0) DummyADL. DummyFall. ✅\n",
      "TESTING DummyADL_0. DummyFall_0. ✅\n",
      "\n",
      "– Fold 4/5: testing on 6 subjects –\n",
      "Train set: 108 samples, Test set: 16 samples\n",
      "Train set: X: (1129, 1000), y: (1129,)    ([ADLs, Falls]) [1021  108]\n",
      "Test set: X: 16, y: 16\n",
      "TRAINING (seed=0) DummyADL. DummyFall. ✅\n",
      "TESTING DummyADL_0. DummyFall_0. ✅\n",
      "\n",
      "– Fold 5/5: testing on 6 subjects –\n",
      "Train set: 86 samples, Test set: 38 samples\n",
      "Train set: X: (688, 1000), y: (688,)    ([ADLs, Falls]) [602  86]\n",
      "Test set: X: 38, y: 38\n",
      "TRAINING (seed=0) DummyADL. DummyFall. ✅\n",
      "TESTING DummyADL_0. DummyFall_0. ✅\n",
      "Running CV for window size 15 seconds\n",
      "\n",
      "– Fold 1/5: testing on 7 subjects –\n",
      "Train set: 102 samples, Test set: 22 samples\n",
      "Train set: X: (998, 1500), y: (998,)    ([ADLs, Falls]) [896 102]\n",
      "Test set: X: 22, y: 22\n",
      "TRAINING (seed=0) DummyADL. DummyFall. ✅\n",
      "TESTING DummyADL_0. DummyFall_0. ✅\n",
      "\n",
      "– Fold 2/5: testing on 7 subjects –\n",
      "Train set: 87 samples, Test set: 37 samples\n",
      "Train set: X: (1057, 1500), y: (1057,)    ([ADLs, Falls]) [970  87]\n",
      "Test set: X: 37, y: 37\n",
      "TRAINING (seed=0) DummyADL. DummyFall. ✅\n",
      "TESTING DummyADL_0. DummyFall_0. ✅\n",
      "\n",
      "– Fold 3/5: testing on 6 subjects –\n",
      "Train set: 113 samples, Test set: 11 samples\n",
      "Train set: X: (889, 1500), y: (889,)    ([ADLs, Falls]) [776 113]\n",
      "Test set: X: 11, y: 11\n",
      "TRAINING (seed=0) DummyADL. DummyFall. ✅\n",
      "TESTING DummyADL_0. DummyFall_0. ✅\n",
      "\n",
      "– Fold 4/5: testing on 6 subjects –\n",
      "Train set: 108 samples, Test set: 16 samples\n",
      "Train set: X: (1096, 1500), y: (1096,)    ([ADLs, Falls]) [988 108]\n",
      "Test set: X: 16, y: 16\n",
      "TRAINING (seed=0) DummyADL. DummyFall. ✅\n",
      "TESTING DummyADL_0. DummyFall_0. ✅\n",
      "\n",
      "– Fold 5/5: testing on 6 subjects –\n",
      "Train set: 86 samples, Test set: 38 samples\n",
      "Train set: X: (676, 1500), y: (676,)    ([ADLs, Falls]) [590  86]\n",
      "Test set: X: 38, y: 38\n",
      "TRAINING (seed=0) DummyADL. DummyFall. ✅\n",
      "TESTING DummyADL_0. DummyFall_0. ✅\n",
      "Running CV for window size 30 seconds\n",
      "\n",
      "– Fold 1/5: testing on 7 subjects –\n",
      "Train set: 102 samples, Test set: 22 samples\n",
      "Train set: X: (957, 3000), y: (957,)    ([ADLs, Falls]) [855 102]\n",
      "Test set: X: 22, y: 22\n",
      "TRAINING (seed=0) DummyADL. DummyFall. ✅\n",
      "TESTING DummyADL_0. DummyFall_0. ✅\n",
      "\n",
      "– Fold 2/5: testing on 7 subjects –\n",
      "Train set: 87 samples, Test set: 37 samples\n",
      "Train set: X: (1018, 3000), y: (1018,)    ([ADLs, Falls]) [931  87]\n",
      "Test set: X: 37, y: 37\n",
      "TRAINING (seed=0) DummyADL. DummyFall. ✅\n",
      "TESTING DummyADL_0. DummyFall_0. ✅\n",
      "\n",
      "– Fold 3/5: testing on 6 subjects –\n",
      "Train set: 113 samples, Test set: 11 samples\n",
      "Train set: X: (847, 3000), y: (847,)    ([ADLs, Falls]) [734 113]\n",
      "Test set: X: 11, y: 11\n",
      "TRAINING (seed=0) DummyADL. DummyFall. ✅\n",
      "TESTING DummyADL_0. DummyFall_0. ✅\n",
      "\n",
      "– Fold 4/5: testing on 6 subjects –\n",
      "Train set: 108 samples, Test set: 16 samples\n",
      "Train set: X: (1057, 3000), y: (1057,)    ([ADLs, Falls]) [949 108]\n",
      "Test set: X: 16, y: 16\n",
      "TRAINING (seed=0) DummyADL. DummyFall. ✅\n",
      "TESTING DummyADL_0. DummyFall_0. ✅\n",
      "\n",
      "– Fold 5/5: testing on 6 subjects –\n",
      "Train set: 86 samples, Test set: 38 samples\n",
      "Train set: X: (657, 3000), y: (657,)    ([ADLs, Falls]) [571  86]\n",
      "Test set: X: 38, y: 38\n",
      "TRAINING (seed=0) DummyADL. DummyFall. ✅\n",
      "TESTING DummyADL_0. DummyFall_0. ✅\n",
      "Running CV for window size 60 seconds\n",
      "\n",
      "– Fold 1/5: testing on 7 subjects –\n",
      "Train set: 102 samples, Test set: 22 samples\n",
      "Train set: X: (864, 6000), y: (864,)    ([ADLs, Falls]) [762 102]\n",
      "Test set: X: 22, y: 22\n",
      "TRAINING (seed=0) DummyADL. DummyFall. ✅\n",
      "TESTING DummyADL_0. DummyFall_0. ✅\n",
      "\n",
      "– Fold 2/5: testing on 7 subjects –\n",
      "Train set: 87 samples, Test set: 37 samples\n",
      "Train set: X: (927, 6000), y: (927,)    ([ADLs, Falls]) [840  87]\n",
      "Test set: X: 37, y: 37\n",
      "TRAINING (seed=0) DummyADL. DummyFall. ✅\n",
      "TESTING DummyADL_0. DummyFall_0. ✅\n",
      "\n",
      "– Fold 3/5: testing on 6 subjects –\n",
      "Train set: 113 samples, Test set: 11 samples\n",
      "Train set: X: (771, 6000), y: (771,)    ([ADLs, Falls]) [658 113]\n",
      "Test set: X: 11, y: 11\n",
      "TRAINING (seed=0) DummyADL. DummyFall. ✅\n",
      "TESTING DummyADL_0. DummyFall_0. ✅\n",
      "\n",
      "– Fold 4/5: testing on 6 subjects –\n",
      "Train set: 108 samples, Test set: 16 samples\n",
      "Train set: X: (973, 6000), y: (973,)    ([ADLs, Falls]) [865 108]\n",
      "Test set: X: 16, y: 16\n",
      "TRAINING (seed=0) DummyADL. DummyFall. ✅\n",
      "TESTING DummyADL_0. DummyFall_0. ✅\n",
      "\n",
      "– Fold 5/5: testing on 6 subjects –\n",
      "Train set: 86 samples, Test set: 38 samples\n",
      "Train set: X: (621, 6000), y: (621,)    ([ADLs, Falls]) [535  86]\n",
      "Test set: X: 38, y: 38\n",
      "TRAINING (seed=0) DummyADL. DummyFall. ✅\n",
      "TESTING DummyADL_0. DummyFall_0. ✅\n"
     ]
    }
   ],
   "source": [
    "for win in WINDOW_SIZES:\n",
    "\tprint(f\"Running CV for window size {win} seconds\")\n",
    "\trunner = CVRunner(\n",
    "        df=train_df,\n",
    "        dataset=fs,\n",
    "        groups=\"SubjectID\",\n",
    "        split_df_fn=utils.split_df,\n",
    "        run_models_fn=run_models,\n",
    "        window_size=win,\n",
    "        cv=CV_FOLDS,\n",
    "        kwargs=kwargs\n",
    "    )\n",
    "\tdummy_fold_df = runner.run(**run_kwargs)\n",
    "\tdummy_fold_df[\"window_size\"] = win\n",
    "\tDUMMY_CV_ROWS.append(dummy_fold_df)\n",
    "dummy_cv_metrics = pd.concat(DUMMY_CV_ROWS, ignore_index=True)\n",
    "dummy_cv_metrics.to_csv(RES_DIR / \"dummy_cv_all_windows.csv\", index=False)"
   ]
  },
  {
   "cell_type": "markdown",
   "id": "ab3c57a9",
   "metadata": {},
   "source": [
    "Real models"
   ]
  },
  {
   "cell_type": "code",
   "execution_count": null,
   "id": "2181c402",
   "metadata": {},
   "outputs": [
    {
     "name": "stderr",
     "output_type": "stream",
     "text": [
      "2025-08-01 14:40:53,593 [INFO] Training models (seed=0)\n"
     ]
    },
    {
     "name": "stdout",
     "output_type": "stream",
     "text": [
      "Running CV for window size 3 seconds\n",
      "\n",
      "– Fold 1/5: testing on 7 subjects –\n",
      "Train set: 102 samples, Test set: 22 samples\n",
      "Train set: X: (1080, 300), y: (1080,)    ([ADLs, Falls]) [978 102]\n",
      "Test set: X: 22, y: 22\n"
     ]
    },
    {
     "name": "stderr",
     "output_type": "stream",
     "text": [
      "Training (seed=0):  86%|████████▌ | 6/7 [00:05<00:01,  1.18s/it]WARNING: All log messages before absl::InitializeLog() is called are written to STDERR\n",
      "I0000 00:00:1754059269.375488   24650 device_compiler.h:186] Compiled cluster using XLA!  This line is logged at most once for the lifetime of the process.\n",
      "Training (seed=0): 100%|██████████| 7/7 [01:08<00:00,  9.74s/it]\n",
      "Evaluating models:  86%|████████▌ | 6/7 [00:28<00:06,  6.59s/it]"
     ]
    },
    {
     "name": "stdout",
     "output_type": "stream",
     "text": [
      "19/19 [==============================] - 4s 105ms/step\n",
      "19/19 [==============================] - 0s 3ms/step\n",
      "19/19 [==============================] - 0s 3ms/step\n",
      "19/19 [==============================] - 0s 3ms/step\n",
      "19/19 [==============================] - 0s 3ms/step\n",
      "19/19 [==============================] - 0s 3ms/step\n",
      "19/19 [==============================] - 0s 3ms/step\n",
      "19/19 [==============================] - 0s 3ms/step\n",
      "19/19 [==============================] - 0s 3ms/step\n",
      "19/19 [==============================] - 0s 3ms/step\n",
      "19/19 [==============================] - 0s 3ms/step\n",
      "19/19 [==============================] - 0s 3ms/step\n",
      "19/19 [==============================] - 0s 3ms/step\n",
      "19/19 [==============================] - 0s 3ms/step\n",
      "19/19 [==============================] - 0s 3ms/step\n",
      "19/19 [==============================] - 0s 3ms/step\n",
      "19/19 [==============================] - 0s 3ms/step\n",
      "19/19 [==============================] - 0s 3ms/step\n",
      "19/19 [==============================] - 0s 3ms/step\n",
      "19/19 [==============================] - 0s 3ms/step\n",
      "19/19 [==============================] - 0s 3ms/step\n",
      "19/19 [==============================] - 0s 3ms/step\n"
     ]
    },
    {
     "name": "stderr",
     "output_type": "stream",
     "text": [
      "Evaluating models: 100%|██████████| 7/7 [00:36<00:00,  5.25s/it]\n",
      "2025-08-01 14:42:38,585 [INFO] ✅ Evaluation complete\n"
     ]
    },
    {
     "name": "stdout",
     "output_type": "stream",
     "text": [
      "\n",
      "– Fold 2/5: testing on 7 subjects –\n"
     ]
    },
    {
     "name": "stderr",
     "output_type": "stream",
     "text": [
      "2025-08-01 14:42:38,645 [INFO] Training models (seed=0)\n"
     ]
    },
    {
     "name": "stdout",
     "output_type": "stream",
     "text": [
      "Train set: 87 samples, Test set: 37 samples\n",
      "Train set: X: (1140, 300), y: (1140,)    ([ADLs, Falls]) [1053   87]\n",
      "Test set: X: 37, y: 37\n"
     ]
    },
    {
     "name": "stderr",
     "output_type": "stream",
     "text": [
      "Training (seed=0): 100%|██████████| 7/7 [00:43<00:00,  6.27s/it]\n",
      "Evaluating models:  86%|████████▌ | 6/7 [00:42<00:10, 10.20s/it]"
     ]
    },
    {
     "name": "stdout",
     "output_type": "stream",
     "text": [
      "19/19 [==============================] - 0s 3ms/step\n",
      "19/19 [==============================] - 0s 3ms/step\n",
      "19/19 [==============================] - 0s 3ms/step\n",
      "19/19 [==============================] - 0s 3ms/step\n",
      "19/19 [==============================] - 0s 3ms/step\n",
      "19/19 [==============================] - 0s 3ms/step\n",
      "19/19 [==============================] - 0s 3ms/step\n",
      "19/19 [==============================] - 0s 3ms/step\n",
      "19/19 [==============================] - 0s 3ms/step\n",
      "19/19 [==============================] - 0s 3ms/step\n",
      "19/19 [==============================] - 0s 3ms/step\n",
      "19/19 [==============================] - 0s 3ms/step\n",
      "19/19 [==============================] - 0s 3ms/step\n",
      "19/19 [==============================] - 0s 3ms/step\n",
      "19/19 [==============================] - 0s 3ms/step\n",
      "19/19 [==============================] - 0s 3ms/step\n",
      "19/19 [==============================] - 0s 3ms/step\n",
      "19/19 [==============================] - 0s 3ms/step\n",
      "19/19 [==============================] - 0s 3ms/step\n",
      "19/19 [==============================] - 0s 3ms/step\n",
      "19/19 [==============================] - 0s 3ms/step\n",
      "19/19 [==============================] - 0s 3ms/step\n",
      "19/19 [==============================] - 0s 3ms/step\n",
      "19/19 [==============================] - 0s 3ms/step\n",
      "19/19 [==============================] - 0s 3ms/step\n",
      "19/19 [==============================] - 0s 3ms/step\n",
      "19/19 [==============================] - 0s 3ms/step\n",
      "19/19 [==============================] - 0s 3ms/step\n",
      "19/19 [==============================] - 0s 3ms/step\n",
      "19/19 [==============================] - 0s 3ms/step\n",
      "19/19 [==============================] - 0s 3ms/step\n",
      "19/19 [==============================] - 0s 3ms/step\n",
      "19/19 [==============================] - 0s 3ms/step\n",
      "19/19 [==============================] - 0s 3ms/step\n"
     ]
    },
    {
     "name": "stderr",
     "output_type": "stream",
     "text": [
      "Evaluating models: 100%|██████████| 7/7 [00:50<00:00,  7.16s/it]\n",
      "2025-08-01 14:44:12,774 [INFO] ✅ Evaluation complete\n"
     ]
    },
    {
     "name": "stdout",
     "output_type": "stream",
     "text": [
      "\n",
      "– Fold 3/5: testing on 6 subjects –\n"
     ]
    },
    {
     "name": "stderr",
     "output_type": "stream",
     "text": [
      "2025-08-01 14:44:12,795 [INFO] Training models (seed=0)\n"
     ]
    },
    {
     "name": "stdout",
     "output_type": "stream",
     "text": [
      "Train set: 113 samples, Test set: 11 samples\n",
      "Train set: X: (969, 300), y: (969,)    ([ADLs, Falls]) [856 113]\n",
      "Test set: X: 11, y: 11\n"
     ]
    },
    {
     "name": "stderr",
     "output_type": "stream",
     "text": [
      "Training (seed=0): 100%|██████████| 7/7 [00:53<00:00,  7.61s/it]\n",
      "Evaluating models:  86%|████████▌ | 6/7 [00:11<00:02,  2.22s/it]"
     ]
    },
    {
     "name": "stdout",
     "output_type": "stream",
     "text": [
      "19/19 [==============================] - 0s 3ms/step\n",
      "19/19 [==============================] - 0s 3ms/step\n",
      "19/19 [==============================] - 0s 3ms/step\n",
      "19/19 [==============================] - 0s 3ms/step\n",
      "19/19 [==============================] - 0s 3ms/step\n",
      "19/19 [==============================] - 0s 3ms/step\n",
      "19/19 [==============================] - 0s 3ms/step\n",
      "19/19 [==============================] - 0s 3ms/step\n",
      "19/19 [==============================] - 0s 3ms/step\n"
     ]
    },
    {
     "name": "stderr",
     "output_type": "stream",
     "text": [
      "Evaluating models: 100%|██████████| 7/7 [00:13<00:00,  1.88s/it]\n",
      "2025-08-01 14:45:19,257 [INFO] ✅ Evaluation complete\n",
      "2025-08-01 14:45:19,293 [INFO] Training models (seed=0)\n"
     ]
    },
    {
     "name": "stdout",
     "output_type": "stream",
     "text": [
      "\n",
      "– Fold 4/5: testing on 6 subjects –\n",
      "Train set: 108 samples, Test set: 16 samples\n",
      "Train set: X: (1182, 300), y: (1182,)    ([ADLs, Falls]) [1074  108]\n",
      "Test set: X: 16, y: 16\n"
     ]
    },
    {
     "name": "stderr",
     "output_type": "stream",
     "text": [
      "Training (seed=0): 100%|██████████| 7/7 [01:14<00:00, 10.62s/it]\n",
      "Evaluating models:  86%|████████▌ | 6/7 [00:18<00:04,  4.29s/it]"
     ]
    },
    {
     "name": "stdout",
     "output_type": "stream",
     "text": [
      "19/19 [==============================] - 0s 3ms/step\n",
      "19/19 [==============================] - 0s 3ms/step\n",
      "19/19 [==============================] - 0s 3ms/step\n",
      "19/19 [==============================] - 0s 3ms/step\n",
      "19/19 [==============================] - 0s 3ms/step\n",
      "19/19 [==============================] - 0s 3ms/step\n",
      "19/19 [==============================] - 0s 3ms/step\n",
      "19/19 [==============================] - 0s 3ms/step\n",
      "19/19 [==============================] - 0s 3ms/step\n",
      "19/19 [==============================] - 0s 3ms/step\n",
      "19/19 [==============================] - 0s 3ms/step\n",
      "19/19 [==============================] - 0s 3ms/step\n",
      "19/19 [==============================] - 0s 3ms/step\n",
      "19/19 [==============================] - 0s 3ms/step\n",
      "19/19 [==============================] - 0s 3ms/step\n"
     ]
    },
    {
     "name": "stderr",
     "output_type": "stream",
     "text": [
      "Evaluating models: 100%|██████████| 7/7 [00:21<00:00,  3.06s/it]\n",
      "2025-08-01 14:46:55,074 [INFO] ✅ Evaluation complete\n",
      "2025-08-01 14:46:55,099 [INFO] Training models (seed=0)\n"
     ]
    },
    {
     "name": "stdout",
     "output_type": "stream",
     "text": [
      "\n",
      "– Fold 5/5: testing on 6 subjects –\n",
      "Train set: 86 samples, Test set: 38 samples\n",
      "Train set: X: (713, 300), y: (713,)    ([ADLs, Falls]) [627  86]\n",
      "Test set: X: 38, y: 38\n"
     ]
    },
    {
     "name": "stderr",
     "output_type": "stream",
     "text": [
      "Training (seed=0): 100%|██████████| 7/7 [00:39<00:00,  5.60s/it]\n",
      "Evaluating models:  86%|████████▌ | 6/7 [00:46<00:10, 10.98s/it]"
     ]
    },
    {
     "name": "stdout",
     "output_type": "stream",
     "text": [
      "19/19 [==============================] - 0s 3ms/step\n",
      "19/19 [==============================] - 0s 3ms/step\n",
      "19/19 [==============================] - 0s 3ms/step\n",
      "19/19 [==============================] - 0s 3ms/step\n",
      "19/19 [==============================] - 0s 3ms/step\n",
      "19/19 [==============================] - 1s 66ms/step\n",
      "19/19 [==============================] - 0s 3ms/step\n",
      "19/19 [==============================] - 0s 3ms/step\n",
      "19/19 [==============================] - 0s 3ms/step\n",
      "19/19 [==============================] - 0s 3ms/step\n",
      "19/19 [==============================] - 0s 3ms/step\n",
      "19/19 [==============================] - 0s 3ms/step\n",
      "19/19 [==============================] - 0s 3ms/step\n",
      "19/19 [==============================] - 0s 3ms/step\n",
      "19/19 [==============================] - 0s 3ms/step\n",
      "19/19 [==============================] - 0s 3ms/step\n",
      "19/19 [==============================] - 0s 3ms/step\n",
      "19/19 [==============================] - 0s 3ms/step\n",
      "19/19 [==============================] - 0s 3ms/step\n",
      "19/19 [==============================] - 0s 3ms/step\n",
      "19/19 [==============================] - 0s 3ms/step\n",
      "19/19 [==============================] - 0s 3ms/step\n",
      "19/19 [==============================] - 0s 3ms/step\n",
      "19/19 [==============================] - 0s 3ms/step\n",
      "19/19 [==============================] - 0s 3ms/step\n",
      "19/19 [==============================] - 0s 3ms/step\n",
      "19/19 [==============================] - 0s 3ms/step\n",
      "19/19 [==============================] - 0s 3ms/step\n",
      "19/19 [==============================] - 0s 3ms/step\n",
      "19/19 [==============================] - 0s 3ms/step\n",
      "19/19 [==============================] - 0s 3ms/step\n",
      "19/19 [==============================] - 0s 3ms/step\n",
      "19/19 [==============================] - 0s 3ms/step\n",
      "19/19 [==============================] - 0s 3ms/step\n",
      "16/16 [==============================] - 1s 60ms/step\n",
      "19/19 [==============================] - 0s 3ms/step\n",
      "19/19 [==============================] - 0s 3ms/step\n"
     ]
    },
    {
     "name": "stderr",
     "output_type": "stream",
     "text": [
      "Evaluating models: 100%|██████████| 7/7 [00:56<00:00,  8.00s/it]\n",
      "2025-08-01 14:48:30,420 [INFO] ✅ Evaluation complete\n"
     ]
    },
    {
     "name": "stdout",
     "output_type": "stream",
     "text": [
      "Running CV for window size 5 seconds\n",
      "\n",
      "– Fold 1/5: testing on 7 subjects –\n",
      "Train set: 102 samples, Test set: 22 samples\n",
      "Train set: X: (1063, 500), y: (1063,)    ([ADLs, Falls])"
     ]
    },
    {
     "name": "stderr",
     "output_type": "stream",
     "text": [
      "2025-08-01 14:48:30,492 [INFO] Training models (seed=0)\n"
     ]
    },
    {
     "name": "stdout",
     "output_type": "stream",
     "text": [
      " [961 102]\n",
      "Test set: X: 22, y: 22\n"
     ]
    },
    {
     "name": "stderr",
     "output_type": "stream",
     "text": [
      "Training (seed=0): 100%|██████████| 7/7 [01:27<00:00, 12.56s/it]\n",
      "Evaluating models:  86%|████████▌ | 6/7 [00:36<00:08,  8.69s/it]"
     ]
    },
    {
     "name": "stdout",
     "output_type": "stream",
     "text": [
      "19/19 [==============================] - 4s 109ms/step\n",
      "19/19 [==============================] - 0s 3ms/step\n",
      "19/19 [==============================] - 0s 4ms/step\n",
      "19/19 [==============================] - 0s 3ms/step\n",
      "19/19 [==============================] - 0s 4ms/step\n",
      "19/19 [==============================] - 0s 4ms/step\n",
      "19/19 [==============================] - 0s 4ms/step\n",
      "19/19 [==============================] - 0s 4ms/step\n",
      "19/19 [==============================] - 0s 4ms/step\n",
      "19/19 [==============================] - 0s 4ms/step\n",
      "19/19 [==============================] - 0s 4ms/step\n",
      "19/19 [==============================] - 0s 4ms/step\n",
      "19/19 [==============================] - 0s 4ms/step\n",
      "19/19 [==============================] - 0s 4ms/step\n",
      "19/19 [==============================] - 0s 4ms/step\n",
      "19/19 [==============================] - 0s 4ms/step\n",
      "19/19 [==============================] - 0s 3ms/step\n",
      "19/19 [==============================] - 0s 4ms/step\n",
      "19/19 [==============================] - 0s 3ms/step\n",
      "19/19 [==============================] - 0s 4ms/step\n",
      "19/19 [==============================] - 0s 4ms/step\n",
      "19/19 [==============================] - 0s 4ms/step\n"
     ]
    },
    {
     "name": "stderr",
     "output_type": "stream",
     "text": [
      "Evaluating models: 100%|██████████| 7/7 [00:45<00:00,  6.57s/it]\n",
      "2025-08-01 14:50:44,473 [INFO] ✅ Evaluation complete\n",
      "2025-08-01 14:50:44,515 [INFO] Training models (seed=0)\n"
     ]
    },
    {
     "name": "stdout",
     "output_type": "stream",
     "text": [
      "\n",
      "– Fold 2/5: testing on 7 subjects –\n",
      "Train set: 87 samples, Test set: 37 samples\n",
      "Train set: X: (1124, 500), y: (1124,)    ([ADLs, Falls]) [1037   87]\n",
      "Test set: X: 37, y: 37\n"
     ]
    },
    {
     "name": "stderr",
     "output_type": "stream",
     "text": [
      "Training (seed=0): 100%|██████████| 7/7 [01:10<00:00, 10.08s/it]\n",
      "Evaluating models:  86%|████████▌ | 6/7 [00:55<00:13, 13.18s/it]"
     ]
    },
    {
     "name": "stdout",
     "output_type": "stream",
     "text": [
      "19/19 [==============================] - 0s 3ms/step\n",
      "19/19 [==============================] - 0s 4ms/step\n",
      "19/19 [==============================] - 0s 3ms/step\n",
      "19/19 [==============================] - 0s 3ms/step\n",
      "19/19 [==============================] - 0s 4ms/step\n",
      "19/19 [==============================] - 0s 3ms/step\n",
      "19/19 [==============================] - 0s 4ms/step\n",
      "19/19 [==============================] - 0s 4ms/step\n",
      "19/19 [==============================] - 0s 4ms/step\n",
      "19/19 [==============================] - 0s 4ms/step\n",
      "19/19 [==============================] - 0s 3ms/step\n",
      "19/19 [==============================] - 0s 3ms/step\n",
      "19/19 [==============================] - 0s 4ms/step\n",
      "19/19 [==============================] - 0s 4ms/step\n",
      "19/19 [==============================] - 0s 3ms/step\n",
      "19/19 [==============================] - 0s 3ms/step\n",
      "19/19 [==============================] - 0s 4ms/step\n",
      "19/19 [==============================] - 0s 4ms/step\n",
      "19/19 [==============================] - 0s 4ms/step\n",
      "19/19 [==============================] - 0s 4ms/step\n",
      "19/19 [==============================] - 0s 4ms/step\n",
      "19/19 [==============================] - 0s 3ms/step\n",
      "19/19 [==============================] - 0s 3ms/step\n",
      "19/19 [==============================] - 0s 4ms/step\n",
      "19/19 [==============================] - 0s 4ms/step\n",
      "19/19 [==============================] - 0s 3ms/step\n",
      "19/19 [==============================] - 0s 4ms/step\n",
      "19/19 [==============================] - 0s 4ms/step\n",
      "19/19 [==============================] - 0s 4ms/step\n",
      "19/19 [==============================] - 0s 4ms/step\n",
      "19/19 [==============================] - 0s 4ms/step\n",
      "19/19 [==============================] - 0s 3ms/step\n",
      "19/19 [==============================] - 0s 4ms/step\n",
      "19/19 [==============================] - 0s 4ms/step\n"
     ]
    },
    {
     "name": "stderr",
     "output_type": "stream",
     "text": [
      "Evaluating models: 100%|██████████| 7/7 [01:02<00:00,  8.91s/it]\n",
      "2025-08-01 14:52:57,618 [INFO] ✅ Evaluation complete\n",
      "2025-08-01 14:52:57,639 [INFO] Training models (seed=0)\n"
     ]
    },
    {
     "name": "stdout",
     "output_type": "stream",
     "text": [
      "\n",
      "– Fold 3/5: testing on 6 subjects –\n",
      "Train set: 113 samples, Test set: 11 samples\n",
      "Train set: X: (949, 500), y: (949,)    ([ADLs, Falls]) [836 113]\n",
      "Test set: X: 11, y: 11\n"
     ]
    },
    {
     "name": "stderr",
     "output_type": "stream",
     "text": [
      "Training (seed=0): 100%|██████████| 7/7 [01:04<00:00,  9.26s/it]\n",
      "Evaluating models:  86%|████████▌ | 6/7 [00:14<00:02,  2.91s/it]"
     ]
    },
    {
     "name": "stdout",
     "output_type": "stream",
     "text": [
      "19/19 [==============================] - 0s 3ms/step\n",
      "19/19 [==============================] - 0s 4ms/step\n",
      "19/19 [==============================] - 0s 4ms/step\n",
      "19/19 [==============================] - 0s 3ms/step\n",
      "19/19 [==============================] - 0s 3ms/step\n",
      "19/19 [==============================] - 0s 4ms/step\n",
      "19/19 [==============================] - 0s 3ms/step\n",
      "19/19 [==============================] - 0s 4ms/step\n",
      "19/19 [==============================] - 0s 4ms/step\n"
     ]
    },
    {
     "name": "stderr",
     "output_type": "stream",
     "text": [
      "Evaluating models: 100%|██████████| 7/7 [00:16<00:00,  2.39s/it]\n",
      "2025-08-01 14:54:19,271 [INFO] ✅ Evaluation complete\n",
      "2025-08-01 14:54:19,309 [INFO] Training models (seed=0)\n"
     ]
    },
    {
     "name": "stdout",
     "output_type": "stream",
     "text": [
      "\n",
      "– Fold 4/5: testing on 6 subjects –\n",
      "Train set: 108 samples, Test set: 16 samples\n",
      "Train set: X: (1165, 500), y: (1165,)    ([ADLs, Falls]) [1057  108]\n",
      "Test set: X: 16, y: 16\n"
     ]
    },
    {
     "name": "stderr",
     "output_type": "stream",
     "text": [
      "Training (seed=0): 100%|██████████| 7/7 [01:09<00:00,  9.93s/it]\n",
      "Evaluating models:  86%|████████▌ | 6/7 [00:25<00:05,  5.89s/it]"
     ]
    },
    {
     "name": "stdout",
     "output_type": "stream",
     "text": [
      "19/19 [==============================] - 0s 3ms/step\n",
      "19/19 [==============================] - 0s 4ms/step\n",
      "19/19 [==============================] - 0s 3ms/step\n",
      "19/19 [==============================] - 0s 4ms/step\n",
      "19/19 [==============================] - 0s 4ms/step\n",
      "19/19 [==============================] - 0s 3ms/step\n",
      "19/19 [==============================] - 0s 4ms/step\n",
      "19/19 [==============================] - 0s 3ms/step\n",
      "19/19 [==============================] - 0s 4ms/step\n",
      "19/19 [==============================] - 0s 3ms/step\n",
      "19/19 [==============================] - 0s 4ms/step\n",
      "19/19 [==============================] - 0s 4ms/step\n",
      "19/19 [==============================] - 0s 4ms/step\n",
      "19/19 [==============================] - 0s 3ms/step\n",
      "19/19 [==============================] - 0s 3ms/step\n"
     ]
    },
    {
     "name": "stderr",
     "output_type": "stream",
     "text": [
      "Evaluating models: 100%|██████████| 7/7 [00:28<00:00,  4.02s/it]\n",
      "2025-08-01 14:55:57,011 [INFO] ✅ Evaluation complete\n",
      "2025-08-01 14:55:57,031 [INFO] Training models (seed=0)\n"
     ]
    },
    {
     "name": "stdout",
     "output_type": "stream",
     "text": [
      "\n",
      "– Fold 5/5: testing on 6 subjects –\n",
      "Train set: 86 samples, Test set: 38 samples\n",
      "Train set: X: (703, 500), y: (703,)    ([ADLs, Falls]) [617  86]\n",
      "Test set: X: 38, y: 38\n"
     ]
    },
    {
     "name": "stderr",
     "output_type": "stream",
     "text": [
      "Training (seed=0): 100%|██████████| 7/7 [00:46<00:00,  6.58s/it]\n",
      "Evaluating models:  86%|████████▌ | 6/7 [00:59<00:14, 14.24s/it]"
     ]
    },
    {
     "name": "stdout",
     "output_type": "stream",
     "text": [
      "19/19 [==============================] - 0s 4ms/step\n",
      "19/19 [==============================] - 0s 4ms/step\n",
      "19/19 [==============================] - 0s 4ms/step\n",
      "19/19 [==============================] - 0s 3ms/step\n",
      "19/19 [==============================] - 0s 4ms/step\n",
      "19/19 [==============================] - 2s 104ms/step\n",
      "19/19 [==============================] - 0s 4ms/step\n",
      "19/19 [==============================] - 0s 4ms/step\n",
      "19/19 [==============================] - 0s 4ms/step\n",
      "19/19 [==============================] - 0s 4ms/step\n",
      "19/19 [==============================] - 0s 4ms/step\n",
      "19/19 [==============================] - 0s 3ms/step\n",
      "19/19 [==============================] - 0s 4ms/step\n",
      "19/19 [==============================] - 0s 4ms/step\n",
      "19/19 [==============================] - 0s 4ms/step\n",
      "19/19 [==============================] - 0s 4ms/step\n",
      "19/19 [==============================] - 0s 4ms/step\n",
      "19/19 [==============================] - 0s 3ms/step\n",
      "19/19 [==============================] - 0s 4ms/step\n",
      "19/19 [==============================] - 0s 4ms/step\n",
      "19/19 [==============================] - 0s 4ms/step\n",
      "19/19 [==============================] - 0s 4ms/step\n",
      "19/19 [==============================] - 0s 4ms/step\n",
      "19/19 [==============================] - 0s 4ms/step\n",
      "19/19 [==============================] - 0s 4ms/step\n",
      "19/19 [==============================] - 0s 4ms/step\n",
      "19/19 [==============================] - 0s 3ms/step\n",
      "19/19 [==============================] - 0s 4ms/step\n",
      "19/19 [==============================] - 0s 3ms/step\n",
      "19/19 [==============================] - 0s 4ms/step\n",
      "19/19 [==============================] - 0s 4ms/step\n",
      "19/19 [==============================] - 0s 4ms/step\n",
      "19/19 [==============================] - 0s 4ms/step\n",
      "19/19 [==============================] - 0s 3ms/step\n",
      "16/16 [==============================] - 2s 132ms/step\n",
      "19/19 [==============================] - 0s 4ms/step\n",
      "19/19 [==============================] - 0s 4ms/step\n"
     ]
    },
    {
     "name": "stderr",
     "output_type": "stream",
     "text": [
      "Evaluating models: 100%|██████████| 7/7 [01:11<00:00, 10.19s/it]\n",
      "2025-08-01 14:57:54,531 [INFO] ✅ Evaluation complete\n"
     ]
    },
    {
     "name": "stdout",
     "output_type": "stream",
     "text": [
      "Running CV for window size 7 seconds\n",
      "\n",
      "– Fold 1/5: testing on 7 subjects –\n",
      "Train set: 102 samples, Test set: 22 samples\n"
     ]
    },
    {
     "name": "stderr",
     "output_type": "stream",
     "text": [
      "2025-08-01 14:57:54,604 [INFO] Training models (seed=0)\n"
     ]
    },
    {
     "name": "stdout",
     "output_type": "stream",
     "text": [
      "Train set: X: (1052, 700), y: (1052,)    ([ADLs, Falls]) [950 102]\n",
      "Test set: X: 22, y: 22\n"
     ]
    },
    {
     "name": "stderr",
     "output_type": "stream",
     "text": [
      "Training (seed=0): 100%|██████████| 7/7 [01:03<00:00,  9.04s/it]\n",
      "Evaluating models:  86%|████████▌ | 6/7 [00:51<00:12, 12.20s/it]"
     ]
    },
    {
     "name": "stdout",
     "output_type": "stream",
     "text": [
      "19/19 [==============================] - 3s 69ms/step\n",
      "19/19 [==============================] - 0s 4ms/step\n",
      "19/19 [==============================] - 0s 4ms/step\n",
      "19/19 [==============================] - 0s 4ms/step\n",
      "19/19 [==============================] - 0s 4ms/step\n",
      "19/19 [==============================] - 0s 4ms/step\n",
      "19/19 [==============================] - 0s 4ms/step\n",
      "19/19 [==============================] - 0s 4ms/step\n",
      "19/19 [==============================] - 0s 4ms/step\n",
      "19/19 [==============================] - 0s 4ms/step\n",
      "19/19 [==============================] - 0s 4ms/step\n",
      "19/19 [==============================] - 0s 4ms/step\n",
      "19/19 [==============================] - 0s 4ms/step\n",
      "19/19 [==============================] - 0s 4ms/step\n",
      "19/19 [==============================] - 0s 4ms/step\n",
      "19/19 [==============================] - 0s 4ms/step\n",
      "19/19 [==============================] - 0s 4ms/step\n",
      "19/19 [==============================] - 0s 4ms/step\n",
      "19/19 [==============================] - 0s 4ms/step\n",
      "19/19 [==============================] - 0s 4ms/step\n",
      "19/19 [==============================] - 0s 4ms/step\n",
      "19/19 [==============================] - 0s 4ms/step\n"
     ]
    },
    {
     "name": "stderr",
     "output_type": "stream",
     "text": [
      "Evaluating models: 100%|██████████| 7/7 [00:59<00:00,  8.55s/it]\n",
      "2025-08-01 14:59:57,801 [INFO] ✅ Evaluation complete\n",
      "2025-08-01 14:59:57,847 [INFO] Training models (seed=0)\n"
     ]
    },
    {
     "name": "stdout",
     "output_type": "stream",
     "text": [
      "\n",
      "– Fold 2/5: testing on 7 subjects –\n",
      "Train set: 87 samples, Test set: 37 samples\n",
      "Train set: X: (1114, 700), y: (1114,)    ([ADLs, Falls]) [1027   87]\n",
      "Test set: X: 37, y: 37\n"
     ]
    },
    {
     "name": "stderr",
     "output_type": "stream",
     "text": [
      "Training (seed=0): 100%|██████████| 7/7 [01:43<00:00, 14.79s/it]\n",
      "Evaluating models:  86%|████████▌ | 6/7 [01:17<00:18, 18.52s/it]"
     ]
    },
    {
     "name": "stdout",
     "output_type": "stream",
     "text": [
      "19/19 [==============================] - 0s 4ms/step\n",
      "19/19 [==============================] - 0s 4ms/step\n",
      "19/19 [==============================] - 0s 4ms/step\n",
      "19/19 [==============================] - 0s 4ms/step\n",
      "19/19 [==============================] - 0s 4ms/step\n",
      "19/19 [==============================] - 0s 4ms/step\n",
      "19/19 [==============================] - 0s 4ms/step\n",
      "19/19 [==============================] - 0s 4ms/step\n",
      "19/19 [==============================] - 0s 4ms/step\n",
      "19/19 [==============================] - 0s 4ms/step\n",
      "19/19 [==============================] - 0s 4ms/step\n",
      "19/19 [==============================] - 0s 4ms/step\n",
      "19/19 [==============================] - 0s 4ms/step\n",
      "19/19 [==============================] - 0s 4ms/step\n",
      "19/19 [==============================] - 0s 4ms/step\n",
      "19/19 [==============================] - 0s 4ms/step\n",
      "19/19 [==============================] - 0s 4ms/step\n",
      "19/19 [==============================] - 0s 4ms/step\n",
      "19/19 [==============================] - 0s 4ms/step\n",
      "19/19 [==============================] - 0s 4ms/step\n",
      "19/19 [==============================] - 0s 4ms/step\n",
      "19/19 [==============================] - 0s 4ms/step\n",
      "19/19 [==============================] - 0s 4ms/step\n",
      "19/19 [==============================] - 0s 4ms/step\n",
      "19/19 [==============================] - 0s 4ms/step\n",
      "19/19 [==============================] - 0s 4ms/step\n",
      "19/19 [==============================] - 0s 4ms/step\n",
      "19/19 [==============================] - 0s 4ms/step\n",
      "19/19 [==============================] - 0s 4ms/step\n",
      "19/19 [==============================] - 0s 4ms/step\n",
      "19/19 [==============================] - 0s 4ms/step\n",
      "19/19 [==============================] - 0s 4ms/step\n",
      "19/19 [==============================] - 0s 4ms/step\n",
      "19/19 [==============================] - 0s 4ms/step\n"
     ]
    },
    {
     "name": "stderr",
     "output_type": "stream",
     "text": [
      "Evaluating models: 100%|██████████| 7/7 [01:24<00:00, 12.11s/it]\n",
      "2025-08-01 15:03:06,279 [INFO] ✅ Evaluation complete\n",
      "2025-08-01 15:03:06,304 [INFO] Training models (seed=0)\n"
     ]
    },
    {
     "name": "stdout",
     "output_type": "stream",
     "text": [
      "\n",
      "– Fold 3/5: testing on 6 subjects –\n",
      "Train set: 113 samples, Test set: 11 samples\n",
      "Train set: X: (940, 700), y: (940,)    ([ADLs, Falls]) [827 113]\n",
      "Test set: X: 11, y: 11\n"
     ]
    },
    {
     "name": "stderr",
     "output_type": "stream",
     "text": [
      "Training (seed=0): 100%|██████████| 7/7 [01:09<00:00,  9.98s/it]\n",
      "Evaluating models:  86%|████████▌ | 6/7 [00:20<00:04,  4.01s/it]"
     ]
    },
    {
     "name": "stdout",
     "output_type": "stream",
     "text": [
      "19/19 [==============================] - 0s 4ms/step\n",
      "19/19 [==============================] - 0s 4ms/step\n",
      "19/19 [==============================] - 0s 4ms/step\n",
      "19/19 [==============================] - 0s 4ms/step\n",
      "19/19 [==============================] - 0s 4ms/step\n",
      "19/19 [==============================] - 0s 4ms/step\n",
      "19/19 [==============================] - 0s 4ms/step\n",
      "19/19 [==============================] - 0s 4ms/step\n",
      "19/19 [==============================] - 0s 4ms/step\n"
     ]
    },
    {
     "name": "stderr",
     "output_type": "stream",
     "text": [
      "Evaluating models: 100%|██████████| 7/7 [00:22<00:00,  3.21s/it]\n",
      "2025-08-01 15:04:38,692 [INFO] ✅ Evaluation complete\n"
     ]
    },
    {
     "name": "stdout",
     "output_type": "stream",
     "text": [
      "\n",
      "– Fold 4/5: testing on 6 subjects –\n",
      "Train set: 108 samples, Test set: 16 samples\n"
     ]
    },
    {
     "name": "stderr",
     "output_type": "stream",
     "text": [
      "2025-08-01 15:04:38,730 [INFO] Training models (seed=0)\n"
     ]
    },
    {
     "name": "stdout",
     "output_type": "stream",
     "text": [
      "Train set: X: (1154, 700), y: (1154,)    ([ADLs, Falls]) [1046  108]\n",
      "Test set: X: 16, y: 16\n"
     ]
    },
    {
     "name": "stderr",
     "output_type": "stream",
     "text": [
      "Training (seed=0): 100%|██████████| 7/7 [00:55<00:00,  7.93s/it]\n",
      "Evaluating models:  86%|████████▌ | 6/7 [00:33<00:07,  7.40s/it]"
     ]
    },
    {
     "name": "stdout",
     "output_type": "stream",
     "text": [
      "19/19 [==============================] - 0s 4ms/step\n",
      "19/19 [==============================] - 0s 4ms/step\n",
      "19/19 [==============================] - 0s 4ms/step\n",
      "19/19 [==============================] - 0s 4ms/step\n",
      "19/19 [==============================] - 0s 4ms/step\n",
      "19/19 [==============================] - 0s 4ms/step\n",
      "19/19 [==============================] - 0s 4ms/step\n",
      "19/19 [==============================] - 0s 4ms/step\n",
      "19/19 [==============================] - 0s 4ms/step\n",
      "19/19 [==============================] - 0s 4ms/step\n",
      "19/19 [==============================] - 0s 4ms/step\n",
      "19/19 [==============================] - 0s 4ms/step\n",
      "19/19 [==============================] - 0s 4ms/step\n",
      "19/19 [==============================] - 0s 4ms/step\n",
      "19/19 [==============================] - 0s 4ms/step\n"
     ]
    },
    {
     "name": "stderr",
     "output_type": "stream",
     "text": [
      "Evaluating models: 100%|██████████| 7/7 [00:36<00:00,  5.24s/it]\n",
      "2025-08-01 15:06:11,020 [INFO] ✅ Evaluation complete\n"
     ]
    },
    {
     "name": "stdout",
     "output_type": "stream",
     "text": [
      "\n",
      "– Fold 5/5: testing on 6 subjects –\n",
      "Train set: 86 samples, Test set: 38 samples\n"
     ]
    },
    {
     "name": "stderr",
     "output_type": "stream",
     "text": [
      "2025-08-01 15:06:11,041 [INFO] Training models (seed=0)\n"
     ]
    },
    {
     "name": "stdout",
     "output_type": "stream",
     "text": [
      "Train set: X: (700, 700), y: (700,)    ([ADLs, Falls]) [614  86]\n",
      "Test set: X: 38, y: 38\n"
     ]
    },
    {
     "name": "stderr",
     "output_type": "stream",
     "text": [
      "Training (seed=0): 100%|██████████| 7/7 [00:50<00:00,  7.23s/it]\n",
      "Evaluating models:  86%|████████▌ | 6/7 [01:23<00:20, 20.11s/it]"
     ]
    },
    {
     "name": "stdout",
     "output_type": "stream",
     "text": [
      "19/19 [==============================] - 0s 4ms/step\n",
      "19/19 [==============================] - 0s 4ms/step\n",
      "19/19 [==============================] - 0s 4ms/step\n",
      "19/19 [==============================] - 0s 4ms/step\n",
      "19/19 [==============================] - 0s 4ms/step\n",
      "19/19 [==============================] - 2s 104ms/step\n",
      "19/19 [==============================] - 0s 4ms/step\n",
      "19/19 [==============================] - 0s 4ms/step\n",
      "19/19 [==============================] - 0s 4ms/step\n",
      "19/19 [==============================] - 0s 4ms/step\n",
      "19/19 [==============================] - 0s 4ms/step\n",
      "19/19 [==============================] - 0s 4ms/step\n",
      "19/19 [==============================] - 0s 4ms/step\n",
      "19/19 [==============================] - 0s 4ms/step\n",
      "19/19 [==============================] - 0s 4ms/step\n",
      "19/19 [==============================] - 0s 4ms/step\n",
      "19/19 [==============================] - 0s 4ms/step\n",
      "19/19 [==============================] - 0s 4ms/step\n",
      "19/19 [==============================] - 0s 4ms/step\n",
      "19/19 [==============================] - 0s 4ms/step\n",
      "19/19 [==============================] - 0s 4ms/step\n",
      "19/19 [==============================] - 0s 4ms/step\n",
      "19/19 [==============================] - 0s 4ms/step\n",
      "19/19 [==============================] - 0s 4ms/step\n",
      "19/19 [==============================] - 0s 4ms/step\n",
      "19/19 [==============================] - 0s 4ms/step\n",
      "19/19 [==============================] - 0s 4ms/step\n",
      "19/19 [==============================] - 0s 4ms/step\n",
      "19/19 [==============================] - 0s 4ms/step\n",
      "19/19 [==============================] - 0s 4ms/step\n",
      "19/19 [==============================] - 0s 4ms/step\n",
      "19/19 [==============================] - 0s 4ms/step\n",
      "19/19 [==============================] - 0s 4ms/step\n",
      "19/19 [==============================] - 0s 4ms/step\n",
      "16/16 [==============================] - 2s 137ms/step\n",
      "19/19 [==============================] - 0s 4ms/step\n",
      "19/19 [==============================] - 0s 4ms/step\n"
     ]
    },
    {
     "name": "stderr",
     "output_type": "stream",
     "text": [
      "Evaluating models: 100%|██████████| 7/7 [01:36<00:00, 13.72s/it]\n",
      "2025-08-01 15:08:37,772 [INFO] ✅ Evaluation complete\n"
     ]
    },
    {
     "name": "stdout",
     "output_type": "stream",
     "text": [
      "Running CV for window size 10 seconds\n",
      "\n",
      "– Fold 1/5: testing on 7 subjects –\n",
      "Train set: 102 samples, Test set: 22 samples\n"
     ]
    },
    {
     "name": "stderr",
     "output_type": "stream",
     "text": [
      "2025-08-01 15:08:37,847 [INFO] Training models (seed=0)\n"
     ]
    },
    {
     "name": "stdout",
     "output_type": "stream",
     "text": [
      "Train set: X: (1027, 1000), y: (1027,)    ([ADLs, Falls]) [925 102]\n",
      "Test set: X: 22, y: 22\n"
     ]
    },
    {
     "name": "stderr",
     "output_type": "stream",
     "text": [
      "Training (seed=0): 100%|██████████| 7/7 [01:43<00:00, 14.73s/it]\n",
      "Evaluating models:  86%|████████▌ | 6/7 [01:03<00:14, 14.97s/it]"
     ]
    },
    {
     "name": "stdout",
     "output_type": "stream",
     "text": [
      "19/19 [==============================] - 5s 129ms/step\n",
      "19/19 [==============================] - 0s 7ms/step\n",
      "19/19 [==============================] - 0s 7ms/step\n",
      "19/19 [==============================] - 0s 7ms/step\n",
      "19/19 [==============================] - 0s 7ms/step\n",
      "19/19 [==============================] - 0s 7ms/step\n",
      "19/19 [==============================] - 0s 7ms/step\n",
      "19/19 [==============================] - 0s 7ms/step\n",
      "19/19 [==============================] - 0s 7ms/step\n",
      "19/19 [==============================] - 0s 7ms/step\n",
      "19/19 [==============================] - 0s 7ms/step\n",
      "19/19 [==============================] - 0s 7ms/step\n",
      "19/19 [==============================] - 0s 7ms/step\n",
      "19/19 [==============================] - 0s 7ms/step\n",
      "19/19 [==============================] - 0s 7ms/step\n",
      "19/19 [==============================] - 0s 7ms/step\n",
      "19/19 [==============================] - 0s 7ms/step\n",
      "19/19 [==============================] - 0s 7ms/step\n",
      "19/19 [==============================] - 0s 7ms/step\n",
      "19/19 [==============================] - 0s 7ms/step\n",
      "19/19 [==============================] - 0s 7ms/step\n",
      "19/19 [==============================] - 0s 7ms/step\n"
     ]
    },
    {
     "name": "stderr",
     "output_type": "stream",
     "text": [
      "Evaluating models: 100%|██████████| 7/7 [01:14<00:00, 10.65s/it]\n",
      "2025-08-01 15:11:35,601 [INFO] ✅ Evaluation complete\n"
     ]
    },
    {
     "name": "stdout",
     "output_type": "stream",
     "text": [
      "\n",
      "– Fold 2/5: testing on 7 subjects –\n",
      "Train set: 87 samples, Test set: 37 samples\n"
     ]
    },
    {
     "name": "stderr",
     "output_type": "stream",
     "text": [
      "2025-08-01 15:11:35,647 [INFO] Training models (seed=0)\n"
     ]
    },
    {
     "name": "stdout",
     "output_type": "stream",
     "text": [
      "Train set: X: (1090, 1000), y: (1090,)    ([ADLs, Falls]) [1003   87]\n",
      "Test set: X: 37, y: 37\n"
     ]
    },
    {
     "name": "stderr",
     "output_type": "stream",
     "text": [
      "Training (seed=0): 100%|██████████| 7/7 [00:59<00:00,  8.45s/it]\n",
      "Evaluating models:  86%|████████▌ | 6/7 [01:34<00:22, 22.66s/it]"
     ]
    },
    {
     "name": "stdout",
     "output_type": "stream",
     "text": [
      "19/19 [==============================] - 0s 7ms/step\n",
      "19/19 [==============================] - 0s 7ms/step\n",
      "19/19 [==============================] - 0s 7ms/step\n",
      "19/19 [==============================] - 0s 7ms/step\n",
      "19/19 [==============================] - 0s 7ms/step\n",
      "19/19 [==============================] - 0s 7ms/step\n",
      "19/19 [==============================] - 0s 7ms/step\n",
      "19/19 [==============================] - 0s 7ms/step\n",
      "19/19 [==============================] - 0s 7ms/step\n",
      "19/19 [==============================] - 0s 7ms/step\n",
      "19/19 [==============================] - 0s 7ms/step\n",
      "19/19 [==============================] - 0s 7ms/step\n",
      "19/19 [==============================] - 0s 7ms/step\n",
      "19/19 [==============================] - 0s 7ms/step\n",
      "19/19 [==============================] - 0s 7ms/step\n",
      "19/19 [==============================] - 0s 7ms/step\n",
      "19/19 [==============================] - 0s 7ms/step\n",
      "19/19 [==============================] - 0s 7ms/step\n",
      "19/19 [==============================] - 0s 7ms/step\n",
      "19/19 [==============================] - 0s 7ms/step\n",
      "19/19 [==============================] - 0s 7ms/step\n",
      "19/19 [==============================] - 0s 7ms/step\n",
      "19/19 [==============================] - 0s 7ms/step\n",
      "19/19 [==============================] - 0s 3ms/step\n",
      "19/19 [==============================] - 0s 3ms/step\n",
      "19/19 [==============================] - 0s 3ms/step\n",
      "19/19 [==============================] - 0s 3ms/step\n",
      "19/19 [==============================] - 0s 3ms/step\n",
      "19/19 [==============================] - 0s 6ms/step\n",
      "19/19 [==============================] - 0s 6ms/step\n",
      "19/19 [==============================] - 0s 6ms/step\n",
      "19/19 [==============================] - 0s 6ms/step\n",
      "19/19 [==============================] - 0s 6ms/step\n",
      "19/19 [==============================] - 0s 7ms/step\n"
     ]
    },
    {
     "name": "stderr",
     "output_type": "stream",
     "text": [
      "Evaluating models: 100%|██████████| 7/7 [01:43<00:00, 14.79s/it]\n",
      "2025-08-01 15:14:18,511 [INFO] ✅ Evaluation complete\n"
     ]
    },
    {
     "name": "stdout",
     "output_type": "stream",
     "text": [
      "\n",
      "– Fold 3/5: testing on 6 subjects –\n",
      "Train set: 113 samples, Test set: 11 samples\n"
     ]
    },
    {
     "name": "stderr",
     "output_type": "stream",
     "text": [
      "2025-08-01 15:14:18,533 [INFO] Training models (seed=0)\n"
     ]
    },
    {
     "name": "stdout",
     "output_type": "stream",
     "text": [
      "Train set: X: (918, 1000), y: (918,)    ([ADLs, Falls]) [805 113]\n",
      "Test set: X: 11, y: 11\n"
     ]
    },
    {
     "name": "stderr",
     "output_type": "stream",
     "text": [
      "Training (seed=0): 100%|██████████| 7/7 [01:35<00:00, 13.71s/it]\n",
      "Evaluating models:  86%|████████▌ | 6/7 [00:24<00:04,  4.88s/it]"
     ]
    },
    {
     "name": "stdout",
     "output_type": "stream",
     "text": [
      "19/19 [==============================] - 0s 7ms/step\n",
      "19/19 [==============================] - 0s 7ms/step\n",
      "19/19 [==============================] - 0s 7ms/step\n",
      "19/19 [==============================] - 0s 7ms/step\n",
      "19/19 [==============================] - 0s 7ms/step\n",
      "19/19 [==============================] - 0s 7ms/step\n",
      "19/19 [==============================] - 0s 7ms/step\n",
      "19/19 [==============================] - 0s 7ms/step\n",
      "19/19 [==============================] - 0s 7ms/step\n"
     ]
    },
    {
     "name": "stderr",
     "output_type": "stream",
     "text": [
      "Evaluating models: 100%|██████████| 7/7 [00:27<00:00,  3.93s/it]\n",
      "2025-08-01 15:16:22,082 [INFO] ✅ Evaluation complete\n"
     ]
    },
    {
     "name": "stdout",
     "output_type": "stream",
     "text": [
      "\n",
      "– Fold 4/5: testing on 6 subjects –\n",
      "Train set: 108 samples, Test set: 16 samples\n"
     ]
    },
    {
     "name": "stderr",
     "output_type": "stream",
     "text": [
      "2025-08-01 15:16:22,129 [INFO] Training models (seed=0)\n"
     ]
    },
    {
     "name": "stdout",
     "output_type": "stream",
     "text": [
      "Train set: X: (1129, 1000), y: (1129,)    ([ADLs, Falls]) [1021  108]\n",
      "Test set: X: 16, y: 16\n"
     ]
    },
    {
     "name": "stderr",
     "output_type": "stream",
     "text": [
      "Training (seed=0): 100%|██████████| 7/7 [02:00<00:00, 17.19s/it]\n",
      "Evaluating models:  86%|████████▌ | 6/7 [00:40<00:08,  8.94s/it]"
     ]
    },
    {
     "name": "stdout",
     "output_type": "stream",
     "text": [
      "19/19 [==============================] - 0s 7ms/step\n",
      "19/19 [==============================] - 0s 7ms/step\n",
      "19/19 [==============================] - 0s 7ms/step\n",
      "19/19 [==============================] - 0s 7ms/step\n",
      "19/19 [==============================] - 0s 7ms/step\n",
      "19/19 [==============================] - 0s 7ms/step\n",
      "19/19 [==============================] - 0s 7ms/step\n",
      "19/19 [==============================] - 0s 7ms/step\n",
      "19/19 [==============================] - 0s 7ms/step\n",
      "19/19 [==============================] - 0s 7ms/step\n",
      "19/19 [==============================] - 0s 7ms/step\n",
      "19/19 [==============================] - 0s 7ms/step\n",
      "19/19 [==============================] - 0s 7ms/step\n",
      "19/19 [==============================] - 0s 7ms/step\n",
      "19/19 [==============================] - 0s 7ms/step\n"
     ]
    },
    {
     "name": "stderr",
     "output_type": "stream",
     "text": [
      "Evaluating models: 100%|██████████| 7/7 [00:44<00:00,  6.38s/it]\n",
      "2025-08-01 15:19:07,227 [INFO] ✅ Evaluation complete\n",
      "2025-08-01 15:19:07,249 [INFO] Training models (seed=0)\n"
     ]
    },
    {
     "name": "stdout",
     "output_type": "stream",
     "text": [
      "\n",
      "– Fold 5/5: testing on 6 subjects –\n",
      "Train set: 86 samples, Test set: 38 samples\n",
      "Train set: X: (688, 1000), y: (688,)    ([ADLs, Falls]) [602  86]\n",
      "Test set: X: 38, y: 38\n"
     ]
    },
    {
     "name": "stderr",
     "output_type": "stream",
     "text": [
      "Training (seed=0): 100%|██████████| 7/7 [01:16<00:00, 10.92s/it]\n",
      "Evaluating models:  86%|████████▌ | 6/7 [01:42<00:24, 24.60s/it]"
     ]
    },
    {
     "name": "stdout",
     "output_type": "stream",
     "text": [
      "19/19 [==============================] - 0s 7ms/step\n",
      "19/19 [==============================] - 0s 7ms/step\n",
      "19/19 [==============================] - 0s 7ms/step\n",
      "19/19 [==============================] - 0s 7ms/step\n",
      "19/19 [==============================] - 0s 7ms/step\n",
      "19/19 [==============================] - 2s 110ms/step\n",
      "19/19 [==============================] - 0s 7ms/step\n",
      "19/19 [==============================] - 0s 7ms/step\n",
      "19/19 [==============================] - 0s 7ms/step\n",
      "19/19 [==============================] - 0s 7ms/step\n",
      "19/19 [==============================] - 0s 7ms/step\n",
      "19/19 [==============================] - 0s 7ms/step\n",
      "19/19 [==============================] - 0s 7ms/step\n",
      "19/19 [==============================] - 0s 7ms/step\n",
      "19/19 [==============================] - 0s 7ms/step\n",
      "19/19 [==============================] - 0s 7ms/step\n",
      "19/19 [==============================] - 0s 7ms/step\n",
      "19/19 [==============================] - 0s 7ms/step\n",
      "19/19 [==============================] - 0s 7ms/step\n",
      "19/19 [==============================] - 0s 7ms/step\n",
      "19/19 [==============================] - 0s 7ms/step\n",
      "19/19 [==============================] - 0s 7ms/step\n",
      "19/19 [==============================] - 0s 7ms/step\n",
      "19/19 [==============================] - 0s 7ms/step\n",
      "19/19 [==============================] - 0s 7ms/step\n",
      "19/19 [==============================] - 0s 7ms/step\n",
      "19/19 [==============================] - 0s 3ms/step\n",
      "19/19 [==============================] - 0s 3ms/step\n",
      "19/19 [==============================] - 0s 3ms/step\n",
      "19/19 [==============================] - 0s 3ms/step\n",
      "19/19 [==============================] - 0s 3ms/step\n",
      "19/19 [==============================] - 0s 6ms/step\n",
      "19/19 [==============================] - 0s 7ms/step\n",
      "19/19 [==============================] - 0s 5ms/step\n",
      "16/16 [==============================] - 1s 44ms/step\n",
      "19/19 [==============================] - 0s 6ms/step\n",
      "19/19 [==============================] - 0s 7ms/step\n"
     ]
    },
    {
     "name": "stderr",
     "output_type": "stream",
     "text": [
      "Evaluating models: 100%|██████████| 7/7 [01:55<00:00, 16.43s/it]\n",
      "2025-08-01 15:22:18,893 [INFO] ✅ Evaluation complete\n",
      "2025-08-01 15:22:18,967 [INFO] Training models (seed=0)\n"
     ]
    },
    {
     "name": "stdout",
     "output_type": "stream",
     "text": [
      "Running CV for window size 15 seconds\n",
      "\n",
      "– Fold 1/5: testing on 7 subjects –\n",
      "Train set: 102 samples, Test set: 22 samples\n",
      "Train set: X: (998, 1500), y: (998,)    ([ADLs, Falls]) [896 102]\n",
      "Test set: X: 22, y: 22\n"
     ]
    },
    {
     "name": "stderr",
     "output_type": "stream",
     "text": [
      "Training (seed=0): 100%|██████████| 7/7 [02:16<00:00, 19.50s/it]\n",
      "Evaluating models:  86%|████████▌ | 6/7 [01:35<00:22, 22.50s/it]"
     ]
    },
    {
     "name": "stdout",
     "output_type": "stream",
     "text": [
      "19/19 [==============================] - 5s 96ms/step\n",
      "19/19 [==============================] - 0s 11ms/step\n",
      "19/19 [==============================] - 0s 11ms/step\n",
      "19/19 [==============================] - 0s 11ms/step\n",
      "19/19 [==============================] - 0s 11ms/step\n",
      "19/19 [==============================] - 0s 11ms/step\n",
      "19/19 [==============================] - 0s 11ms/step\n",
      "19/19 [==============================] - 0s 11ms/step\n",
      "19/19 [==============================] - 0s 11ms/step\n",
      "19/19 [==============================] - 0s 11ms/step\n",
      "19/19 [==============================] - 0s 11ms/step\n",
      "19/19 [==============================] - 0s 11ms/step\n",
      "19/19 [==============================] - 0s 11ms/step\n",
      "19/19 [==============================] - 0s 11ms/step\n",
      "19/19 [==============================] - 0s 11ms/step\n",
      "19/19 [==============================] - 0s 11ms/step\n",
      "19/19 [==============================] - 0s 11ms/step\n",
      "19/19 [==============================] - 0s 11ms/step\n",
      "19/19 [==============================] - 0s 11ms/step\n",
      "19/19 [==============================] - 0s 11ms/step\n",
      "19/19 [==============================] - 0s 11ms/step\n",
      "19/19 [==============================] - 0s 11ms/step\n"
     ]
    },
    {
     "name": "stderr",
     "output_type": "stream",
     "text": [
      "Evaluating models: 100%|██████████| 7/7 [01:49<00:00, 15.58s/it]\n",
      "2025-08-01 15:26:24,651 [INFO] ✅ Evaluation complete\n"
     ]
    },
    {
     "name": "stdout",
     "output_type": "stream",
     "text": [
      "\n",
      "– Fold 2/5: testing on 7 subjects –\n",
      "Train set: 87 samples, Test set: 37 samples\n"
     ]
    },
    {
     "name": "stderr",
     "output_type": "stream",
     "text": [
      "2025-08-01 15:26:24,699 [INFO] Training models (seed=0)\n"
     ]
    },
    {
     "name": "stdout",
     "output_type": "stream",
     "text": [
      "Train set: X: (1057, 1500), y: (1057,)    ([ADLs, Falls]) [970  87]\n",
      "Test set: X: 37, y: 37\n"
     ]
    },
    {
     "name": "stderr",
     "output_type": "stream",
     "text": [
      "Training (seed=0): 100%|██████████| 7/7 [02:39<00:00, 22.73s/it]\n",
      "Evaluating models:  86%|████████▌ | 6/7 [02:20<00:33, 33.69s/it]"
     ]
    },
    {
     "name": "stdout",
     "output_type": "stream",
     "text": [
      "19/19 [==============================] - 0s 11ms/step\n",
      "19/19 [==============================] - 0s 11ms/step\n",
      "19/19 [==============================] - 0s 11ms/step\n",
      "19/19 [==============================] - 0s 11ms/step\n",
      "19/19 [==============================] - 0s 11ms/step\n",
      "19/19 [==============================] - 0s 11ms/step\n",
      "19/19 [==============================] - 0s 11ms/step\n",
      "19/19 [==============================] - 0s 11ms/step\n",
      "19/19 [==============================] - 0s 11ms/step\n",
      "19/19 [==============================] - 0s 11ms/step\n",
      "19/19 [==============================] - 0s 11ms/step\n",
      "19/19 [==============================] - 0s 11ms/step\n",
      "19/19 [==============================] - 0s 11ms/step\n",
      "19/19 [==============================] - 0s 11ms/step\n",
      "19/19 [==============================] - 0s 11ms/step\n",
      "19/19 [==============================] - 0s 11ms/step\n",
      "19/19 [==============================] - 0s 11ms/step\n",
      "19/19 [==============================] - 0s 11ms/step\n",
      "19/19 [==============================] - 0s 11ms/step\n",
      "19/19 [==============================] - 0s 11ms/step\n",
      "19/19 [==============================] - 0s 11ms/step\n",
      "19/19 [==============================] - 0s 11ms/step\n",
      "19/19 [==============================] - 0s 11ms/step\n",
      "19/19 [==============================] - 0s 11ms/step\n",
      "19/19 [==============================] - 0s 11ms/step\n",
      "19/19 [==============================] - 0s 11ms/step\n",
      "19/19 [==============================] - 0s 11ms/step\n",
      "19/19 [==============================] - 0s 11ms/step\n",
      "19/19 [==============================] - 0s 11ms/step\n",
      "19/19 [==============================] - 0s 11ms/step\n",
      "19/19 [==============================] - 0s 11ms/step\n",
      "19/19 [==============================] - 0s 11ms/step\n",
      "19/19 [==============================] - 0s 11ms/step\n",
      "19/19 [==============================] - 0s 11ms/step\n"
     ]
    },
    {
     "name": "stderr",
     "output_type": "stream",
     "text": [
      "Evaluating models: 100%|██████████| 7/7 [02:32<00:00, 21.84s/it]\n",
      "2025-08-01 15:31:36,851 [INFO] ✅ Evaluation complete\n"
     ]
    },
    {
     "name": "stdout",
     "output_type": "stream",
     "text": [
      "\n",
      "– Fold 3/5: testing on 6 subjects –\n"
     ]
    },
    {
     "name": "stderr",
     "output_type": "stream",
     "text": [
      "2025-08-01 15:31:36,873 [INFO] Training models (seed=0)\n"
     ]
    },
    {
     "name": "stdout",
     "output_type": "stream",
     "text": [
      "Train set: 113 samples, Test set: 11 samples\n",
      "Train set: X: (889, 1500), y: (889,)    ([ADLs, Falls]) [776 113]\n",
      "Test set: X: 11, y: 11\n"
     ]
    },
    {
     "name": "stderr",
     "output_type": "stream",
     "text": [
      "Training (seed=0): 100%|██████████| 7/7 [02:50<00:00, 24.34s/it]\n",
      "Evaluating models:  86%|████████▌ | 6/7 [00:37<00:08,  8.57s/it]"
     ]
    },
    {
     "name": "stdout",
     "output_type": "stream",
     "text": [
      "19/19 [==============================] - 0s 11ms/step\n",
      "19/19 [==============================] - 0s 11ms/step\n",
      "19/19 [==============================] - 0s 11ms/step\n",
      "19/19 [==============================] - 0s 11ms/step\n",
      "19/19 [==============================] - 0s 11ms/step\n",
      "19/19 [==============================] - 0s 11ms/step\n",
      "19/19 [==============================] - 0s 11ms/step\n",
      "19/19 [==============================] - 0s 11ms/step\n",
      "19/19 [==============================] - 0s 11ms/step\n"
     ]
    },
    {
     "name": "stderr",
     "output_type": "stream",
     "text": [
      "Evaluating models: 100%|██████████| 7/7 [00:40<00:00,  5.79s/it]\n",
      "2025-08-01 15:35:07,841 [INFO] ✅ Evaluation complete\n",
      "2025-08-01 15:35:07,883 [INFO] Training models (seed=0)\n"
     ]
    },
    {
     "name": "stdout",
     "output_type": "stream",
     "text": [
      "\n",
      "– Fold 4/5: testing on 6 subjects –\n",
      "Train set: 108 samples, Test set: 16 samples\n",
      "Train set: X: (1096, 1500), y: (1096,)    ([ADLs, Falls]) [988 108]\n",
      "Test set: X: 16, y: 16\n"
     ]
    },
    {
     "name": "stderr",
     "output_type": "stream",
     "text": [
      "Training (seed=0): 100%|██████████| 7/7 [01:42<00:00, 14.61s/it]\n",
      "Evaluating models:  86%|████████▌ | 6/7 [01:00<00:14, 14.44s/it]"
     ]
    },
    {
     "name": "stdout",
     "output_type": "stream",
     "text": [
      "19/19 [==============================] - 0s 11ms/step\n",
      "19/19 [==============================] - 0s 11ms/step\n",
      "19/19 [==============================] - 0s 11ms/step\n",
      "19/19 [==============================] - 0s 11ms/step\n",
      "19/19 [==============================] - 0s 11ms/step\n",
      "19/19 [==============================] - 0s 11ms/step\n",
      "19/19 [==============================] - 0s 11ms/step\n",
      "19/19 [==============================] - 0s 11ms/step\n",
      "19/19 [==============================] - 0s 11ms/step\n",
      "19/19 [==============================] - 0s 11ms/step\n",
      "19/19 [==============================] - 0s 11ms/step\n",
      "19/19 [==============================] - 0s 11ms/step\n",
      "19/19 [==============================] - 0s 11ms/step\n",
      "19/19 [==============================] - 0s 11ms/step\n",
      "19/19 [==============================] - 0s 11ms/step\n"
     ]
    },
    {
     "name": "stderr",
     "output_type": "stream",
     "text": [
      "Evaluating models: 100%|██████████| 7/7 [01:06<00:00,  9.43s/it]\n",
      "2025-08-01 15:37:56,248 [INFO] ✅ Evaluation complete\n"
     ]
    },
    {
     "name": "stdout",
     "output_type": "stream",
     "text": [
      "\n",
      "– Fold 5/5: testing on 6 subjects –\n",
      "Train set: 86 samples, Test set: 38 samples\n"
     ]
    },
    {
     "name": "stderr",
     "output_type": "stream",
     "text": [
      "2025-08-01 15:37:56,288 [INFO] Training models (seed=0)\n"
     ]
    },
    {
     "name": "stdout",
     "output_type": "stream",
     "text": [
      "Train set: X: (676, 1500), y: (676,)    ([ADLs, Falls]) [590  86]\n",
      "Test set: X: 38, y: 38\n"
     ]
    },
    {
     "name": "stderr",
     "output_type": "stream",
     "text": [
      "Training (seed=0): 100%|██████████| 7/7 [01:32<00:00, 13.24s/it]\n",
      "Evaluating models:  86%|████████▌ | 6/7 [02:34<00:36, 36.85s/it]"
     ]
    },
    {
     "name": "stdout",
     "output_type": "stream",
     "text": [
      "19/19 [==============================] - 0s 11ms/step\n",
      "19/19 [==============================] - 0s 11ms/step\n",
      "19/19 [==============================] - 0s 11ms/step\n",
      "19/19 [==============================] - 0s 11ms/step\n",
      "19/19 [==============================] - 0s 11ms/step\n",
      "18/18 [==============================] - 3s 168ms/step\n",
      "19/19 [==============================] - 0s 11ms/step\n",
      "19/19 [==============================] - 0s 11ms/step\n",
      "19/19 [==============================] - 0s 11ms/step\n",
      "19/19 [==============================] - 0s 11ms/step\n",
      "19/19 [==============================] - 0s 11ms/step\n",
      "19/19 [==============================] - 0s 11ms/step\n",
      "19/19 [==============================] - 0s 11ms/step\n",
      "19/19 [==============================] - 0s 11ms/step\n",
      "19/19 [==============================] - 0s 11ms/step\n",
      "19/19 [==============================] - 0s 11ms/step\n",
      "19/19 [==============================] - 0s 11ms/step\n",
      "19/19 [==============================] - 0s 11ms/step\n",
      "19/19 [==============================] - 0s 11ms/step\n",
      "19/19 [==============================] - 0s 11ms/step\n",
      "19/19 [==============================] - 0s 11ms/step\n",
      "19/19 [==============================] - 0s 11ms/step\n",
      "19/19 [==============================] - 0s 11ms/step\n",
      "19/19 [==============================] - 0s 11ms/step\n",
      "19/19 [==============================] - 0s 11ms/step\n",
      "19/19 [==============================] - 0s 11ms/step\n",
      "19/19 [==============================] - 0s 11ms/step\n",
      "19/19 [==============================] - 0s 11ms/step\n",
      "19/19 [==============================] - 0s 11ms/step\n",
      "19/19 [==============================] - 0s 11ms/step\n",
      "19/19 [==============================] - 0s 11ms/step\n",
      "19/19 [==============================] - 0s 11ms/step\n",
      "19/19 [==============================] - 0s 11ms/step\n",
      "19/19 [==============================] - 0s 11ms/step\n",
      "16/16 [==============================] - 2s 161ms/step\n",
      "19/19 [==============================] - 0s 11ms/step\n",
      "19/19 [==============================] - 0s 11ms/step\n"
     ]
    },
    {
     "name": "stderr",
     "output_type": "stream",
     "text": [
      "Evaluating models: 100%|██████████| 7/7 [02:52<00:00, 24.66s/it]\n",
      "2025-08-01 15:42:21,772 [INFO] ✅ Evaluation complete\n",
      "2025-08-01 15:42:21,850 [INFO] Training models (seed=0)\n"
     ]
    },
    {
     "name": "stdout",
     "output_type": "stream",
     "text": [
      "Running CV for window size 30 seconds\n",
      "\n",
      "– Fold 1/5: testing on 7 subjects –\n",
      "Train set: 102 samples, Test set: 22 samples\n",
      "Train set: X: (957, 3000), y: (957,)    ([ADLs, Falls]) [855 102]\n",
      "Test set: X: 22, y: 22\n"
     ]
    },
    {
     "name": "stderr",
     "output_type": "stream",
     "text": [
      "Training (seed=0): 100%|██████████| 7/7 [03:46<00:00, 32.34s/it]\n",
      "Evaluating models:  86%|████████▌ | 6/7 [03:05<00:42, 42.89s/it]"
     ]
    },
    {
     "name": "stdout",
     "output_type": "stream",
     "text": [
      "19/19 [==============================] - 7s 163ms/step\n",
      "19/19 [==============================] - 1s 28ms/step\n",
      "19/19 [==============================] - 1s 28ms/step\n",
      "19/19 [==============================] - 1s 28ms/step\n",
      "19/19 [==============================] - 1s 28ms/step\n",
      "19/19 [==============================] - 1s 28ms/step\n",
      "19/19 [==============================] - 1s 28ms/step\n",
      "19/19 [==============================] - 1s 28ms/step\n",
      "19/19 [==============================] - 1s 28ms/step\n",
      "19/19 [==============================] - 1s 28ms/step\n",
      "19/19 [==============================] - 1s 27ms/step\n",
      "19/19 [==============================] - 1s 28ms/step\n",
      "19/19 [==============================] - 1s 28ms/step\n",
      "19/19 [==============================] - 1s 28ms/step\n",
      "19/19 [==============================] - 1s 28ms/step\n",
      "19/19 [==============================] - 1s 28ms/step\n",
      "19/19 [==============================] - 1s 28ms/step\n",
      "19/19 [==============================] - 1s 28ms/step\n",
      "19/19 [==============================] - 1s 27ms/step\n",
      "19/19 [==============================] - 1s 28ms/step\n",
      "19/19 [==============================] - 1s 28ms/step\n",
      "19/19 [==============================] - 1s 28ms/step\n"
     ]
    },
    {
     "name": "stderr",
     "output_type": "stream",
     "text": [
      "Evaluating models: 100%|██████████| 7/7 [03:28<00:00, 29.78s/it]\n",
      "2025-08-01 15:49:36,862 [INFO] ✅ Evaluation complete\n",
      "2025-08-01 15:49:36,912 [INFO] Training models (seed=0)\n"
     ]
    },
    {
     "name": "stdout",
     "output_type": "stream",
     "text": [
      "\n",
      "– Fold 2/5: testing on 7 subjects –\n",
      "Train set: 87 samples, Test set: 37 samples\n",
      "Train set: X: (1018, 3000), y: (1018,)    ([ADLs, Falls]) [931  87]\n",
      "Test set: X: 37, y: 37\n"
     ]
    },
    {
     "name": "stderr",
     "output_type": "stream",
     "text": [
      "Training (seed=0): 100%|██████████| 7/7 [03:18<00:00, 28.38s/it]\n",
      "Evaluating models:  86%|████████▌ | 6/7 [04:32<01:03, 63.48s/it]"
     ]
    },
    {
     "name": "stdout",
     "output_type": "stream",
     "text": [
      "19/19 [==============================] - 1s 27ms/step\n",
      "19/19 [==============================] - 1s 27ms/step\n",
      "19/19 [==============================] - 1s 28ms/step\n",
      "19/19 [==============================] - 1s 28ms/step\n",
      "19/19 [==============================] - 1s 27ms/step\n",
      "19/19 [==============================] - 1s 28ms/step\n",
      "19/19 [==============================] - 1s 28ms/step\n",
      "19/19 [==============================] - 1s 28ms/step\n",
      "19/19 [==============================] - 1s 28ms/step\n",
      "19/19 [==============================] - 1s 28ms/step\n",
      "19/19 [==============================] - 1s 28ms/step\n",
      "19/19 [==============================] - 1s 28ms/step\n",
      "19/19 [==============================] - 1s 28ms/step\n",
      "19/19 [==============================] - 1s 28ms/step\n",
      "19/19 [==============================] - 1s 28ms/step\n",
      "19/19 [==============================] - 1s 28ms/step\n",
      "19/19 [==============================] - 0s 15ms/step\n",
      "19/19 [==============================] - 0s 13ms/step\n",
      "19/19 [==============================] - 0s 13ms/step\n",
      "19/19 [==============================] - 1s 26ms/step\n",
      "19/19 [==============================] - 1s 26ms/step\n",
      "19/19 [==============================] - 0s 26ms/step\n",
      "19/19 [==============================] - 1s 26ms/step\n",
      "19/19 [==============================] - 1s 26ms/step\n",
      "19/19 [==============================] - 1s 26ms/step\n",
      "19/19 [==============================] - 1s 26ms/step\n",
      "19/19 [==============================] - 1s 26ms/step\n",
      "19/19 [==============================] - 1s 26ms/step\n",
      "19/19 [==============================] - 0s 25ms/step\n",
      "19/19 [==============================] - 0s 27ms/step\n",
      "19/19 [==============================] - 1s 26ms/step\n",
      "19/19 [==============================] - 1s 26ms/step\n",
      "19/19 [==============================] - 1s 26ms/step\n",
      "19/19 [==============================] - 1s 26ms/step\n"
     ]
    },
    {
     "name": "stderr",
     "output_type": "stream",
     "text": [
      "Evaluating models: 100%|██████████| 7/7 [04:53<00:00, 41.96s/it]\n",
      "2025-08-01 15:57:49,543 [INFO] ✅ Evaluation complete\n",
      "2025-08-01 15:57:49,565 [INFO] Training models (seed=0)\n"
     ]
    },
    {
     "name": "stdout",
     "output_type": "stream",
     "text": [
      "\n",
      "– Fold 3/5: testing on 6 subjects –\n",
      "Train set: 113 samples, Test set: 11 samples\n",
      "Train set: X: (847, 3000), y: (847,)    ([ADLs, Falls]) [734 113]\n",
      "Test set: X: 11, y: 11\n"
     ]
    },
    {
     "name": "stderr",
     "output_type": "stream",
     "text": [
      "Training (seed=0): 100%|██████████| 7/7 [02:48<00:00, 24.00s/it]\n",
      "Evaluating models:  86%|████████▌ | 6/7 [01:11<00:16, 16.25s/it]"
     ]
    },
    {
     "name": "stdout",
     "output_type": "stream",
     "text": [
      "19/19 [==============================] - 1s 27ms/step\n",
      "19/19 [==============================] - 1s 27ms/step\n",
      "19/19 [==============================] - 1s 27ms/step\n",
      "19/19 [==============================] - 1s 27ms/step\n",
      "19/19 [==============================] - 1s 28ms/step\n",
      "19/19 [==============================] - 1s 28ms/step\n",
      "19/19 [==============================] - 1s 28ms/step\n",
      "19/19 [==============================] - 1s 28ms/step\n",
      "19/19 [==============================] - 1s 28ms/step\n"
     ]
    },
    {
     "name": "stderr",
     "output_type": "stream",
     "text": [
      "Evaluating models: 100%|██████████| 7/7 [01:17<00:00, 11.12s/it]\n",
      "2025-08-01 16:01:55,524 [INFO] ✅ Evaluation complete\n",
      "2025-08-01 16:01:55,575 [INFO] Training models (seed=0)\n"
     ]
    },
    {
     "name": "stdout",
     "output_type": "stream",
     "text": [
      "\n",
      "– Fold 4/5: testing on 6 subjects –\n",
      "Train set: 108 samples, Test set: 16 samples\n",
      "Train set: X: (1057, 3000), y: (1057,)    ([ADLs, Falls]) [949 108]\n",
      "Test set: X: 16, y: 16\n"
     ]
    },
    {
     "name": "stderr",
     "output_type": "stream",
     "text": [
      "Training (seed=0): 100%|██████████| 7/7 [03:07<00:00, 26.73s/it]\n",
      "Evaluating models:  86%|████████▌ | 6/7 [01:57<00:27, 27.43s/it]"
     ]
    },
    {
     "name": "stdout",
     "output_type": "stream",
     "text": [
      "19/19 [==============================] - 1s 28ms/step\n",
      "19/19 [==============================] - 1s 28ms/step\n",
      "19/19 [==============================] - 1s 28ms/step\n",
      "19/19 [==============================] - 1s 28ms/step\n",
      "19/19 [==============================] - 1s 27ms/step\n",
      "19/19 [==============================] - 1s 28ms/step\n",
      "19/19 [==============================] - 1s 28ms/step\n",
      "19/19 [==============================] - 1s 28ms/step\n",
      "19/19 [==============================] - 1s 28ms/step\n",
      "19/19 [==============================] - 1s 27ms/step\n",
      "19/19 [==============================] - 1s 28ms/step\n",
      "19/19 [==============================] - 1s 28ms/step\n",
      "19/19 [==============================] - 1s 28ms/step\n",
      "19/19 [==============================] - 1s 28ms/step\n",
      "19/19 [==============================] - 1s 28ms/step\n"
     ]
    },
    {
     "name": "stderr",
     "output_type": "stream",
     "text": [
      "Evaluating models: 100%|██████████| 7/7 [02:07<00:00, 18.25s/it]\n",
      "2025-08-01 16:07:10,539 [INFO] ✅ Evaluation complete\n"
     ]
    },
    {
     "name": "stdout",
     "output_type": "stream",
     "text": [
      "\n",
      "– Fold 5/5: testing on 6 subjects –\n",
      "Train set: 86 samples, Test set: 38 samples\n"
     ]
    },
    {
     "name": "stderr",
     "output_type": "stream",
     "text": [
      "2025-08-01 16:07:10,567 [INFO] Training models (seed=0)\n"
     ]
    },
    {
     "name": "stdout",
     "output_type": "stream",
     "text": [
      "Train set: X: (657, 3000), y: (657,)    ([ADLs, Falls]) [571  86]\n",
      "Test set: X: 38, y: 38\n"
     ]
    },
    {
     "name": "stderr",
     "output_type": "stream",
     "text": [
      "Training (seed=0): 100%|██████████| 7/7 [03:45<00:00, 32.22s/it]\n",
      "Evaluating models:  86%|████████▌ | 6/7 [04:56<01:09, 69.41s/it]"
     ]
    },
    {
     "name": "stdout",
     "output_type": "stream",
     "text": [
      "19/19 [==============================] - 1s 27ms/step\n",
      "19/19 [==============================] - 1s 28ms/step\n",
      "19/19 [==============================] - 1s 28ms/step\n",
      "19/19 [==============================] - 1s 27ms/step\n",
      "19/19 [==============================] - 1s 28ms/step\n",
      "18/18 [==============================] - 3s 205ms/step\n",
      "19/19 [==============================] - 1s 28ms/step\n",
      "19/19 [==============================] - 1s 28ms/step\n",
      "19/19 [==============================] - 1s 27ms/step\n",
      "19/19 [==============================] - 1s 28ms/step\n",
      "19/19 [==============================] - 1s 28ms/step\n",
      "19/19 [==============================] - 1s 28ms/step\n",
      "19/19 [==============================] - 1s 28ms/step\n",
      "19/19 [==============================] - 1s 28ms/step\n",
      "19/19 [==============================] - 1s 28ms/step\n",
      "19/19 [==============================] - 1s 28ms/step\n",
      "19/19 [==============================] - 1s 28ms/step\n",
      "19/19 [==============================] - 1s 28ms/step\n",
      "19/19 [==============================] - 1s 28ms/step\n",
      "19/19 [==============================] - 1s 28ms/step\n",
      "19/19 [==============================] - 1s 28ms/step\n",
      "19/19 [==============================] - 1s 28ms/step\n",
      "19/19 [==============================] - 1s 27ms/step\n",
      "19/19 [==============================] - 1s 28ms/step\n",
      "19/19 [==============================] - 1s 28ms/step\n",
      "19/19 [==============================] - 1s 28ms/step\n",
      "19/19 [==============================] - 1s 28ms/step\n",
      "19/19 [==============================] - 1s 28ms/step\n",
      "19/19 [==============================] - 1s 27ms/step\n",
      "19/19 [==============================] - 1s 28ms/step\n",
      "19/19 [==============================] - 1s 27ms/step\n",
      "19/19 [==============================] - 1s 28ms/step\n",
      "19/19 [==============================] - 1s 28ms/step\n",
      "19/19 [==============================] - 1s 28ms/step\n",
      "16/16 [==============================] - 3s 173ms/step\n",
      "19/19 [==============================] - 1s 27ms/step\n",
      "19/19 [==============================] - 1s 28ms/step\n"
     ]
    },
    {
     "name": "stderr",
     "output_type": "stream",
     "text": [
      "Evaluating models: 100%|██████████| 7/7 [05:26<00:00, 46.71s/it]\n",
      "2025-08-01 16:16:23,331 [INFO] ✅ Evaluation complete\n",
      "2025-08-01 16:16:23,431 [INFO] Training models (seed=0)\n"
     ]
    },
    {
     "name": "stdout",
     "output_type": "stream",
     "text": [
      "Running CV for window size 60 seconds\n",
      "\n",
      "– Fold 1/5: testing on 7 subjects –\n",
      "Train set: 102 samples, Test set: 22 samples\n",
      "Train set: X: (864, 6000), y: (864,)    ([ADLs, Falls]) [762 102]\n",
      "Test set: X: 22, y: 22\n"
     ]
    },
    {
     "name": "stderr",
     "output_type": "stream",
     "text": [
      "Training (seed=0): 100%|██████████| 7/7 [08:45<00:00, 75.08s/it] \n",
      "Evaluating models:  86%|████████▌ | 6/7 [06:36<01:29, 89.97s/it] "
     ]
    },
    {
     "name": "stdout",
     "output_type": "stream",
     "text": [
      "18/18 [==============================] - 5s 158ms/step\n",
      "18/18 [==============================] - 1s 37ms/step\n",
      "18/18 [==============================] - 1s 37ms/step\n",
      "18/18 [==============================] - 1s 37ms/step\n",
      "18/18 [==============================] - 1s 37ms/step\n",
      "18/18 [==============================] - 1s 37ms/step\n",
      "18/18 [==============================] - 1s 37ms/step\n",
      "18/18 [==============================] - 1s 37ms/step\n",
      "18/18 [==============================] - 1s 37ms/step\n",
      "18/18 [==============================] - 1s 27ms/step\n",
      "18/18 [==============================] - 0s 27ms/step\n",
      "18/18 [==============================] - 1s 37ms/step\n",
      "18/18 [==============================] - 1s 37ms/step\n",
      "18/18 [==============================] - 1s 37ms/step\n",
      "18/18 [==============================] - 1s 37ms/step\n",
      "18/18 [==============================] - 1s 37ms/step\n",
      "18/18 [==============================] - 1s 37ms/step\n",
      "18/18 [==============================] - 1s 37ms/step\n",
      "18/18 [==============================] - 1s 37ms/step\n",
      "18/18 [==============================] - 1s 37ms/step\n",
      "18/18 [==============================] - 1s 37ms/step\n",
      "18/18 [==============================] - 1s 37ms/step\n"
     ]
    },
    {
     "name": "stderr",
     "output_type": "stream",
     "text": [
      "Evaluating models: 100%|██████████| 7/7 [07:03<00:00, 60.52s/it]\n",
      "2025-08-01 16:32:12,804 [INFO] ✅ Evaluation complete\n",
      "2025-08-01 16:32:12,864 [INFO] Training models (seed=0)\n"
     ]
    },
    {
     "name": "stdout",
     "output_type": "stream",
     "text": [
      "\n",
      "– Fold 2/5: testing on 7 subjects –\n",
      "Train set: 87 samples, Test set: 37 samples\n",
      "Train set: X: (927, 6000), y: (927,)    ([ADLs, Falls]) [840  87]\n",
      "Test set: X: 37, y: 37\n"
     ]
    },
    {
     "name": "stderr",
     "output_type": "stream",
     "text": [
      "Training (seed=0): 100%|██████████| 7/7 [06:54<00:00, 59.17s/it] \n",
      "Evaluating models:  86%|████████▌ | 6/7 [09:31<02:11, 131.35s/it]"
     ]
    },
    {
     "name": "stdout",
     "output_type": "stream",
     "text": [
      "18/18 [==============================] - 1s 55ms/step\n",
      "18/18 [==============================] - 1s 55ms/step\n",
      "18/18 [==============================] - 1s 55ms/step\n",
      "18/18 [==============================] - 1s 55ms/step\n",
      "18/18 [==============================] - 1s 55ms/step\n",
      "18/18 [==============================] - 1s 55ms/step\n",
      "18/18 [==============================] - 1s 55ms/step\n",
      "18/18 [==============================] - 1s 55ms/step\n",
      "18/18 [==============================] - 1s 55ms/step\n",
      "18/18 [==============================] - 1s 55ms/step\n",
      "18/18 [==============================] - 1s 55ms/step\n",
      "18/18 [==============================] - 1s 55ms/step\n",
      "18/18 [==============================] - 1s 55ms/step\n",
      "18/18 [==============================] - 1s 55ms/step\n",
      "18/18 [==============================] - 1s 55ms/step\n",
      "18/18 [==============================] - 1s 55ms/step\n",
      "18/18 [==============================] - 1s 55ms/step\n",
      "18/18 [==============================] - 1s 55ms/step\n",
      "18/18 [==============================] - 1s 55ms/step\n",
      "18/18 [==============================] - 1s 55ms/step\n",
      "18/18 [==============================] - 1s 55ms/step\n",
      "18/18 [==============================] - 1s 55ms/step\n",
      "18/18 [==============================] - 1s 55ms/step\n",
      "18/18 [==============================] - 1s 55ms/step\n",
      "18/18 [==============================] - 1s 55ms/step\n",
      "18/18 [==============================] - 1s 55ms/step\n",
      "18/18 [==============================] - 1s 55ms/step\n",
      "18/18 [==============================] - 1s 55ms/step\n",
      "18/18 [==============================] - 1s 55ms/step\n",
      "18/18 [==============================] - 1s 55ms/step\n",
      "18/18 [==============================] - 1s 55ms/step\n",
      "18/18 [==============================] - 1s 55ms/step\n",
      "18/18 [==============================] - 1s 55ms/step\n",
      "18/18 [==============================] - 1s 55ms/step\n"
     ]
    },
    {
     "name": "stderr",
     "output_type": "stream",
     "text": [
      "Evaluating models: 100%|██████████| 7/7 [10:11<00:00, 87.29s/it] \n",
      "2025-08-01 16:49:18,297 [INFO] ✅ Evaluation complete\n",
      "2025-08-01 16:49:18,320 [INFO] Training models (seed=0)\n"
     ]
    },
    {
     "name": "stdout",
     "output_type": "stream",
     "text": [
      "\n",
      "– Fold 3/5: testing on 6 subjects –\n",
      "Train set: 113 samples, Test set: 11 samples\n",
      "Train set: X: (771, 6000), y: (771,)    ([ADLs, Falls]) [658 113]\n",
      "Test set: X: 11, y: 11\n"
     ]
    },
    {
     "name": "stderr",
     "output_type": "stream",
     "text": [
      "Training (seed=0): 100%|██████████| 7/7 [08:27<00:00, 72.44s/it] \n",
      "Evaluating models:  86%|████████▌ | 6/7 [02:29<00:34, 34.50s/it]"
     ]
    },
    {
     "name": "stdout",
     "output_type": "stream",
     "text": [
      "18/18 [==============================] - 1s 55ms/step\n",
      "18/18 [==============================] - 1s 55ms/step\n",
      "18/18 [==============================] - 1s 55ms/step\n",
      "18/18 [==============================] - 1s 55ms/step\n",
      "18/18 [==============================] - 1s 55ms/step\n",
      "18/18 [==============================] - 1s 55ms/step\n",
      "18/18 [==============================] - 1s 55ms/step\n",
      "18/18 [==============================] - 1s 55ms/step\n",
      "18/18 [==============================] - 1s 55ms/step\n"
     ]
    },
    {
     "name": "stderr",
     "output_type": "stream",
     "text": [
      "Evaluating models: 100%|██████████| 7/7 [02:40<00:00, 22.93s/it]\n",
      "2025-08-01 17:00:26,072 [INFO] ✅ Evaluation complete\n",
      "2025-08-01 17:00:26,110 [INFO] Training models (seed=0)\n"
     ]
    },
    {
     "name": "stdout",
     "output_type": "stream",
     "text": [
      "\n",
      "– Fold 4/5: testing on 6 subjects –\n",
      "Train set: 108 samples, Test set: 16 samples\n",
      "Train set: X: (973, 6000), y: (973,)    ([ADLs, Falls]) [865 108]\n",
      "Test set: X: 16, y: 16\n"
     ]
    },
    {
     "name": "stderr",
     "output_type": "stream",
     "text": [
      "Training (seed=0): 100%|██████████| 7/7 [05:47<00:00, 49.59s/it]\n",
      "Evaluating models:  86%|████████▌ | 6/7 [04:05<00:56, 56.38s/it]"
     ]
    },
    {
     "name": "stdout",
     "output_type": "stream",
     "text": [
      "18/18 [==============================] - 1s 55ms/step\n",
      "18/18 [==============================] - 1s 55ms/step\n",
      "18/18 [==============================] - 1s 55ms/step\n",
      "18/18 [==============================] - 1s 55ms/step\n",
      "18/18 [==============================] - 1s 55ms/step\n",
      "18/18 [==============================] - 1s 55ms/step\n",
      "18/18 [==============================] - 1s 55ms/step\n",
      "18/18 [==============================] - 1s 55ms/step\n",
      "18/18 [==============================] - 1s 55ms/step\n",
      "18/18 [==============================] - 1s 55ms/step\n",
      "18/18 [==============================] - 1s 55ms/step\n",
      "18/18 [==============================] - 1s 55ms/step\n",
      "18/18 [==============================] - 1s 55ms/step\n",
      "18/18 [==============================] - 1s 55ms/step\n",
      "18/18 [==============================] - 1s 55ms/step\n"
     ]
    },
    {
     "name": "stderr",
     "output_type": "stream",
     "text": [
      "Evaluating models: 100%|██████████| 7/7 [04:22<00:00, 37.56s/it]\n",
      "2025-08-01 17:10:36,307 [INFO] ✅ Evaluation complete\n",
      "2025-08-01 17:10:36,342 [INFO] Training models (seed=0)\n"
     ]
    },
    {
     "name": "stdout",
     "output_type": "stream",
     "text": [
      "\n",
      "– Fold 5/5: testing on 6 subjects –\n",
      "Train set: 86 samples, Test set: 38 samples\n",
      "Train set: X: (621, 6000), y: (621,)    ([ADLs, Falls]) [535  86]\n",
      "Test set: X: 38, y: 38\n"
     ]
    },
    {
     "name": "stderr",
     "output_type": "stream",
     "text": [
      "Training (seed=0): 100%|██████████| 7/7 [06:01<00:00, 51.67s/it] \n",
      "Evaluating models:  86%|████████▌ | 6/7 [10:25<02:23, 143.79s/it]"
     ]
    },
    {
     "name": "stdout",
     "output_type": "stream",
     "text": [
      "18/18 [==============================] - 1s 55ms/step\n",
      "18/18 [==============================] - 1s 56ms/step\n",
      "18/18 [==============================] - 1s 55ms/step\n",
      "18/18 [==============================] - 1s 55ms/step\n",
      "18/18 [==============================] - 1s 55ms/step\n",
      "18/18 [==============================] - 4s 210ms/step\n",
      "18/18 [==============================] - 1s 55ms/step\n",
      "18/18 [==============================] - 1s 55ms/step\n",
      "18/18 [==============================] - 1s 55ms/step\n",
      "18/18 [==============================] - 1s 55ms/step\n",
      "18/18 [==============================] - 1s 55ms/step\n",
      "18/18 [==============================] - 1s 55ms/step\n",
      "18/18 [==============================] - 1s 55ms/step\n",
      "18/18 [==============================] - 1s 55ms/step\n",
      "18/18 [==============================] - 1s 55ms/step\n",
      "18/18 [==============================] - 1s 55ms/step\n",
      "18/18 [==============================] - 1s 55ms/step\n",
      "18/18 [==============================] - 1s 55ms/step\n",
      "18/18 [==============================] - 1s 55ms/step\n",
      "18/18 [==============================] - 1s 55ms/step\n",
      "18/18 [==============================] - 1s 55ms/step\n",
      "18/18 [==============================] - 1s 55ms/step\n",
      "18/18 [==============================] - 1s 55ms/step\n",
      "18/18 [==============================] - 1s 55ms/step\n",
      "18/18 [==============================] - 1s 55ms/step\n",
      "18/18 [==============================] - 1s 55ms/step\n",
      "18/18 [==============================] - 1s 55ms/step\n",
      "18/18 [==============================] - 1s 55ms/step\n",
      "18/18 [==============================] - 1s 56ms/step\n",
      "18/18 [==============================] - 1s 55ms/step\n",
      "18/18 [==============================] - 1s 55ms/step\n",
      "18/18 [==============================] - 1s 55ms/step\n",
      "18/18 [==============================] - 1s 55ms/step\n",
      "18/18 [==============================] - 1s 55ms/step\n",
      "15/15 [==============================] - 5s 352ms/step\n",
      "18/18 [==============================] - 1s 55ms/step\n",
      "18/18 [==============================] - 1s 55ms/step\n"
     ]
    },
    {
     "name": "stderr",
     "output_type": "stream",
     "text": [
      "Evaluating models: 100%|██████████| 7/7 [11:16<00:00, 96.71s/it] \n",
      "2025-08-01 17:27:55,242 [INFO] ✅ Evaluation complete\n"
     ]
    }
   ],
   "source": [
    "ALL_CV_ROWS = []\n",
    "run_kwargs.update(model_specs=MODEL_SPECS)\n",
    "models = [spec for spec in MODEL_SPECS\\\n",
    "\t\t  if spec.kind != \"baseline\"\n",
    "\t\t  and spec.name != \"ResNet\"]\n",
    "run_kwargs.update(model_specs=models)\n",
    "for win in WINDOW_SIZES:\n",
    "\tprint(f\"Running CV for window size {win} seconds\")\n",
    "\trunner = CVRunner(\n",
    "        df=train_df,\n",
    "        dataset=fs,\n",
    "        groups=\"SubjectID\",\n",
    "        split_df_fn=utils.split_df,\n",
    "        run_models_fn=run_models,\n",
    "        window_size=win,\n",
    "        cv=CV_FOLDS,\n",
    "        kwargs=kwargs\n",
    "    )\n",
    "\tfold_df = runner.run(**run_kwargs)\n",
    "\tfold_df[\"window_size\"] = win\n",
    "\tALL_CV_ROWS.append(fold_df)\n",
    "cv_metrics = pd.concat(ALL_CV_ROWS, ignore_index=True)\n",
    "cv_metrics.to_csv(RES_DIR / \"cv_all_windows.csv\", index=False)"
   ]
  },
  {
   "cell_type": "code",
   "execution_count": 5,
   "id": "7dfde0b8",
   "metadata": {},
   "outputs": [
    {
     "data": {
      "text/html": [
       "<div>\n",
       "<style scoped>\n",
       "    .dataframe tbody tr th:only-of-type {\n",
       "        vertical-align: middle;\n",
       "    }\n",
       "\n",
       "    .dataframe tbody tr th {\n",
       "        vertical-align: top;\n",
       "    }\n",
       "\n",
       "    .dataframe thead th {\n",
       "        text-align: right;\n",
       "    }\n",
       "</style>\n",
       "<table border=\"1\" class=\"dataframe\">\n",
       "  <thead>\n",
       "    <tr style=\"text-align: right;\">\n",
       "      <th></th>\n",
       "      <th>model</th>\n",
       "      <th>seed</th>\n",
       "      <th>window_size</th>\n",
       "      <th>runtime</th>\n",
       "      <th>delay</th>\n",
       "      <th>precision</th>\n",
       "      <th>recall</th>\n",
       "      <th>specificity</th>\n",
       "      <th>f1-score</th>\n",
       "      <th>auc</th>\n",
       "      <th>false alarm rate</th>\n",
       "      <th>miss rate</th>\n",
       "      <th>gain</th>\n",
       "      <th>fold</th>\n",
       "      <th>thresh</th>\n",
       "    </tr>\n",
       "  </thead>\n",
       "  <tbody>\n",
       "    <tr>\n",
       "      <th>0</th>\n",
       "      <td>ExtraTrees</td>\n",
       "      <td>0.0</td>\n",
       "      <td>3</td>\n",
       "      <td>0.200628</td>\n",
       "      <td>0.909091</td>\n",
       "      <td>0.909091</td>\n",
       "      <td>0.909091</td>\n",
       "      <td>0.999999</td>\n",
       "      <td>0.909091</td>\n",
       "      <td>0.954545</td>\n",
       "      <td>0.272725</td>\n",
       "      <td>0.272725</td>\n",
       "      <td>0.001000</td>\n",
       "      <td>1</td>\n",
       "      <td>NaN</td>\n",
       "    </tr>\n",
       "    <tr>\n",
       "      <th>1</th>\n",
       "      <td>Catch22</td>\n",
       "      <td>0.0</td>\n",
       "      <td>3</td>\n",
       "      <td>6.329436</td>\n",
       "      <td>0.772727</td>\n",
       "      <td>0.714286</td>\n",
       "      <td>0.909091</td>\n",
       "      <td>0.999997</td>\n",
       "      <td>0.800000</td>\n",
       "      <td>0.954544</td>\n",
       "      <td>1.090900</td>\n",
       "      <td>0.272725</td>\n",
       "      <td>0.001000</td>\n",
       "      <td>1</td>\n",
       "      <td>NaN</td>\n",
       "    </tr>\n",
       "    <tr>\n",
       "      <th>2</th>\n",
       "      <td>QUANT</td>\n",
       "      <td>0.0</td>\n",
       "      <td>3</td>\n",
       "      <td>2.357866</td>\n",
       "      <td>0.772727</td>\n",
       "      <td>0.833333</td>\n",
       "      <td>0.909091</td>\n",
       "      <td>0.999998</td>\n",
       "      <td>0.869565</td>\n",
       "      <td>0.954545</td>\n",
       "      <td>0.545450</td>\n",
       "      <td>0.272725</td>\n",
       "      <td>0.001000</td>\n",
       "      <td>1</td>\n",
       "      <td>NaN</td>\n",
       "    </tr>\n",
       "    <tr>\n",
       "      <th>3</th>\n",
       "      <td>ExtraTrees</td>\n",
       "      <td>0.0</td>\n",
       "      <td>3</td>\n",
       "      <td>0.168541</td>\n",
       "      <td>4.559118</td>\n",
       "      <td>0.892857</td>\n",
       "      <td>0.735294</td>\n",
       "      <td>0.999999</td>\n",
       "      <td>0.806452</td>\n",
       "      <td>0.867647</td>\n",
       "      <td>0.264704</td>\n",
       "      <td>0.794111</td>\n",
       "      <td>0.001000</td>\n",
       "      <td>2</td>\n",
       "      <td>NaN</td>\n",
       "    </tr>\n",
       "    <tr>\n",
       "      <th>4</th>\n",
       "      <td>Catch22</td>\n",
       "      <td>0.0</td>\n",
       "      <td>3</td>\n",
       "      <td>8.170037</td>\n",
       "      <td>2.769706</td>\n",
       "      <td>0.823529</td>\n",
       "      <td>0.823529</td>\n",
       "      <td>0.999999</td>\n",
       "      <td>0.823529</td>\n",
       "      <td>0.911764</td>\n",
       "      <td>0.529407</td>\n",
       "      <td>0.529407</td>\n",
       "      <td>0.001000</td>\n",
       "      <td>2</td>\n",
       "      <td>NaN</td>\n",
       "    </tr>\n",
       "    <tr>\n",
       "      <th>...</th>\n",
       "      <td>...</td>\n",
       "      <td>...</td>\n",
       "      <td>...</td>\n",
       "      <td>...</td>\n",
       "      <td>...</td>\n",
       "      <td>...</td>\n",
       "      <td>...</td>\n",
       "      <td>...</td>\n",
       "      <td>...</td>\n",
       "      <td>...</td>\n",
       "      <td>...</td>\n",
       "      <td>...</td>\n",
       "      <td>...</td>\n",
       "      <td>...</td>\n",
       "      <td>...</td>\n",
       "    </tr>\n",
       "    <tr>\n",
       "      <th>170</th>\n",
       "      <td>ResNet</td>\n",
       "      <td>0.0</td>\n",
       "      <td>60</td>\n",
       "      <td>9.684447</td>\n",
       "      <td>-33.777778</td>\n",
       "      <td>0.666667</td>\n",
       "      <td>0.888889</td>\n",
       "      <td>0.999996</td>\n",
       "      <td>0.761905</td>\n",
       "      <td>0.944443</td>\n",
       "      <td>1.333322</td>\n",
       "      <td>0.333331</td>\n",
       "      <td>0.999515</td>\n",
       "      <td>3</td>\n",
       "      <td>0.5</td>\n",
       "    </tr>\n",
       "    <tr>\n",
       "      <th>171</th>\n",
       "      <td>MiniRocket</td>\n",
       "      <td>0.0</td>\n",
       "      <td>60</td>\n",
       "      <td>2.657062</td>\n",
       "      <td>-24.462000</td>\n",
       "      <td>0.636364</td>\n",
       "      <td>0.933333</td>\n",
       "      <td>0.999996</td>\n",
       "      <td>0.756757</td>\n",
       "      <td>0.966664</td>\n",
       "      <td>1.599987</td>\n",
       "      <td>0.199998</td>\n",
       "      <td>1.665860</td>\n",
       "      <td>4</td>\n",
       "      <td>0.5</td>\n",
       "    </tr>\n",
       "    <tr>\n",
       "      <th>172</th>\n",
       "      <td>ResNet</td>\n",
       "      <td>0.0</td>\n",
       "      <td>60</td>\n",
       "      <td>9.732467</td>\n",
       "      <td>-5.795333</td>\n",
       "      <td>0.857143</td>\n",
       "      <td>0.400000</td>\n",
       "      <td>0.999999</td>\n",
       "      <td>0.545455</td>\n",
       "      <td>0.700000</td>\n",
       "      <td>0.199998</td>\n",
       "      <td>1.799985</td>\n",
       "      <td>1.665836</td>\n",
       "      <td>4</td>\n",
       "      <td>0.5</td>\n",
       "    </tr>\n",
       "    <tr>\n",
       "      <th>173</th>\n",
       "      <td>MiniRocket</td>\n",
       "      <td>0.0</td>\n",
       "      <td>60</td>\n",
       "      <td>2.598760</td>\n",
       "      <td>-40.966486</td>\n",
       "      <td>0.615385</td>\n",
       "      <td>0.864865</td>\n",
       "      <td>0.999995</td>\n",
       "      <td>0.719101</td>\n",
       "      <td>0.932430</td>\n",
       "      <td>1.630346</td>\n",
       "      <td>0.407587</td>\n",
       "      <td>4.087076</td>\n",
       "      <td>5</td>\n",
       "      <td>0.5</td>\n",
       "    </tr>\n",
       "    <tr>\n",
       "      <th>174</th>\n",
       "      <td>ResNet</td>\n",
       "      <td>0.0</td>\n",
       "      <td>60</td>\n",
       "      <td>11.766597</td>\n",
       "      <td>-29.356486</td>\n",
       "      <td>0.774194</td>\n",
       "      <td>0.648649</td>\n",
       "      <td>0.999998</td>\n",
       "      <td>0.705882</td>\n",
       "      <td>0.824324</td>\n",
       "      <td>0.570621</td>\n",
       "      <td>1.059725</td>\n",
       "      <td>4.087060</td>\n",
       "      <td>5</td>\n",
       "      <td>0.5</td>\n",
       "    </tr>\n",
       "  </tbody>\n",
       "</table>\n",
       "<p>175 rows × 15 columns</p>\n",
       "</div>"
      ],
      "text/plain": [
       "          model  seed  window_size    runtime      delay  precision    recall  \\\n",
       "0    ExtraTrees   0.0            3   0.200628   0.909091   0.909091  0.909091   \n",
       "1       Catch22   0.0            3   6.329436   0.772727   0.714286  0.909091   \n",
       "2         QUANT   0.0            3   2.357866   0.772727   0.833333  0.909091   \n",
       "3    ExtraTrees   0.0            3   0.168541   4.559118   0.892857  0.735294   \n",
       "4       Catch22   0.0            3   8.170037   2.769706   0.823529  0.823529   \n",
       "..          ...   ...          ...        ...        ...        ...       ...   \n",
       "170      ResNet   0.0           60   9.684447 -33.777778   0.666667  0.888889   \n",
       "171  MiniRocket   0.0           60   2.657062 -24.462000   0.636364  0.933333   \n",
       "172      ResNet   0.0           60   9.732467  -5.795333   0.857143  0.400000   \n",
       "173  MiniRocket   0.0           60   2.598760 -40.966486   0.615385  0.864865   \n",
       "174      ResNet   0.0           60  11.766597 -29.356486   0.774194  0.648649   \n",
       "\n",
       "     specificity  f1-score       auc  false alarm rate  miss rate      gain  \\\n",
       "0       0.999999  0.909091  0.954545          0.272725   0.272725  0.001000   \n",
       "1       0.999997  0.800000  0.954544          1.090900   0.272725  0.001000   \n",
       "2       0.999998  0.869565  0.954545          0.545450   0.272725  0.001000   \n",
       "3       0.999999  0.806452  0.867647          0.264704   0.794111  0.001000   \n",
       "4       0.999999  0.823529  0.911764          0.529407   0.529407  0.001000   \n",
       "..           ...       ...       ...               ...        ...       ...   \n",
       "170     0.999996  0.761905  0.944443          1.333322   0.333331  0.999515   \n",
       "171     0.999996  0.756757  0.966664          1.599987   0.199998  1.665860   \n",
       "172     0.999999  0.545455  0.700000          0.199998   1.799985  1.665836   \n",
       "173     0.999995  0.719101  0.932430          1.630346   0.407587  4.087076   \n",
       "174     0.999998  0.705882  0.824324          0.570621   1.059725  4.087060   \n",
       "\n",
       "     fold  thresh  \n",
       "0       1     NaN  \n",
       "1       1     NaN  \n",
       "2       1     NaN  \n",
       "3       2     NaN  \n",
       "4       2     NaN  \n",
       "..    ...     ...  \n",
       "170     3     0.5  \n",
       "171     4     0.5  \n",
       "172     4     0.5  \n",
       "173     5     0.5  \n",
       "174     5     0.5  \n",
       "\n",
       "[175 rows x 15 columns]"
      ]
     },
     "execution_count": 5,
     "metadata": {},
     "output_type": "execute_result"
    }
   ],
   "source": [
    "cv_metrics = pd.read_csv(RES_DIR / \"cv_all_windows.csv\")\n",
    "# cv_metrics = cv_metrics.query(\"window_size < 60\")\n",
    "dummy_cv_metrics = cv_metrics.query(\"model.str.startswith('Dummy')\")\n",
    "real_cv_metrics = cv_metrics.query(\"not model.str.startswith('Dummy')\")\n",
    "real_cv_metrics = real_cv_metrics.query(\"seed==0.0\")\n",
    "cv_metrics"
   ]
  },
  {
   "cell_type": "code",
   "execution_count": 6,
   "id": "101f0db8",
   "metadata": {},
   "outputs": [],
   "source": [
    "best_rows = (\n",
    "    real_cv_metrics\n",
    "    .groupby([\"model\", \"window_size\"])\n",
    "    [\"f1-score\"].mean()\n",
    "    .unstack(\"window_size\")\n",
    "    .idxmax(axis=1) # window with highest mean F1\n",
    ")\n",
    "BEST_WINDOW = best_rows.to_dict()\n",
    "json.dump(BEST_WINDOW, open(RES_DIR/\"best_window_size.json\",\"w\"))"
   ]
  },
  {
   "cell_type": "code",
   "execution_count": 7,
   "id": "7dfdacf8",
   "metadata": {},
   "outputs": [
    {
     "data": {
      "image/png": "[encoded data removed]",
      "text/plain": [
       "<Figure size 2800x800 with 1 Axes>"
      ]
     },
     "metadata": {},
     "output_type": "display_data"
    }
   ],
   "source": [
    "from scripts.plotting import window_bar\n",
    "\n",
    "plt.figure(figsize=(7, 2), dpi=400)\n",
    "ax = window_bar(real_cv_metrics.query(\"seed==0.0\"),\n",
    "                metric=\"f1-score\", ci=\"sd\",\n",
    "                x=\"model\", hue=\"window_size\")\n",
    "ax.set_xlabel(\"\")\n",
    "ax.set_title(\"\")\n",
    "ax.set_ylim(0.4, 0.95)\n",
    "ax.grid(axis='y', alpha=0.5, which='both')\n",
    "ax.legend(loc=9, ncol=7, \n",
    "          title=\"win_size (s)\",\n",
    "          bbox_to_anchor=(0.5, 1.35),\n",
    "          fontsize=10)\n",
    "ax.set_title(\"\")\n",
    "plt.savefig(FIG_DIR / \"bar_plot_by_window_size.pdf\", bbox_inches='tight')\n",
    "plt.show()"
   ]
  },
  {
   "cell_type": "code",
   "execution_count": 26,
   "id": "19f3d0ba",
   "metadata": {},
   "outputs": [],
   "source": [
    "# aggregate metrics\n",
    "agg_metrics = aggregate(real_cv_metrics)\n",
    "agg_metrics.to_csv(RES_DIR / \"agg_metrics.csv\", index=False)"
   ]
  },
  {
   "cell_type": "code",
   "execution_count": 7,
   "id": "f0b151fa",
   "metadata": {},
   "outputs": [
    {
     "name": "stdout",
     "output_type": "stream",
     "text": [
      "Best model: QUANT with window size of 10 seconds\n"
     ]
    }
   ],
   "source": [
    "grps = real_cv_metrics.groupby(['model', 'window_size']).mean(numeric_only=True)\n",
    "# pick best model and window size\n",
    "best_model = grps['f1-score'].idxmax()[0]\n",
    "best_window = grps['f1-score'].idxmax()[1]\n",
    "print(f\"Best model: {best_model} with window size of {best_window} seconds\")"
   ]
  },
  {
   "cell_type": "code",
   "execution_count": 10,
   "id": "a2279eaa",
   "metadata": {},
   "outputs": [
    {
     "data": {
      "text/html": [
       "<div>\n",
       "<style scoped>\n",
       "    .dataframe tbody tr th:only-of-type {\n",
       "        vertical-align: middle;\n",
       "    }\n",
       "\n",
       "    .dataframe tbody tr th {\n",
       "        vertical-align: top;\n",
       "    }\n",
       "\n",
       "    .dataframe thead th {\n",
       "        text-align: right;\n",
       "    }\n",
       "</style>\n",
       "<table border=\"1\" class=\"dataframe\">\n",
       "  <thead>\n",
       "    <tr style=\"text-align: right;\">\n",
       "      <th>model</th>\n",
       "      <th>Catch22</th>\n",
       "      <th>ExtraTrees</th>\n",
       "      <th>MiniRocket</th>\n",
       "      <th>QUANT</th>\n",
       "      <th>ResNet</th>\n",
       "    </tr>\n",
       "    <tr>\n",
       "      <th>fold</th>\n",
       "      <th></th>\n",
       "      <th></th>\n",
       "      <th></th>\n",
       "      <th></th>\n",
       "      <th></th>\n",
       "    </tr>\n",
       "  </thead>\n",
       "  <tbody>\n",
       "    <tr>\n",
       "      <th>1</th>\n",
       "      <td>0.683856</td>\n",
       "      <td>0.934002</td>\n",
       "      <td>0.802009</td>\n",
       "      <td>0.854347</td>\n",
       "      <td>0.626868</td>\n",
       "    </tr>\n",
       "    <tr>\n",
       "      <th>2</th>\n",
       "      <td>0.771202</td>\n",
       "      <td>0.815350</td>\n",
       "      <td>0.855558</td>\n",
       "      <td>0.866292</td>\n",
       "      <td>0.788095</td>\n",
       "    </tr>\n",
       "    <tr>\n",
       "      <th>3</th>\n",
       "      <td>0.455554</td>\n",
       "      <td>0.698955</td>\n",
       "      <td>0.686897</td>\n",
       "      <td>0.798997</td>\n",
       "      <td>0.612930</td>\n",
       "    </tr>\n",
       "    <tr>\n",
       "      <th>4</th>\n",
       "      <td>0.738308</td>\n",
       "      <td>0.693970</td>\n",
       "      <td>0.751888</td>\n",
       "      <td>0.832795</td>\n",
       "      <td>0.673831</td>\n",
       "    </tr>\n",
       "    <tr>\n",
       "      <th>5</th>\n",
       "      <td>0.561880</td>\n",
       "      <td>0.742415</td>\n",
       "      <td>0.752644</td>\n",
       "      <td>0.770772</td>\n",
       "      <td>0.579685</td>\n",
       "    </tr>\n",
       "  </tbody>\n",
       "</table>\n",
       "</div>"
      ],
      "text/plain": [
       "model   Catch22  ExtraTrees  MiniRocket     QUANT    ResNet\n",
       "fold                                                       \n",
       "1      0.683856    0.934002    0.802009  0.854347  0.626868\n",
       "2      0.771202    0.815350    0.855558  0.866292  0.788095\n",
       "3      0.455554    0.698955    0.686897  0.798997  0.612930\n",
       "4      0.738308    0.693970    0.751888  0.832795  0.673831\n",
       "5      0.561880    0.742415    0.752644  0.770772  0.579685"
      ]
     },
     "execution_count": 10,
     "metadata": {},
     "output_type": "execute_result"
    }
   ],
   "source": [
    "# use multiple comparison matrix from aeon\n",
    "from aeon.visualisation import create_multi_comparison_matrix\n",
    "\n",
    "pivots = real_cv_metrics.pivot_table(\n",
    "    index='fold',\n",
    "    columns='model',\n",
    "\tvalues='f1-score',\n",
    "    aggfunc='mean'\n",
    ")\n",
    "pivots"
   ]
  },
  {
   "cell_type": "code",
   "execution_count": null,
   "id": "60cfecd3",
   "metadata": {},
   "outputs": [],
   "source": [
    "create_multi_comparison_matrix(\n",
    "    pivots, used_statistic='F1-score',\n",
    "    #    win_label='wins',\n",
    "    #    loss_label='losses',\n",
    "    #    tie_label='ties',\n",
    "    font_size=20.5,\n",
    "    fig_size=\"17,10\",\n",
    "    pdf_savename=FIG_DIR / \"multi_comparison_matrix.pdf\"\n",
    ")\n",
    "plt.show()"
   ]
  },
  {
   "cell_type": "markdown",
   "id": "86626ed1",
   "metadata": {},
   "source": [
    "### Cost Sensitive Threshold Tuning"
   ]
  },
  {
   "cell_type": "code",
   "execution_count": null,
   "id": "73d4c662",
   "metadata": {},
   "outputs": [
    {
     "name": "stdout",
     "output_type": "stream",
     "text": [
      "Train set: 124 samples, Test set: 21 samples\n",
      "Train set: X: (1213, 1000), y: (1213,)    ([ADLs, Falls]) [1089  124]\n",
      "Test set: X: 21, y: 21\n",
      "Train set: 124 samples, Test set: 21 samples\n",
      "Train set: X: (1271, 300), y: (1271,)    ([ADLs, Falls]) [1147  124]\n",
      "Test set: X: 21, y: 21\n",
      "Train set: 124 samples, Test set: 21 samples\n",
      "Train set: X: (1039, 6000), y: (1039,)    ([ADLs, Falls]) [915 124]\n",
      "Test set: X: 21, y: 21\n"
     ]
    }
   ],
   "source": [
    "best_windows = json.load(open(RES_DIR/\"best_window_size.json\", \"r\"))\n",
    "win_sizes = set([best_windows[m.name] for m in MODEL_SPECS\\\n",
    "                  if m.kind != \"baseline\"\\\n",
    "                    and \"Ensemble\" not in m.name\\\n",
    "                        and m.name != \"ResNet\"])\n",
    "# create datasets for each window size\n",
    "whole_df = fs.load()\n",
    "datasets = {}\n",
    "for win in win_sizes:\n",
    "    datasets[win] = utils.split_df(\n",
    "\t\twhole_df, fs, test_set=TEST_SUBJ,\n",
    "        window_size=win, segment_test=False,\n",
    "        thresh=1.4, multiphase=True\n",
    "\t)"
   ]
  },
  {
   "cell_type": "code",
   "execution_count": 11,
   "id": "d0266913",
   "metadata": {},
   "outputs": [
    {
     "name": "stderr",
     "output_type": "stream",
     "text": [
      "2025-08-07 16:03:37,895 [INFO] Training models (seed=0)\n"
     ]
    },
    {
     "name": "stdout",
     "output_type": "stream",
     "text": [
      "Running models for window size 10 seconds, tuning with fn_factor=2\n"
     ]
    },
    {
     "name": "stderr",
     "output_type": "stream",
     "text": [
      "Training (seed=0):   0%|          | 0/1 [00:00<?, ?it/s]2025-08-07 16:04:29,690 [INFO] Saved tuned model and CV results for QUANT to results/model_cache\n",
      "2025-08-07 16:04:29,690 [INFO] QUANT: threshold tuned to 0.40\n",
      "Training (seed=0): 100%|██████████| 1/1 [00:51<00:00, 51.79s/it]\n",
      "Evaluating models: 100%|██████████| 1/1 [00:16<00:00, 16.52s/it]\n",
      "2025-08-07 16:04:46,218 [INFO] ✅ Evaluation complete\n"
     ]
    },
    {
     "name": "stdout",
     "output_type": "stream",
     "text": [
      "\n"
     ]
    }
   ],
   "source": [
    "from scripts.model_runner import run_models\n",
    "\n",
    "quant_thresh_metrics = []\n",
    "quant = get_model_specs(subset=['QUANT'])\n",
    "w = 10 # seconds\n",
    "print(f\"Running models for window size {w} seconds, tuning with fn_factor=2\")\n",
    "X_tr, X_te, y_tr, y_te = datasets[w]\n",
    "res = run_models(\n",
    "\tX_tr, X_te, y_tr, y_te,\n",
    "\tmodel_specs=quant,\n",
    "\tverbose=True,\n",
    "\tensemble_models=False,\n",
    "\tensemble_by_kind=False,\n",
    "\twindow_size=w,\n",
    "\ttune_threshold=True,\n",
    "\tfn_factor=2,\n",
    "    saved_tuned_dir=CACHE\n",
    ")\n",
    "res[\"window_size\"] = w\n",
    "res[\"fn_factor\"] = 2\n",
    "# res[\"tp_factor\"] = tp_factor\n",
    "quant_thresh_metrics.append(res)\n",
    "print(\"\")\n",
    "quant_thresh_df = pd.concat(quant_thresh_metrics, ignore_index=True)\n",
    "quant_thresh_df.to_csv(RES_DIR / \"quant_thresh_metrics_tp0.csv\", index=False)"
   ]
  },
  {
   "cell_type": "code",
   "execution_count": null,
   "id": "d35bc0db",
   "metadata": {},
   "outputs": [
    {
     "data": {
      "image/png": "[encoded data removed]",
      "text/plain": [
       "<Figure size 1600x1200 with 1 Axes>"
      ]
     },
     "metadata": {},
     "output_type": "display_data"
    }
   ],
   "source": [
    "from scripts.plotting import plot_threshold_curve\n",
    "tuned_model = joblib.load(CACHE / \"QUANT_tuned.joblib\")\n",
    "plot_threshold_curve(\n",
    "    tuned_model,\n",
    "    save_path=FIG_DIR / \"quant_thresh.pdf\"\n",
    ")"
   ]
  },
  {
   "cell_type": "code",
   "execution_count": 12,
   "id": "b2e4236e",
   "metadata": {},
   "outputs": [
    {
     "name": "stderr",
     "output_type": "stream",
     "text": [
      "2025-08-07 13:52:18,263 [INFO] Training models (seed=0)\n"
     ]
    },
    {
     "name": "stdout",
     "output_type": "stream",
     "text": [
      "Running QUANT for window size 10 seconds, no thresholding\n"
     ]
    },
    {
     "name": "stderr",
     "output_type": "stream",
     "text": [
      "Training (seed=0):   0%|          | 0/1 [00:00<?, ?it/s]"
     ]
    },
    {
     "name": "stderr",
     "output_type": "stream",
     "text": [
      "Training (seed=0): 100%|██████████| 1/1 [00:08<00:00,  8.26s/it]\n",
      "Evaluating models: 100%|██████████| 1/1 [00:11<00:00, 11.60s/it]\n",
      "2025-08-07 13:52:38,124 [INFO] ✅ Evaluation complete\n",
      "2025-08-07 13:52:38,129 [INFO] Training models (seed=0)\n"
     ]
    },
    {
     "name": "stdout",
     "output_type": "stream",
     "text": [
      "\n",
      "Running models for window size 10 seconds, tuning with fn_factor=1\n"
     ]
    },
    {
     "name": "stderr",
     "output_type": "stream",
     "text": [
      "Training (seed=0):   0%|          | 0/1 [00:00<?, ?it/s]2025-08-07 13:53:26,264 [INFO] QUANT: threshold tuned to 0.46\n",
      "Training (seed=0): 100%|██████████| 1/1 [00:48<00:00, 48.14s/it]\n",
      "Evaluating models: 100%|██████████| 1/1 [00:11<00:00, 11.66s/it]\n",
      "2025-08-07 13:53:37,930 [INFO] ✅ Evaluation complete\n",
      "2025-08-07 13:53:37,932 [INFO] Training models (seed=0)\n"
     ]
    },
    {
     "name": "stdout",
     "output_type": "stream",
     "text": [
      "\n",
      "Running models for window size 10 seconds, tuning with fn_factor=2\n"
     ]
    },
    {
     "name": "stderr",
     "output_type": "stream",
     "text": [
      "Training (seed=0):   0%|          | 0/1 [00:00<?, ?it/s]2025-08-07 13:54:26,035 [INFO] QUANT: threshold tuned to 0.40\n",
      "Training (seed=0): 100%|██████████| 1/1 [00:48<00:00, 48.10s/it]\n",
      "Evaluating models: 100%|██████████| 1/1 [00:11<00:00, 11.64s/it]\n",
      "2025-08-07 13:54:37,680 [INFO] ✅ Evaluation complete\n",
      "2025-08-07 13:54:37,682 [INFO] Training models (seed=0)\n"
     ]
    },
    {
     "name": "stdout",
     "output_type": "stream",
     "text": [
      "\n",
      "Running models for window size 10 seconds, tuning with fn_factor=3\n"
     ]
    },
    {
     "name": "stderr",
     "output_type": "stream",
     "text": [
      "Training (seed=0):   0%|          | 0/1 [00:00<?, ?it/s]2025-08-07 13:55:25,879 [INFO] QUANT: threshold tuned to 0.27\n",
      "Training (seed=0): 100%|██████████| 1/1 [00:48<00:00, 48.20s/it]\n",
      "Evaluating models: 100%|██████████| 1/1 [00:11<00:00, 11.75s/it]\n",
      "2025-08-07 13:55:37,631 [INFO] ✅ Evaluation complete\n",
      "2025-08-07 13:55:37,633 [INFO] Training models (seed=0)\n"
     ]
    },
    {
     "name": "stdout",
     "output_type": "stream",
     "text": [
      "\n",
      "Running models for window size 10 seconds, tuning with fn_factor=4\n"
     ]
    },
    {
     "name": "stderr",
     "output_type": "stream",
     "text": [
      "Training (seed=0):   0%|          | 0/1 [00:00<?, ?it/s]2025-08-07 13:56:26,107 [INFO] QUANT: threshold tuned to 0.26\n",
      "Training (seed=0): 100%|██████████| 1/1 [00:48<00:00, 48.47s/it]\n",
      "Evaluating models: 100%|██████████| 1/1 [00:12<00:00, 12.43s/it]\n",
      "2025-08-07 13:56:38,541 [INFO] ✅ Evaluation complete\n"
     ]
    },
    {
     "name": "stdout",
     "output_type": "stream",
     "text": [
      "\n"
     ]
    }
   ],
   "source": [
    "from scripts.model_runner import run_models\n",
    "\n",
    "quant_thresh_metrics = []\n",
    "quant = get_model_specs(subset=['QUANT'])\n",
    "w = 10 # seconds\n",
    "# run quant with no thresholding\n",
    "print(f\"Running QUANT for window size {w} seconds, no thresholding\")\n",
    "X_tr, X_te, y_tr, y_te = datasets[w]\n",
    "res = run_models(\n",
    "\tX_tr, X_te, y_tr, y_te,\n",
    "\tmodel_specs=quant,\n",
    "\tverbose=True,\n",
    "\tensemble_models=False,\n",
    "\tensemble_by_kind=False,\n",
    "\twindow_size=w,\n",
    "\ttune_threshold=False\n",
    ")\n",
    "res[\"window_size\"] = w\n",
    "res[\"fn_factor\"] = 0 # no fn_factor for no thresholding\n",
    "# res[\"tp_factor\"] = 0 # no tp_factor for no thresholding\n",
    "quant_thresh_metrics.append(res)\n",
    "print(\"\")\n",
    "# run QUANT with fn_factors ranging from 1 to 5 and tp_factors ranging from 1 to 5\n",
    "for fn_factor in np.arange(1, 5):\n",
    "\t# for tp_factor in [1]:\n",
    "\tprint(f\"Running models for window size {w} seconds, tuning with fn_factor={fn_factor}\")\n",
    "\tX_tr, X_te, y_tr, y_te = datasets[w]\n",
    "\tres = run_models(\n",
    "\t\tX_tr, X_te, y_tr, y_te,\n",
    "\t\tmodel_specs=quant,\n",
    "\t\tverbose=True,\n",
    "\t\tensemble_models=False,\n",
    "\t\tensemble_by_kind=False,\n",
    "\t\twindow_size=w,\n",
    "\t\ttune_threshold=True,\n",
    "\t\tfn_factor=fn_factor,\n",
    "\t\ttp_factor=0\n",
    "\t)\n",
    "\tres[\"window_size\"] = w\n",
    "\tres[\"fn_factor\"] = fn_factor\n",
    "\t# res[\"tp_factor\"] = tp_factor\n",
    "\tquant_thresh_metrics.append(res)\n",
    "\tprint(\"\")\n",
    "quant_thresh_df = pd.concat(quant_thresh_metrics, ignore_index=True)\n",
    "quant_thresh_df.to_csv(RES_DIR / \"quant_thresh_metrics_tp0.csv\", index=False)"
   ]
  },
  {
   "cell_type": "code",
   "execution_count": 17,
   "id": "2ad8930f",
   "metadata": {},
   "outputs": [
    {
     "data": {
      "text/html": [
       "<div>\n",
       "<style scoped>\n",
       "    .dataframe tbody tr th:only-of-type {\n",
       "        vertical-align: middle;\n",
       "    }\n",
       "\n",
       "    .dataframe tbody tr th {\n",
       "        vertical-align: top;\n",
       "    }\n",
       "\n",
       "    .dataframe thead th {\n",
       "        text-align: right;\n",
       "    }\n",
       "</style>\n",
       "<table border=\"1\" class=\"dataframe\">\n",
       "  <thead>\n",
       "    <tr style=\"text-align: right;\">\n",
       "      <th></th>\n",
       "      <th>model</th>\n",
       "      <th>seed</th>\n",
       "      <th>window_size</th>\n",
       "      <th>runtime</th>\n",
       "      <th>delay</th>\n",
       "      <th>precision</th>\n",
       "      <th>recall</th>\n",
       "      <th>specificity</th>\n",
       "      <th>f1-score</th>\n",
       "      <th>auc</th>\n",
       "      <th>false alarm rate</th>\n",
       "      <th>miss rate</th>\n",
       "      <th>gain</th>\n",
       "      <th>thresh</th>\n",
       "      <th>fn_factor</th>\n",
       "    </tr>\n",
       "  </thead>\n",
       "  <tbody>\n",
       "    <tr>\n",
       "      <th>4</th>\n",
       "      <td>QUANT</td>\n",
       "      <td>0</td>\n",
       "      <td>10</td>\n",
       "      <td>4.942549</td>\n",
       "      <td>-5.868571</td>\n",
       "      <td>0.600000</td>\n",
       "      <td>1.000000</td>\n",
       "      <td>0.999994</td>\n",
       "      <td>0.750000</td>\n",
       "      <td>0.999997</td>\n",
       "      <td>2.010286</td>\n",
       "      <td>0.000000</td>\n",
       "      <td>-0.000039</td>\n",
       "      <td>0.262626</td>\n",
       "      <td>4</td>\n",
       "    </tr>\n",
       "    <tr>\n",
       "      <th>3</th>\n",
       "      <td>QUANT</td>\n",
       "      <td>0</td>\n",
       "      <td>10</td>\n",
       "      <td>4.669322</td>\n",
       "      <td>-5.820952</td>\n",
       "      <td>0.600000</td>\n",
       "      <td>1.000000</td>\n",
       "      <td>0.999994</td>\n",
       "      <td>0.750000</td>\n",
       "      <td>0.999997</td>\n",
       "      <td>2.010286</td>\n",
       "      <td>0.000000</td>\n",
       "      <td>-0.000039</td>\n",
       "      <td>0.272727</td>\n",
       "      <td>3</td>\n",
       "    </tr>\n",
       "    <tr>\n",
       "      <th>2</th>\n",
       "      <td>QUANT</td>\n",
       "      <td>0</td>\n",
       "      <td>10</td>\n",
       "      <td>4.630676</td>\n",
       "      <td>-3.630476</td>\n",
       "      <td>0.840000</td>\n",
       "      <td>1.000000</td>\n",
       "      <td>0.999998</td>\n",
       "      <td>0.913043</td>\n",
       "      <td>0.999999</td>\n",
       "      <td>0.574367</td>\n",
       "      <td>0.000000</td>\n",
       "      <td>-0.000011</td>\n",
       "      <td>0.404040</td>\n",
       "      <td>2</td>\n",
       "    </tr>\n",
       "    <tr>\n",
       "      <th>1</th>\n",
       "      <td>QUANT</td>\n",
       "      <td>0</td>\n",
       "      <td>10</td>\n",
       "      <td>4.639773</td>\n",
       "      <td>-1.630476</td>\n",
       "      <td>0.826087</td>\n",
       "      <td>0.904762</td>\n",
       "      <td>0.999998</td>\n",
       "      <td>0.863636</td>\n",
       "      <td>0.952380</td>\n",
       "      <td>0.574367</td>\n",
       "      <td>0.287184</td>\n",
       "      <td>-0.000022</td>\n",
       "      <td>0.464646</td>\n",
       "      <td>1</td>\n",
       "    </tr>\n",
       "    <tr>\n",
       "      <th>0</th>\n",
       "      <td>QUANT</td>\n",
       "      <td>0</td>\n",
       "      <td>10</td>\n",
       "      <td>4.614434</td>\n",
       "      <td>-1.582857</td>\n",
       "      <td>0.863636</td>\n",
       "      <td>0.904762</td>\n",
       "      <td>0.999999</td>\n",
       "      <td>0.883721</td>\n",
       "      <td>0.952380</td>\n",
       "      <td>0.430776</td>\n",
       "      <td>0.287184</td>\n",
       "      <td>-0.000019</td>\n",
       "      <td>0.500000</td>\n",
       "      <td>0</td>\n",
       "    </tr>\n",
       "  </tbody>\n",
       "</table>\n",
       "</div>"
      ],
      "text/plain": [
       "   model seed  window_size   runtime     delay  precision    recall  \\\n",
       "4  QUANT    0           10  4.942549 -5.868571   0.600000  1.000000   \n",
       "3  QUANT    0           10  4.669322 -5.820952   0.600000  1.000000   \n",
       "2  QUANT    0           10  4.630676 -3.630476   0.840000  1.000000   \n",
       "1  QUANT    0           10  4.639773 -1.630476   0.826087  0.904762   \n",
       "0  QUANT    0           10  4.614434 -1.582857   0.863636  0.904762   \n",
       "\n",
       "   specificity  f1-score       auc  false alarm rate  miss rate      gain  \\\n",
       "4     0.999994  0.750000  0.999997          2.010286   0.000000 -0.000039   \n",
       "3     0.999994  0.750000  0.999997          2.010286   0.000000 -0.000039   \n",
       "2     0.999998  0.913043  0.999999          0.574367   0.000000 -0.000011   \n",
       "1     0.999998  0.863636  0.952380          0.574367   0.287184 -0.000022   \n",
       "0     0.999999  0.883721  0.952380          0.430776   0.287184 -0.000019   \n",
       "\n",
       "     thresh  fn_factor  \n",
       "4  0.262626          4  \n",
       "3  0.272727          3  \n",
       "2  0.404040          2  \n",
       "1  0.464646          1  \n",
       "0  0.500000          0  "
      ]
     },
     "execution_count": 17,
     "metadata": {},
     "output_type": "execute_result"
    }
   ],
   "source": [
    "quant_thresh_df.sort_values(by=['fn_factor'], ascending=False)"
   ]
  },
  {
   "cell_type": "code",
   "execution_count": 18,
   "id": "dfc3eeb4",
   "metadata": {},
   "outputs": [
    {
     "data": {
      "text/html": [
       "<div>\n",
       "<style scoped>\n",
       "    .dataframe tbody tr th:only-of-type {\n",
       "        vertical-align: middle;\n",
       "    }\n",
       "\n",
       "    .dataframe tbody tr th {\n",
       "        vertical-align: top;\n",
       "    }\n",
       "\n",
       "    .dataframe thead th {\n",
       "        text-align: right;\n",
       "    }\n",
       "</style>\n",
       "<table border=\"1\" class=\"dataframe\">\n",
       "  <thead>\n",
       "    <tr style=\"text-align: right;\">\n",
       "      <th></th>\n",
       "      <th>model</th>\n",
       "      <th>seed</th>\n",
       "      <th>window_size</th>\n",
       "      <th>runtime</th>\n",
       "      <th>delay</th>\n",
       "      <th>precision</th>\n",
       "      <th>recall</th>\n",
       "      <th>specificity</th>\n",
       "      <th>f1-score</th>\n",
       "      <th>auc</th>\n",
       "      <th>false alarm rate</th>\n",
       "      <th>miss rate</th>\n",
       "      <th>gain</th>\n",
       "      <th>thresh</th>\n",
       "      <th>fn_factor</th>\n",
       "      <th>tp_factor</th>\n",
       "    </tr>\n",
       "  </thead>\n",
       "  <tbody>\n",
       "    <tr>\n",
       "      <th>13</th>\n",
       "      <td>QUANT</td>\n",
       "      <td>0</td>\n",
       "      <td>10</td>\n",
       "      <td>4.631296</td>\n",
       "      <td>-3.630476</td>\n",
       "      <td>0.840000</td>\n",
       "      <td>1.000000</td>\n",
       "      <td>0.999998</td>\n",
       "      <td>0.913043</td>\n",
       "      <td>0.999999</td>\n",
       "      <td>0.574367</td>\n",
       "      <td>0.000000</td>\n",
       "      <td>6.963636</td>\n",
       "      <td>0.404040</td>\n",
       "      <td>4</td>\n",
       "      <td>1</td>\n",
       "    </tr>\n",
       "    <tr>\n",
       "      <th>9</th>\n",
       "      <td>QUANT</td>\n",
       "      <td>0</td>\n",
       "      <td>10</td>\n",
       "      <td>4.660153</td>\n",
       "      <td>-3.630476</td>\n",
       "      <td>0.840000</td>\n",
       "      <td>1.000000</td>\n",
       "      <td>0.999998</td>\n",
       "      <td>0.913043</td>\n",
       "      <td>0.999999</td>\n",
       "      <td>0.574367</td>\n",
       "      <td>0.000000</td>\n",
       "      <td>6.963636</td>\n",
       "      <td>0.404040</td>\n",
       "      <td>3</td>\n",
       "      <td>1</td>\n",
       "    </tr>\n",
       "    <tr>\n",
       "      <th>5</th>\n",
       "      <td>QUANT</td>\n",
       "      <td>0</td>\n",
       "      <td>10</td>\n",
       "      <td>4.650528</td>\n",
       "      <td>-3.630476</td>\n",
       "      <td>0.840000</td>\n",
       "      <td>1.000000</td>\n",
       "      <td>0.999998</td>\n",
       "      <td>0.913043</td>\n",
       "      <td>0.999999</td>\n",
       "      <td>0.574367</td>\n",
       "      <td>0.000000</td>\n",
       "      <td>6.963636</td>\n",
       "      <td>0.404040</td>\n",
       "      <td>2</td>\n",
       "      <td>1</td>\n",
       "    </tr>\n",
       "    <tr>\n",
       "      <th>1</th>\n",
       "      <td>QUANT</td>\n",
       "      <td>0</td>\n",
       "      <td>10</td>\n",
       "      <td>4.739713</td>\n",
       "      <td>-1.630476</td>\n",
       "      <td>0.826087</td>\n",
       "      <td>0.904762</td>\n",
       "      <td>0.999998</td>\n",
       "      <td>0.863636</td>\n",
       "      <td>0.952380</td>\n",
       "      <td>0.574367</td>\n",
       "      <td>0.287184</td>\n",
       "      <td>6.963619</td>\n",
       "      <td>0.464646</td>\n",
       "      <td>1</td>\n",
       "      <td>1</td>\n",
       "    </tr>\n",
       "  </tbody>\n",
       "</table>\n",
       "</div>"
      ],
      "text/plain": [
       "    model  seed  window_size   runtime     delay  precision    recall  \\\n",
       "13  QUANT     0           10  4.631296 -3.630476   0.840000  1.000000   \n",
       "9   QUANT     0           10  4.660153 -3.630476   0.840000  1.000000   \n",
       "5   QUANT     0           10  4.650528 -3.630476   0.840000  1.000000   \n",
       "1   QUANT     0           10  4.739713 -1.630476   0.826087  0.904762   \n",
       "\n",
       "    specificity  f1-score       auc  false alarm rate  miss rate      gain  \\\n",
       "13     0.999998  0.913043  0.999999          0.574367   0.000000  6.963636   \n",
       "9      0.999998  0.913043  0.999999          0.574367   0.000000  6.963636   \n",
       "5      0.999998  0.913043  0.999999          0.574367   0.000000  6.963636   \n",
       "1      0.999998  0.863636  0.952380          0.574367   0.287184  6.963619   \n",
       "\n",
       "      thresh  fn_factor  tp_factor  \n",
       "13  0.404040          4          1  \n",
       "9   0.404040          3          1  \n",
       "5   0.404040          2          1  \n",
       "1   0.464646          1          1  "
      ]
     },
     "execution_count": 18,
     "metadata": {},
     "output_type": "execute_result"
    }
   ],
   "source": [
    "quant_thresh_df_old = pd.read_csv(RES_DIR / \"quant_thresh_metrics.csv\")\n",
    "# quant_thresh_df.sort_values(by=['fn_factor', 'tp_factor'], ascending=False)\n",
    "quant_thresh_df_old.query(\"tp_factor==1\").sort_values(by=['fn_factor'], ascending=False)"
   ]
  },
  {
   "cell_type": "code",
   "execution_count": 23,
   "id": "64f80389",
   "metadata": {},
   "outputs": [
    {
     "data": {
      "image/png": "[encoded data removed]",
      "text/plain": [
       "<Figure size 2800x1600 with 1 Axes>"
      ]
     },
     "metadata": {},
     "output_type": "display_data"
    }
   ],
   "source": [
    "# Plot miss rate vs fn_factor and tp_factor\n",
    "plt.figure(figsize=(7, 4), dpi=400)\n",
    "x = quant_thresh_df['fn_factor']\n",
    "plt.plot(x, quant_thresh_df['miss rate'],\n",
    "\t\t label='Miss Rate', marker='o')\n",
    "plt.plot(x, quant_thresh_df['false alarm rate'],\n",
    "\t\t label='False Alarm Rate', marker='*')\n",
    "plt.plot(x, quant_thresh_df['gain']*10000,\n",
    "\t\t label=r'Gain $\\times 10^4$', marker='+')\n",
    "plt.xlabel(\"False Negative Factor\")\n",
    "plt.ylabel(\"Rate\")\n",
    "# plt.title(\"Miss Rate vs False Negative Factor\")\n",
    "plt.legend()\n",
    "# plt.savefig(FIG_DIR / \"miss_rate_vs_fn_factor.pdf\", bbox_inches='tight')\n",
    "plt.show()"
   ]
  },
  {
   "cell_type": "code",
   "execution_count": 24,
   "id": "312b0f75",
   "metadata": {},
   "outputs": [
    {
     "name": "stderr",
     "output_type": "stream",
     "text": [
      "2025-08-07 14:26:58,867 [INFO] Training models (seed=0)\n"
     ]
    },
    {
     "name": "stdout",
     "output_type": "stream",
     "text": [
      "Running models for window size 10 seconds, thresh=False\n",
      "Selected models: ['Catch22', 'QUANT', 'DummyADL', 'DummyFall']\n"
     ]
    },
    {
     "name": "stderr",
     "output_type": "stream",
     "text": [
      "Training (seed=0): 100%|██████████| 4/4 [00:11<00:00,  2.94s/it]\n",
      "2025-08-07 14:27:10,618 [INFO] Training models (seed=1)\n",
      "Training (seed=1): 100%|██████████| 4/4 [00:10<00:00,  2.66s/it]\n",
      "2025-08-07 14:27:21,245 [INFO] Training models (seed=2)\n",
      "Training (seed=2): 100%|██████████| 4/4 [00:10<00:00,  2.68s/it]\n",
      "Evaluating models: 100%|██████████| 8/8 [02:30<00:00, 18.82s/it]\n",
      "2025-08-07 14:30:02,528 [INFO] ✅ Evaluation complete\n",
      "2025-08-07 14:30:02,534 [INFO] Training models (seed=0)\n"
     ]
    },
    {
     "name": "stdout",
     "output_type": "stream",
     "text": [
      "\n",
      "Running models for window size 3 seconds, thresh=False\n",
      "Selected models: ['MiniRocket', 'DummyADL', 'DummyFall']\n"
     ]
    },
    {
     "name": "stderr",
     "output_type": "stream",
     "text": [
      "Training (seed=0): 100%|██████████| 3/3 [00:00<00:00,  4.54it/s]\n",
      "2025-08-07 14:30:03,196 [INFO] Training models (seed=1)\n",
      "Training (seed=1): 100%|██████████| 3/3 [00:00<00:00,  5.35it/s]\n",
      "2025-08-07 14:30:03,758 [INFO] Training models (seed=2)\n",
      "Training (seed=2): 100%|██████████| 3/3 [00:00<00:00,  5.22it/s]\n",
      "Evaluating models: 100%|██████████| 5/5 [00:09<00:00,  1.88s/it]\n",
      "2025-08-07 14:30:13,740 [INFO] ✅ Evaluation complete\n",
      "2025-08-07 14:30:13,742 [INFO] Training models (seed=0)\n"
     ]
    },
    {
     "name": "stdout",
     "output_type": "stream",
     "text": [
      "\n",
      "Running models for window size 60 seconds, thresh=False\n",
      "Selected models: ['ExtraTrees', 'DummyADL', 'DummyFall']\n"
     ]
    },
    {
     "name": "stderr",
     "output_type": "stream",
     "text": [
      "Training (seed=0): 100%|██████████| 3/3 [00:03<00:00,  1.18s/it]\n",
      "2025-08-07 14:30:17,295 [INFO] Training models (seed=1)\n",
      "Training (seed=1): 100%|██████████| 3/3 [00:03<00:00,  1.14s/it]\n",
      "2025-08-07 14:30:20,729 [INFO] Training models (seed=2)\n",
      "Training (seed=2): 100%|██████████| 3/3 [00:03<00:00,  1.18s/it]\n",
      "Evaluating models: 100%|██████████| 5/5 [00:04<00:00,  1.11it/s]\n",
      "2025-08-07 14:30:28,760 [INFO] ✅ Evaluation complete\n",
      "2025-08-07 14:30:28,765 [INFO] Training models (seed=0)\n"
     ]
    },
    {
     "name": "stdout",
     "output_type": "stream",
     "text": [
      "\n",
      "Running models for window size 10 seconds, thresh=True\n",
      "Selected models: ['Catch22', 'QUANT']\n"
     ]
    },
    {
     "name": "stderr",
     "output_type": "stream",
     "text": [
      "Training (seed=0):   0%|          | 0/2 [00:00<?, ?it/s]2025-08-07 14:30:46,137 [INFO] Catch22: threshold tuned to 0.38\n",
      "Training (seed=0):  50%|█████     | 1/2 [00:17<00:17, 17.37s/it]2025-08-07 14:31:39,949 [INFO] QUANT: threshold tuned to 0.40\n",
      "Training (seed=0): 100%|██████████| 2/2 [01:11<00:00, 35.59s/it]\n",
      "2025-08-07 14:31:39,950 [INFO] Training models (seed=1)\n",
      "Training (seed=1): 100%|██████████| 2/2 [00:19<00:00,  9.89s/it]\n",
      "2025-08-07 14:31:59,736 [INFO] Training models (seed=2)\n",
      "Training (seed=2): 100%|██████████| 2/2 [00:11<00:00,  5.58s/it]\n",
      "Evaluating models: 100%|██████████| 6/6 [54:41<00:00, 546.94s/it]\n",
      "2025-08-07 15:26:52,546 [INFO] ✅ Evaluation complete\n",
      "2025-08-07 15:26:52,549 [INFO] Training models (seed=0)\n"
     ]
    },
    {
     "name": "stdout",
     "output_type": "stream",
     "text": [
      "\n",
      "Running models for window size 3 seconds, thresh=True\n",
      "Selected models: ['MiniRocket']\n"
     ]
    },
    {
     "name": "stderr",
     "output_type": "stream",
     "text": [
      "Training (seed=0):   0%|          | 0/1 [00:00<?, ?it/s]2025-08-07 15:26:57,652 [INFO] MiniRocket: threshold tuned to 0.01\n",
      "Training (seed=0): 100%|██████████| 1/1 [00:04<00:00,  4.98s/it]\n",
      "2025-08-07 15:26:57,654 [INFO] Training models (seed=1)\n",
      "Training (seed=1): 100%|██████████| 1/1 [00:00<00:00,  1.70it/s]\n",
      "2025-08-07 15:26:58,244 [INFO] Training models (seed=2)\n",
      "Training (seed=2): 100%|██████████| 1/1 [00:00<00:00,  1.68it/s]\n",
      "Evaluating models: 100%|██████████| 3/3 [00:08<00:00,  2.81s/it]\n",
      "2025-08-07 15:27:07,275 [INFO] ✅ Evaluation complete\n",
      "2025-08-07 15:27:07,277 [INFO] Training models (seed=0)\n"
     ]
    },
    {
     "name": "stdout",
     "output_type": "stream",
     "text": [
      "\n",
      "Running models for window size 60 seconds, thresh=True\n",
      "Selected models: ['ExtraTrees']\n"
     ]
    },
    {
     "name": "stderr",
     "output_type": "stream",
     "text": [
      "Training (seed=0):   0%|          | 0/1 [00:00<?, ?it/s]2025-08-07 15:27:28,625 [INFO] ExtraTrees: threshold tuned to 0.48\n",
      "Training (seed=0): 100%|██████████| 1/1 [00:21<00:00, 21.35s/it]\n",
      "2025-08-07 15:27:28,627 [INFO] Training models (seed=1)\n",
      "Training (seed=1): 100%|██████████| 1/1 [00:03<00:00,  3.51s/it]\n",
      "2025-08-07 15:27:32,140 [INFO] Training models (seed=2)\n",
      "Training (seed=2): 100%|██████████| 1/1 [00:03<00:00,  3.59s/it]\n",
      "Evaluating models: 100%|██████████| 3/3 [00:04<00:00,  1.47s/it]\n",
      "2025-08-07 15:27:40,140 [INFO] ✅ Evaluation complete\n"
     ]
    },
    {
     "name": "stdout",
     "output_type": "stream",
     "text": [
      "\n"
     ]
    }
   ],
   "source": [
    "from scripts.model_runner import run_models\n",
    "\n",
    "thresh_metrics = []\n",
    "baselines = get_model_specs(kind=\"baseline\")\n",
    "for t in [False, True]:\n",
    "\tfor win in win_sizes:\n",
    "\t\tprint(f\"Running models for window size {win} seconds, thresh={t}\")\n",
    "\t\t# Select models for this window size\n",
    "\t\tmodels = [m for m in MODEL_SPECS\n",
    "\t\t\t if m.kind != \"baseline\" and m.name != \"ResNet\"\\\n",
    "\t\t\t\t  and best_windows[m.name] == win]\n",
    "\t\tif not t and models != []:\n",
    "\t\t\tmodels += baselines\n",
    "\t\tprint(f\"Selected models: {[m.name for m in models]}\")\n",
    "\t\tX_tr, X_te, y_tr, y_te = datasets[win]\n",
    "\t\tres = run_models(\n",
    "\t\t\tX_tr, X_te, y_tr, y_te,\n",
    "\t\t\tmodel_specs=models,\n",
    "\t\t\tmodel_seeds=SEEDS,\n",
    "\t\t\tverbose=True,\n",
    "\t\t\tensemble_models=False,\n",
    "\t\t\tensemble_by_kind=False,\n",
    "\t\t\twindow_size=win,\n",
    "\t\t\ttune_threshold=t\n",
    "\t\t)\n",
    "\t\tres[\"window_size\"] = win\n",
    "\t\tthresh_metrics.append(res)\n",
    "\t\tprint(\"\")\n",
    "thresh_df = pd.concat(thresh_metrics, ignore_index=True)\n",
    "thresh_df.to_csv(RES_DIR / \"thresh_metrics_new.csv\", index=False)"
   ]
  },
  {
   "cell_type": "code",
   "execution_count": 26,
   "id": "0f3ce67c",
   "metadata": {},
   "outputs": [
    {
     "data": {
      "text/html": [
       "<div>\n",
       "<style scoped>\n",
       "    .dataframe tbody tr th:only-of-type {\n",
       "        vertical-align: middle;\n",
       "    }\n",
       "\n",
       "    .dataframe tbody tr th {\n",
       "        vertical-align: top;\n",
       "    }\n",
       "\n",
       "    .dataframe thead th {\n",
       "        text-align: right;\n",
       "    }\n",
       "</style>\n",
       "<table border=\"1\" class=\"dataframe\">\n",
       "  <thead>\n",
       "    <tr style=\"text-align: right;\">\n",
       "      <th></th>\n",
       "      <th>model</th>\n",
       "      <th>seed</th>\n",
       "      <th>window_size</th>\n",
       "      <th>runtime</th>\n",
       "      <th>delay</th>\n",
       "      <th>precision</th>\n",
       "      <th>recall</th>\n",
       "      <th>specificity</th>\n",
       "      <th>f1-score</th>\n",
       "      <th>auc</th>\n",
       "      <th>false alarm rate</th>\n",
       "      <th>miss rate</th>\n",
       "      <th>gain</th>\n",
       "      <th>thresh</th>\n",
       "    </tr>\n",
       "  </thead>\n",
       "  <tbody>\n",
       "    <tr>\n",
       "      <th>1</th>\n",
       "      <td>QUANT</td>\n",
       "      <td>0</td>\n",
       "      <td>10</td>\n",
       "      <td>4.638843</td>\n",
       "      <td>-1.582857</td>\n",
       "      <td>0.863636</td>\n",
       "      <td>0.904762</td>\n",
       "      <td>0.999999</td>\n",
       "      <td>0.883721</td>\n",
       "      <td>0.952380</td>\n",
       "      <td>0.430776</td>\n",
       "      <td>0.287184</td>\n",
       "      <td>-0.000019</td>\n",
       "      <td>0.500000</td>\n",
       "    </tr>\n",
       "    <tr>\n",
       "      <th>5</th>\n",
       "      <td>QUANT</td>\n",
       "      <td>1</td>\n",
       "      <td>10</td>\n",
       "      <td>4.659629</td>\n",
       "      <td>-1.344762</td>\n",
       "      <td>0.826087</td>\n",
       "      <td>0.904762</td>\n",
       "      <td>0.999998</td>\n",
       "      <td>0.863636</td>\n",
       "      <td>0.952380</td>\n",
       "      <td>0.574367</td>\n",
       "      <td>0.287184</td>\n",
       "      <td>-0.000022</td>\n",
       "      <td>0.500000</td>\n",
       "    </tr>\n",
       "    <tr>\n",
       "      <th>7</th>\n",
       "      <td>QUANT</td>\n",
       "      <td>2</td>\n",
       "      <td>10</td>\n",
       "      <td>4.708655</td>\n",
       "      <td>-1.535238</td>\n",
       "      <td>0.826087</td>\n",
       "      <td>0.904762</td>\n",
       "      <td>0.999998</td>\n",
       "      <td>0.863636</td>\n",
       "      <td>0.952380</td>\n",
       "      <td>0.574367</td>\n",
       "      <td>0.287184</td>\n",
       "      <td>-0.000022</td>\n",
       "      <td>0.500000</td>\n",
       "    </tr>\n",
       "    <tr>\n",
       "      <th>19</th>\n",
       "      <td>QUANT</td>\n",
       "      <td>0</td>\n",
       "      <td>10</td>\n",
       "      <td>287.890778</td>\n",
       "      <td>-3.630476</td>\n",
       "      <td>0.840000</td>\n",
       "      <td>1.000000</td>\n",
       "      <td>0.999998</td>\n",
       "      <td>0.913043</td>\n",
       "      <td>0.999999</td>\n",
       "      <td>0.574367</td>\n",
       "      <td>0.000000</td>\n",
       "      <td>-0.000011</td>\n",
       "      <td>0.404040</td>\n",
       "    </tr>\n",
       "    <tr>\n",
       "      <th>21</th>\n",
       "      <td>QUANT</td>\n",
       "      <td>1</td>\n",
       "      <td>10</td>\n",
       "      <td>490.043008</td>\n",
       "      <td>-4.916190</td>\n",
       "      <td>0.840000</td>\n",
       "      <td>1.000000</td>\n",
       "      <td>0.999998</td>\n",
       "      <td>0.913043</td>\n",
       "      <td>0.999999</td>\n",
       "      <td>0.574367</td>\n",
       "      <td>0.000000</td>\n",
       "      <td>-0.000011</td>\n",
       "      <td>0.404040</td>\n",
       "    </tr>\n",
       "    <tr>\n",
       "      <th>23</th>\n",
       "      <td>QUANT</td>\n",
       "      <td>2</td>\n",
       "      <td>10</td>\n",
       "      <td>485.034324</td>\n",
       "      <td>-3.630476</td>\n",
       "      <td>0.807692</td>\n",
       "      <td>1.000000</td>\n",
       "      <td>0.999998</td>\n",
       "      <td>0.893617</td>\n",
       "      <td>0.999999</td>\n",
       "      <td>0.717959</td>\n",
       "      <td>0.000000</td>\n",
       "      <td>-0.000014</td>\n",
       "      <td>0.404040</td>\n",
       "    </tr>\n",
       "    <tr>\n",
       "      <th>8</th>\n",
       "      <td>MiniRocket</td>\n",
       "      <td>0</td>\n",
       "      <td>3</td>\n",
       "      <td>1.226878</td>\n",
       "      <td>2.800000</td>\n",
       "      <td>0.739130</td>\n",
       "      <td>0.809524</td>\n",
       "      <td>0.999998</td>\n",
       "      <td>0.772727</td>\n",
       "      <td>0.904761</td>\n",
       "      <td>0.861551</td>\n",
       "      <td>0.574367</td>\n",
       "      <td>-0.000039</td>\n",
       "      <td>0.500000</td>\n",
       "    </tr>\n",
       "    <tr>\n",
       "      <th>11</th>\n",
       "      <td>MiniRocket</td>\n",
       "      <td>1</td>\n",
       "      <td>3</td>\n",
       "      <td>1.230315</td>\n",
       "      <td>2.800000</td>\n",
       "      <td>0.739130</td>\n",
       "      <td>0.809524</td>\n",
       "      <td>0.999998</td>\n",
       "      <td>0.772727</td>\n",
       "      <td>0.904761</td>\n",
       "      <td>0.861551</td>\n",
       "      <td>0.574367</td>\n",
       "      <td>-0.000039</td>\n",
       "      <td>0.500000</td>\n",
       "    </tr>\n",
       "    <tr>\n",
       "      <th>12</th>\n",
       "      <td>MiniRocket</td>\n",
       "      <td>2</td>\n",
       "      <td>3</td>\n",
       "      <td>1.211996</td>\n",
       "      <td>2.800000</td>\n",
       "      <td>0.739130</td>\n",
       "      <td>0.809524</td>\n",
       "      <td>0.999998</td>\n",
       "      <td>0.772727</td>\n",
       "      <td>0.904761</td>\n",
       "      <td>0.861551</td>\n",
       "      <td>0.574367</td>\n",
       "      <td>-0.000039</td>\n",
       "      <td>0.500000</td>\n",
       "    </tr>\n",
       "    <tr>\n",
       "      <th>24</th>\n",
       "      <td>MiniRocket</td>\n",
       "      <td>0</td>\n",
       "      <td>3</td>\n",
       "      <td>0.952643</td>\n",
       "      <td>2.800000</td>\n",
       "      <td>0.739130</td>\n",
       "      <td>0.809524</td>\n",
       "      <td>0.999998</td>\n",
       "      <td>0.772727</td>\n",
       "      <td>0.904761</td>\n",
       "      <td>0.861551</td>\n",
       "      <td>0.574367</td>\n",
       "      <td>-0.000039</td>\n",
       "      <td>0.010101</td>\n",
       "    </tr>\n",
       "    <tr>\n",
       "      <th>25</th>\n",
       "      <td>MiniRocket</td>\n",
       "      <td>1</td>\n",
       "      <td>3</td>\n",
       "      <td>1.180646</td>\n",
       "      <td>2.800000</td>\n",
       "      <td>0.739130</td>\n",
       "      <td>0.809524</td>\n",
       "      <td>0.999998</td>\n",
       "      <td>0.772727</td>\n",
       "      <td>0.904761</td>\n",
       "      <td>0.861551</td>\n",
       "      <td>0.574367</td>\n",
       "      <td>-0.000039</td>\n",
       "      <td>0.010101</td>\n",
       "    </tr>\n",
       "    <tr>\n",
       "      <th>26</th>\n",
       "      <td>MiniRocket</td>\n",
       "      <td>2</td>\n",
       "      <td>3</td>\n",
       "      <td>1.192265</td>\n",
       "      <td>2.800000</td>\n",
       "      <td>0.739130</td>\n",
       "      <td>0.809524</td>\n",
       "      <td>0.999998</td>\n",
       "      <td>0.772727</td>\n",
       "      <td>0.904761</td>\n",
       "      <td>0.861551</td>\n",
       "      <td>0.574367</td>\n",
       "      <td>-0.000039</td>\n",
       "      <td>0.010101</td>\n",
       "    </tr>\n",
       "    <tr>\n",
       "      <th>13</th>\n",
       "      <td>ExtraTrees</td>\n",
       "      <td>0</td>\n",
       "      <td>60</td>\n",
       "      <td>0.546279</td>\n",
       "      <td>3.998095</td>\n",
       "      <td>0.941176</td>\n",
       "      <td>0.761905</td>\n",
       "      <td>1.000000</td>\n",
       "      <td>0.842105</td>\n",
       "      <td>0.880952</td>\n",
       "      <td>0.143592</td>\n",
       "      <td>0.717959</td>\n",
       "      <td>-0.000031</td>\n",
       "      <td>0.500000</td>\n",
       "    </tr>\n",
       "    <tr>\n",
       "      <th>16</th>\n",
       "      <td>ExtraTrees</td>\n",
       "      <td>1</td>\n",
       "      <td>60</td>\n",
       "      <td>0.547517</td>\n",
       "      <td>3.998095</td>\n",
       "      <td>0.888889</td>\n",
       "      <td>0.761905</td>\n",
       "      <td>0.999999</td>\n",
       "      <td>0.820513</td>\n",
       "      <td>0.880952</td>\n",
       "      <td>0.287184</td>\n",
       "      <td>0.717959</td>\n",
       "      <td>-0.000033</td>\n",
       "      <td>0.500000</td>\n",
       "    </tr>\n",
       "    <tr>\n",
       "      <th>17</th>\n",
       "      <td>ExtraTrees</td>\n",
       "      <td>2</td>\n",
       "      <td>60</td>\n",
       "      <td>0.550365</td>\n",
       "      <td>4.569524</td>\n",
       "      <td>0.842105</td>\n",
       "      <td>0.761905</td>\n",
       "      <td>0.999999</td>\n",
       "      <td>0.800000</td>\n",
       "      <td>0.880952</td>\n",
       "      <td>0.430776</td>\n",
       "      <td>0.717959</td>\n",
       "      <td>-0.000036</td>\n",
       "      <td>0.500000</td>\n",
       "    </tr>\n",
       "    <tr>\n",
       "      <th>27</th>\n",
       "      <td>ExtraTrees</td>\n",
       "      <td>0</td>\n",
       "      <td>60</td>\n",
       "      <td>0.562433</td>\n",
       "      <td>3.998095</td>\n",
       "      <td>0.941176</td>\n",
       "      <td>0.761905</td>\n",
       "      <td>1.000000</td>\n",
       "      <td>0.842105</td>\n",
       "      <td>0.880952</td>\n",
       "      <td>0.143592</td>\n",
       "      <td>0.717959</td>\n",
       "      <td>-0.000031</td>\n",
       "      <td>0.484848</td>\n",
       "    </tr>\n",
       "    <tr>\n",
       "      <th>28</th>\n",
       "      <td>ExtraTrees</td>\n",
       "      <td>1</td>\n",
       "      <td>60</td>\n",
       "      <td>0.565891</td>\n",
       "      <td>3.998095</td>\n",
       "      <td>0.888889</td>\n",
       "      <td>0.761905</td>\n",
       "      <td>0.999999</td>\n",
       "      <td>0.820513</td>\n",
       "      <td>0.880952</td>\n",
       "      <td>0.287184</td>\n",
       "      <td>0.717959</td>\n",
       "      <td>-0.000033</td>\n",
       "      <td>0.484848</td>\n",
       "    </tr>\n",
       "    <tr>\n",
       "      <th>29</th>\n",
       "      <td>ExtraTrees</td>\n",
       "      <td>2</td>\n",
       "      <td>60</td>\n",
       "      <td>0.564347</td>\n",
       "      <td>3.998095</td>\n",
       "      <td>0.842105</td>\n",
       "      <td>0.761905</td>\n",
       "      <td>0.999999</td>\n",
       "      <td>0.800000</td>\n",
       "      <td>0.880952</td>\n",
       "      <td>0.430776</td>\n",
       "      <td>0.717959</td>\n",
       "      <td>-0.000036</td>\n",
       "      <td>0.484848</td>\n",
       "    </tr>\n",
       "    <tr>\n",
       "      <th>3</th>\n",
       "      <td>DummyFall</td>\n",
       "      <td>0</td>\n",
       "      <td>10</td>\n",
       "      <td>0.000502</td>\n",
       "      <td>0.000000</td>\n",
       "      <td>0.000084</td>\n",
       "      <td>1.000000</td>\n",
       "      <td>0.000000</td>\n",
       "      <td>0.000168</td>\n",
       "      <td>0.500000</td>\n",
       "      <td>35996.611232</td>\n",
       "      <td>0.000000</td>\n",
       "      <td>-0.696353</td>\n",
       "      <td>0.500000</td>\n",
       "    </tr>\n",
       "    <tr>\n",
       "      <th>10</th>\n",
       "      <td>DummyFall</td>\n",
       "      <td>0</td>\n",
       "      <td>3</td>\n",
       "      <td>0.000464</td>\n",
       "      <td>0.000000</td>\n",
       "      <td>0.000025</td>\n",
       "      <td>1.000000</td>\n",
       "      <td>0.000000</td>\n",
       "      <td>0.000050</td>\n",
       "      <td>0.500000</td>\n",
       "      <td>119995.979428</td>\n",
       "      <td>0.000000</td>\n",
       "      <td>-2.321317</td>\n",
       "      <td>0.500000</td>\n",
       "    </tr>\n",
       "    <tr>\n",
       "      <th>15</th>\n",
       "      <td>DummyFall</td>\n",
       "      <td>0</td>\n",
       "      <td>60</td>\n",
       "      <td>0.000548</td>\n",
       "      <td>0.000000</td>\n",
       "      <td>0.000503</td>\n",
       "      <td>1.000000</td>\n",
       "      <td>0.000000</td>\n",
       "      <td>0.001005</td>\n",
       "      <td>0.500000</td>\n",
       "      <td>5996.826620</td>\n",
       "      <td>0.000000</td>\n",
       "      <td>-0.116008</td>\n",
       "      <td>0.500000</td>\n",
       "    </tr>\n",
       "    <tr>\n",
       "      <th>2</th>\n",
       "      <td>DummyADL</td>\n",
       "      <td>0</td>\n",
       "      <td>10</td>\n",
       "      <td>0.049612</td>\n",
       "      <td>20.000000</td>\n",
       "      <td>0.000000</td>\n",
       "      <td>0.000000</td>\n",
       "      <td>1.000000</td>\n",
       "      <td>0.000000</td>\n",
       "      <td>0.500000</td>\n",
       "      <td>0.000000</td>\n",
       "      <td>3.015429</td>\n",
       "      <td>-0.000117</td>\n",
       "      <td>0.500000</td>\n",
       "    </tr>\n",
       "    <tr>\n",
       "      <th>9</th>\n",
       "      <td>DummyADL</td>\n",
       "      <td>0</td>\n",
       "      <td>3</td>\n",
       "      <td>0.047079</td>\n",
       "      <td>20.000000</td>\n",
       "      <td>0.000000</td>\n",
       "      <td>0.000000</td>\n",
       "      <td>1.000000</td>\n",
       "      <td>0.000000</td>\n",
       "      <td>0.500000</td>\n",
       "      <td>0.000000</td>\n",
       "      <td>3.015429</td>\n",
       "      <td>-0.000117</td>\n",
       "      <td>0.500000</td>\n",
       "    </tr>\n",
       "    <tr>\n",
       "      <th>14</th>\n",
       "      <td>DummyADL</td>\n",
       "      <td>0</td>\n",
       "      <td>60</td>\n",
       "      <td>0.084942</td>\n",
       "      <td>20.000000</td>\n",
       "      <td>0.000000</td>\n",
       "      <td>0.000000</td>\n",
       "      <td>1.000000</td>\n",
       "      <td>0.000000</td>\n",
       "      <td>0.500000</td>\n",
       "      <td>0.000000</td>\n",
       "      <td>3.015429</td>\n",
       "      <td>-0.000117</td>\n",
       "      <td>0.500000</td>\n",
       "    </tr>\n",
       "    <tr>\n",
       "      <th>0</th>\n",
       "      <td>Catch22</td>\n",
       "      <td>0</td>\n",
       "      <td>10</td>\n",
       "      <td>15.283486</td>\n",
       "      <td>-4.106667</td>\n",
       "      <td>0.580645</td>\n",
       "      <td>0.857143</td>\n",
       "      <td>0.999995</td>\n",
       "      <td>0.692308</td>\n",
       "      <td>0.928569</td>\n",
       "      <td>1.866694</td>\n",
       "      <td>0.430776</td>\n",
       "      <td>-0.000053</td>\n",
       "      <td>0.500000</td>\n",
       "    </tr>\n",
       "    <tr>\n",
       "      <th>4</th>\n",
       "      <td>Catch22</td>\n",
       "      <td>1</td>\n",
       "      <td>10</td>\n",
       "      <td>15.315226</td>\n",
       "      <td>-4.106667</td>\n",
       "      <td>0.600000</td>\n",
       "      <td>0.857143</td>\n",
       "      <td>0.999995</td>\n",
       "      <td>0.705882</td>\n",
       "      <td>0.928569</td>\n",
       "      <td>1.723102</td>\n",
       "      <td>0.430776</td>\n",
       "      <td>-0.000050</td>\n",
       "      <td>0.500000</td>\n",
       "    </tr>\n",
       "    <tr>\n",
       "      <th>6</th>\n",
       "      <td>Catch22</td>\n",
       "      <td>2</td>\n",
       "      <td>10</td>\n",
       "      <td>15.310400</td>\n",
       "      <td>-5.106667</td>\n",
       "      <td>0.593750</td>\n",
       "      <td>0.904762</td>\n",
       "      <td>0.999995</td>\n",
       "      <td>0.716981</td>\n",
       "      <td>0.952378</td>\n",
       "      <td>1.866694</td>\n",
       "      <td>0.287184</td>\n",
       "      <td>-0.000047</td>\n",
       "      <td>0.500000</td>\n",
       "    </tr>\n",
       "    <tr>\n",
       "      <th>18</th>\n",
       "      <td>Catch22</td>\n",
       "      <td>0</td>\n",
       "      <td>10</td>\n",
       "      <td>15.286388</td>\n",
       "      <td>-4.487619</td>\n",
       "      <td>0.473684</td>\n",
       "      <td>0.857143</td>\n",
       "      <td>0.999992</td>\n",
       "      <td>0.610169</td>\n",
       "      <td>0.928567</td>\n",
       "      <td>2.871837</td>\n",
       "      <td>0.430776</td>\n",
       "      <td>-0.000072</td>\n",
       "      <td>0.378182</td>\n",
       "    </tr>\n",
       "    <tr>\n",
       "      <th>20</th>\n",
       "      <td>Catch22</td>\n",
       "      <td>1</td>\n",
       "      <td>10</td>\n",
       "      <td>15.322823</td>\n",
       "      <td>-6.344762</td>\n",
       "      <td>0.473684</td>\n",
       "      <td>0.857143</td>\n",
       "      <td>0.999992</td>\n",
       "      <td>0.610169</td>\n",
       "      <td>0.928567</td>\n",
       "      <td>2.871837</td>\n",
       "      <td>0.430776</td>\n",
       "      <td>-0.000072</td>\n",
       "      <td>0.378182</td>\n",
       "    </tr>\n",
       "    <tr>\n",
       "      <th>22</th>\n",
       "      <td>Catch22</td>\n",
       "      <td>2</td>\n",
       "      <td>10</td>\n",
       "      <td>15.879979</td>\n",
       "      <td>-7.678095</td>\n",
       "      <td>0.513514</td>\n",
       "      <td>0.904762</td>\n",
       "      <td>0.999993</td>\n",
       "      <td>0.655172</td>\n",
       "      <td>0.952377</td>\n",
       "      <td>2.584653</td>\n",
       "      <td>0.287184</td>\n",
       "      <td>-0.000061</td>\n",
       "      <td>0.378182</td>\n",
       "    </tr>\n",
       "  </tbody>\n",
       "</table>\n",
       "</div>"
      ],
      "text/plain": [
       "         model  seed  window_size     runtime      delay  precision    recall  \\\n",
       "1        QUANT     0           10    4.638843  -1.582857   0.863636  0.904762   \n",
       "5        QUANT     1           10    4.659629  -1.344762   0.826087  0.904762   \n",
       "7        QUANT     2           10    4.708655  -1.535238   0.826087  0.904762   \n",
       "19       QUANT     0           10  287.890778  -3.630476   0.840000  1.000000   \n",
       "21       QUANT     1           10  490.043008  -4.916190   0.840000  1.000000   \n",
       "23       QUANT     2           10  485.034324  -3.630476   0.807692  1.000000   \n",
       "8   MiniRocket     0            3    1.226878   2.800000   0.739130  0.809524   \n",
       "11  MiniRocket     1            3    1.230315   2.800000   0.739130  0.809524   \n",
       "12  MiniRocket     2            3    1.211996   2.800000   0.739130  0.809524   \n",
       "24  MiniRocket     0            3    0.952643   2.800000   0.739130  0.809524   \n",
       "25  MiniRocket     1            3    1.180646   2.800000   0.739130  0.809524   \n",
       "26  MiniRocket     2            3    1.192265   2.800000   0.739130  0.809524   \n",
       "13  ExtraTrees     0           60    0.546279   3.998095   0.941176  0.761905   \n",
       "16  ExtraTrees     1           60    0.547517   3.998095   0.888889  0.761905   \n",
       "17  ExtraTrees     2           60    0.550365   4.569524   0.842105  0.761905   \n",
       "27  ExtraTrees     0           60    0.562433   3.998095   0.941176  0.761905   \n",
       "28  ExtraTrees     1           60    0.565891   3.998095   0.888889  0.761905   \n",
       "29  ExtraTrees     2           60    0.564347   3.998095   0.842105  0.761905   \n",
       "3    DummyFall     0           10    0.000502   0.000000   0.000084  1.000000   \n",
       "10   DummyFall     0            3    0.000464   0.000000   0.000025  1.000000   \n",
       "15   DummyFall     0           60    0.000548   0.000000   0.000503  1.000000   \n",
       "2     DummyADL     0           10    0.049612  20.000000   0.000000  0.000000   \n",
       "9     DummyADL     0            3    0.047079  20.000000   0.000000  0.000000   \n",
       "14    DummyADL     0           60    0.084942  20.000000   0.000000  0.000000   \n",
       "0      Catch22     0           10   15.283486  -4.106667   0.580645  0.857143   \n",
       "4      Catch22     1           10   15.315226  -4.106667   0.600000  0.857143   \n",
       "6      Catch22     2           10   15.310400  -5.106667   0.593750  0.904762   \n",
       "18     Catch22     0           10   15.286388  -4.487619   0.473684  0.857143   \n",
       "20     Catch22     1           10   15.322823  -6.344762   0.473684  0.857143   \n",
       "22     Catch22     2           10   15.879979  -7.678095   0.513514  0.904762   \n",
       "\n",
       "    specificity  f1-score       auc  false alarm rate  miss rate      gain  \\\n",
       "1      0.999999  0.883721  0.952380          0.430776   0.287184 -0.000019   \n",
       "5      0.999998  0.863636  0.952380          0.574367   0.287184 -0.000022   \n",
       "7      0.999998  0.863636  0.952380          0.574367   0.287184 -0.000022   \n",
       "19     0.999998  0.913043  0.999999          0.574367   0.000000 -0.000011   \n",
       "21     0.999998  0.913043  0.999999          0.574367   0.000000 -0.000011   \n",
       "23     0.999998  0.893617  0.999999          0.717959   0.000000 -0.000014   \n",
       "8      0.999998  0.772727  0.904761          0.861551   0.574367 -0.000039   \n",
       "11     0.999998  0.772727  0.904761          0.861551   0.574367 -0.000039   \n",
       "12     0.999998  0.772727  0.904761          0.861551   0.574367 -0.000039   \n",
       "24     0.999998  0.772727  0.904761          0.861551   0.574367 -0.000039   \n",
       "25     0.999998  0.772727  0.904761          0.861551   0.574367 -0.000039   \n",
       "26     0.999998  0.772727  0.904761          0.861551   0.574367 -0.000039   \n",
       "13     1.000000  0.842105  0.880952          0.143592   0.717959 -0.000031   \n",
       "16     0.999999  0.820513  0.880952          0.287184   0.717959 -0.000033   \n",
       "17     0.999999  0.800000  0.880952          0.430776   0.717959 -0.000036   \n",
       "27     1.000000  0.842105  0.880952          0.143592   0.717959 -0.000031   \n",
       "28     0.999999  0.820513  0.880952          0.287184   0.717959 -0.000033   \n",
       "29     0.999999  0.800000  0.880952          0.430776   0.717959 -0.000036   \n",
       "3      0.000000  0.000168  0.500000      35996.611232   0.000000 -0.696353   \n",
       "10     0.000000  0.000050  0.500000     119995.979428   0.000000 -2.321317   \n",
       "15     0.000000  0.001005  0.500000       5996.826620   0.000000 -0.116008   \n",
       "2      1.000000  0.000000  0.500000          0.000000   3.015429 -0.000117   \n",
       "9      1.000000  0.000000  0.500000          0.000000   3.015429 -0.000117   \n",
       "14     1.000000  0.000000  0.500000          0.000000   3.015429 -0.000117   \n",
       "0      0.999995  0.692308  0.928569          1.866694   0.430776 -0.000053   \n",
       "4      0.999995  0.705882  0.928569          1.723102   0.430776 -0.000050   \n",
       "6      0.999995  0.716981  0.952378          1.866694   0.287184 -0.000047   \n",
       "18     0.999992  0.610169  0.928567          2.871837   0.430776 -0.000072   \n",
       "20     0.999992  0.610169  0.928567          2.871837   0.430776 -0.000072   \n",
       "22     0.999993  0.655172  0.952377          2.584653   0.287184 -0.000061   \n",
       "\n",
       "      thresh  \n",
       "1   0.500000  \n",
       "5   0.500000  \n",
       "7   0.500000  \n",
       "19  0.404040  \n",
       "21  0.404040  \n",
       "23  0.404040  \n",
       "8   0.500000  \n",
       "11  0.500000  \n",
       "12  0.500000  \n",
       "24  0.010101  \n",
       "25  0.010101  \n",
       "26  0.010101  \n",
       "13  0.500000  \n",
       "16  0.500000  \n",
       "17  0.500000  \n",
       "27  0.484848  \n",
       "28  0.484848  \n",
       "29  0.484848  \n",
       "3   0.500000  \n",
       "10  0.500000  \n",
       "15  0.500000  \n",
       "2   0.500000  \n",
       "9   0.500000  \n",
       "14  0.500000  \n",
       "0   0.500000  \n",
       "4   0.500000  \n",
       "6   0.500000  \n",
       "18  0.378182  \n",
       "20  0.378182  \n",
       "22  0.378182  "
      ]
     },
     "execution_count": 26,
     "metadata": {},
     "output_type": "execute_result"
    }
   ],
   "source": [
    "thresh_df = pd.read_csv(RES_DIR / \"thresh_metrics_new.csv\")\n",
    "thresh_df.sort_values(by=['model', 'thresh'], ascending=False)"
   ]
  },
  {
   "cell_type": "code",
   "execution_count": null,
   "id": "b5db1506",
   "metadata": {},
   "outputs": [
    {
     "data": {
      "image/png": "[encoded data removed]",
      "text/plain": [
       "<Figure size 1500x1500 with 1 Axes>"
      ]
     },
     "metadata": {},
     "output_type": "display_data"
    }
   ],
   "source": [
    "metrics = [\"miss rate\", \"false alarm rate\"]\n",
    "real_thresh_df = thresh_df.query(\"not model.str.startswith('Dummy')\")\n",
    "dummy_adl_df = thresh_df.query(\"model=='DummyADL'\")\n",
    "records = []\n",
    "for model, g in real_thresh_df.groupby(\"model\"):\n",
    "    # g = g.query(\"seed==0\")\n",
    "    base = g.query(\"thresh==0.5\")  \n",
    "    tuned = g.query(\"thresh!=0.5\")\n",
    "    for m in metrics:\n",
    "        v0 = base[m].values[0]\n",
    "        v1 = tuned[m].values[0]\n",
    "        pct = 100 * (v1 - v0) / v0         # +% worse, −% better\n",
    "        records.append({\"model\": model, \"metric\": m, \"pct\": pct})\n",
    "delta_df = pd.DataFrame(records)\n",
    "\n",
    "fig, ax = plt.subplots(figsize=(5, 5), dpi=300)\n",
    "sns.barplot(data=delta_df, x=\"model\", y=\"pct\", hue=\"metric\",\n",
    "            palette=\"tab10\", errorbar=None, ax=ax)\n",
    "# zero-line & label\n",
    "ax.axhline(0, color=\"gray\", linewidth=1, label=\"untuned baseline\")\n",
    "\n",
    "# annotate % on every bar\n",
    "for container in ax.containers:\n",
    "    for bar in container:\n",
    "        height = bar.get_height()\n",
    "        txt = f\"{height:+.0f}%\"\n",
    "        if height == 0:\n",
    "            txt = \"0%\"\n",
    "        ax.text(bar.get_x() + bar.get_width()/2,\n",
    "                height + (1.5 if height>=0 else -1.5),   # small offset\n",
    "                txt, ha=\"center\", va=\"bottom\" if height>=0 else \"top\",\n",
    "                fontsize=10)\n",
    "ax.set_ylim(-120, 100)  # set y-axis limits\n",
    "ax.set_ylabel(\"% change vs. untuned\")\n",
    "ax.set_xlabel(\"\")\n",
    "ax.set_xticklabels(ax.get_xticklabels(), rotation=45, ha=\"right\")\n",
    "ax.legend()\n",
    "ax.grid(axis='x', alpha=0.5, which='both')\n",
    "sns.despine()\n",
    "plt.tight_layout()\n",
    "plt.savefig(FIG_DIR / \"tuning.pdf\", bbox_inches='tight')\n",
    "plt.show()"
   ]
  },
  {
   "cell_type": "code",
   "execution_count": 63,
   "id": "e3f25518",
   "metadata": {},
   "outputs": [],
   "source": [
    "mean_thresh = real_thresh_df.groupby([\"model\", \"thresh\"]).mean(numeric_only=True)\n",
    "std_thresh = real_thresh_df.groupby([\"model\", \"thresh\"]).std(numeric_only=True)\n",
    "# get a df with each mean value +/- std\n",
    "mean_thresh = mean_thresh.round(2)\n",
    "std_thresh = std_thresh.round(2)\n",
    "for col in mean_thresh.columns:\n",
    "\tmean_thresh[col] = mean_thresh[col].astype(str) + \" $\\pm$ \" + std_thresh[col].astype(str)\n",
    "mean_thresh.to_csv(RES_DIR / \"agg_thresh_metrics.csv\", index=True)"
   ]
  },
  {
   "cell_type": "code",
   "execution_count": null,
   "id": "e63dd109",
   "metadata": {},
   "outputs": [
    {
     "data": {
      "text/html": [
       "<div>\n",
       "<style scoped>\n",
       "    .dataframe tbody tr th:only-of-type {\n",
       "        vertical-align: middle;\n",
       "    }\n",
       "\n",
       "    .dataframe tbody tr th {\n",
       "        vertical-align: top;\n",
       "    }\n",
       "\n",
       "    .dataframe thead th {\n",
       "        text-align: right;\n",
       "    }\n",
       "</style>\n",
       "<table border=\"1\" class=\"dataframe\">\n",
       "  <thead>\n",
       "    <tr style=\"text-align: right;\">\n",
       "      <th></th>\n",
       "      <th></th>\n",
       "      <th>seed</th>\n",
       "      <th>window_size</th>\n",
       "      <th>runtime</th>\n",
       "      <th>delay</th>\n",
       "      <th>precision</th>\n",
       "      <th>recall</th>\n",
       "      <th>specificity</th>\n",
       "      <th>f1-score</th>\n",
       "      <th>auc</th>\n",
       "      <th>false alarm rate</th>\n",
       "      <th>miss rate</th>\n",
       "      <th>gain</th>\n",
       "    </tr>\n",
       "    <tr>\n",
       "      <th>model</th>\n",
       "      <th>thresh</th>\n",
       "      <th></th>\n",
       "      <th></th>\n",
       "      <th></th>\n",
       "      <th></th>\n",
       "      <th></th>\n",
       "      <th></th>\n",
       "      <th></th>\n",
       "      <th></th>\n",
       "      <th></th>\n",
       "      <th></th>\n",
       "      <th></th>\n",
       "      <th></th>\n",
       "    </tr>\n",
       "  </thead>\n",
       "  <tbody>\n",
       "    <tr>\n",
       "      <th rowspan=\"2\" valign=\"top\">Catch22</th>\n",
       "      <th>0.378182</th>\n",
       "      <td>1.0</td>\n",
       "      <td>0.0</td>\n",
       "      <td>0.017296</td>\n",
       "      <td>1.602389</td>\n",
       "      <td>0.022995</td>\n",
       "      <td>0.027493</td>\n",
       "      <td>4.606097e-07</td>\n",
       "      <td>0.025982</td>\n",
       "      <td>1.374667e-02</td>\n",
       "      <td>0.165806</td>\n",
       "      <td>0.082903</td>\n",
       "      <td>1.597976e-12</td>\n",
       "    </tr>\n",
       "    <tr>\n",
       "      <th>0.500000</th>\n",
       "      <td>1.0</td>\n",
       "      <td>0.0</td>\n",
       "      <td>0.010467</td>\n",
       "      <td>0.577350</td>\n",
       "      <td>0.009878</td>\n",
       "      <td>0.027493</td>\n",
       "      <td>2.303048e-07</td>\n",
       "      <td>0.012357</td>\n",
       "      <td>1.374638e-02</td>\n",
       "      <td>0.082903</td>\n",
       "      <td>0.082903</td>\n",
       "      <td>8.478157e-13</td>\n",
       "    </tr>\n",
       "    <tr>\n",
       "      <th rowspan=\"2\" valign=\"top\">ExtraTrees</th>\n",
       "      <th>0.484848</th>\n",
       "      <td>1.0</td>\n",
       "      <td>0.0</td>\n",
       "      <td>0.001876</td>\n",
       "      <td>0.000000</td>\n",
       "      <td>0.049561</td>\n",
       "      <td>0.000000</td>\n",
       "      <td>3.990668e-07</td>\n",
       "      <td>0.021055</td>\n",
       "      <td>1.995334e-07</td>\n",
       "      <td>0.143592</td>\n",
       "      <td>0.000000</td>\n",
       "      <td>5.519218e-13</td>\n",
       "    </tr>\n",
       "    <tr>\n",
       "      <th>0.500000</th>\n",
       "      <td>1.0</td>\n",
       "      <td>0.0</td>\n",
       "      <td>0.002533</td>\n",
       "      <td>0.329914</td>\n",
       "      <td>0.049561</td>\n",
       "      <td>0.000000</td>\n",
       "      <td>3.990668e-07</td>\n",
       "      <td>0.021055</td>\n",
       "      <td>1.995334e-07</td>\n",
       "      <td>0.143592</td>\n",
       "      <td>0.000000</td>\n",
       "      <td>5.519218e-13</td>\n",
       "    </tr>\n",
       "    <tr>\n",
       "      <th rowspan=\"2\" valign=\"top\">MiniRocket</th>\n",
       "      <th>0.010101</th>\n",
       "      <td>1.0</td>\n",
       "      <td>0.0</td>\n",
       "      <td>0.008770</td>\n",
       "      <td>0.000000</td>\n",
       "      <td>0.000000</td>\n",
       "      <td>0.000000</td>\n",
       "      <td>0.000000e+00</td>\n",
       "      <td>0.000000</td>\n",
       "      <td>0.000000e+00</td>\n",
       "      <td>0.000000</td>\n",
       "      <td>0.000000</td>\n",
       "      <td>0.000000e+00</td>\n",
       "    </tr>\n",
       "    <tr>\n",
       "      <th>0.500000</th>\n",
       "      <td>1.0</td>\n",
       "      <td>0.0</td>\n",
       "      <td>0.003884</td>\n",
       "      <td>0.000000</td>\n",
       "      <td>0.000000</td>\n",
       "      <td>0.000000</td>\n",
       "      <td>0.000000e+00</td>\n",
       "      <td>0.000000</td>\n",
       "      <td>0.000000e+00</td>\n",
       "      <td>0.000000</td>\n",
       "      <td>0.000000</td>\n",
       "      <td>0.000000e+00</td>\n",
       "    </tr>\n",
       "    <tr>\n",
       "      <th rowspan=\"2\" valign=\"top\">QUANT</th>\n",
       "      <th>0.414141</th>\n",
       "      <td>1.0</td>\n",
       "      <td>0.0</td>\n",
       "      <td>0.073645</td>\n",
       "      <td>0.756429</td>\n",
       "      <td>0.000000</td>\n",
       "      <td>0.000000</td>\n",
       "      <td>0.000000e+00</td>\n",
       "      <td>0.000000</td>\n",
       "      <td>0.000000e+00</td>\n",
       "      <td>0.000000</td>\n",
       "      <td>0.000000</td>\n",
       "      <td>0.000000e+00</td>\n",
       "    </tr>\n",
       "    <tr>\n",
       "      <th>0.500000</th>\n",
       "      <td>1.0</td>\n",
       "      <td>0.0</td>\n",
       "      <td>0.028004</td>\n",
       "      <td>0.125988</td>\n",
       "      <td>0.021679</td>\n",
       "      <td>0.000000</td>\n",
       "      <td>2.303048e-07</td>\n",
       "      <td>0.011596</td>\n",
       "      <td>1.151524e-07</td>\n",
       "      <td>0.082903</td>\n",
       "      <td>0.000000</td>\n",
       "      <td>3.185156e-13</td>\n",
       "    </tr>\n",
       "  </tbody>\n",
       "</table>\n",
       "</div>"
      ],
      "text/plain": [
       "                     seed  window_size   runtime     delay  precision  \\\n",
       "model      thresh                                                       \n",
       "Catch22    0.378182   1.0          0.0  0.017296  1.602389   0.022995   \n",
       "           0.500000   1.0          0.0  0.010467  0.577350   0.009878   \n",
       "ExtraTrees 0.484848   1.0          0.0  0.001876  0.000000   0.049561   \n",
       "           0.500000   1.0          0.0  0.002533  0.329914   0.049561   \n",
       "MiniRocket 0.010101   1.0          0.0  0.008770  0.000000   0.000000   \n",
       "           0.500000   1.0          0.0  0.003884  0.000000   0.000000   \n",
       "QUANT      0.414141   1.0          0.0  0.073645  0.756429   0.000000   \n",
       "           0.500000   1.0          0.0  0.028004  0.125988   0.021679   \n",
       "\n",
       "                       recall   specificity  f1-score           auc  \\\n",
       "model      thresh                                                     \n",
       "Catch22    0.378182  0.027493  4.606097e-07  0.025982  1.374667e-02   \n",
       "           0.500000  0.027493  2.303048e-07  0.012357  1.374638e-02   \n",
       "ExtraTrees 0.484848  0.000000  3.990668e-07  0.021055  1.995334e-07   \n",
       "           0.500000  0.000000  3.990668e-07  0.021055  1.995334e-07   \n",
       "MiniRocket 0.010101  0.000000  0.000000e+00  0.000000  0.000000e+00   \n",
       "           0.500000  0.000000  0.000000e+00  0.000000  0.000000e+00   \n",
       "QUANT      0.414141  0.000000  0.000000e+00  0.000000  0.000000e+00   \n",
       "           0.500000  0.000000  2.303048e-07  0.011596  1.151524e-07   \n",
       "\n",
       "                     false alarm rate  miss rate          gain  \n",
       "model      thresh                                               \n",
       "Catch22    0.378182          0.165806   0.082903  1.597976e-12  \n",
       "           0.500000          0.082903   0.082903  8.478157e-13  \n",
       "ExtraTrees 0.484848          0.143592   0.000000  5.519218e-13  \n",
       "           0.500000          0.143592   0.000000  5.519218e-13  \n",
       "MiniRocket 0.010101          0.000000   0.000000  0.000000e+00  \n",
       "           0.500000          0.000000   0.000000  0.000000e+00  \n",
       "QUANT      0.414141          0.000000   0.000000  0.000000e+00  \n",
       "           0.500000          0.082903   0.000000  3.185156e-13  "
      ]
     },
     "execution_count": 59,
     "metadata": {},
     "output_type": "execute_result"
    }
   ],
   "source": []
  }
 ],
 "metadata": {
  "kernelspec": {
   "display_name": "py310",
   "language": "python",
   "name": "python3"
  },
  "language_info": {
   "codemirror_mode": {
    "name": "ipython",
    "version": 3
   },
   "file_extension": ".py",
   "mimetype": "text/x-python",
   "name": "python",
   "nbconvert_exporter": "python",
   "pygments_lexer": "ipython3",
   "version": "3.10.18"
  }
 },
 "nbformat": 4,
 "nbformat_minor": 5
}
